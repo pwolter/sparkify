{
 "cells": [
  {
   "cell_type": "markdown",
   "metadata": {},
   "source": [
    "# Sparkify Project Workspace\n",
    "This workspace contains a tiny subset (128MB) of the full dataset available (12GB). Feel free to use this workspace to build your project, or to explore a smaller subset with Spark before deploying your cluster on the cloud. Instructions for setting up your Spark cluster is included in the last lesson of the Extracurricular Spark Course content.\n",
    "\n",
    "You can follow the steps below to guide your data analysis and model building portion of this project."
   ]
  },
  {
   "cell_type": "code",
   "execution_count": 1,
   "metadata": {},
   "outputs": [
    {
     "name": "stderr",
     "output_type": "stream",
     "text": [
      "/Users/pwolter/opt/anaconda3/lib/python3.7/site-packages/lightgbm/__init__.py:48: UserWarning: Starting from version 2.2.1, the library file in distribution wheels for macOS is built by the Apple Clang (Xcode_8.3.3) compiler.\n",
      "This means that in case of installing LightGBM from PyPI via the ``pip install lightgbm`` command, you don't need to install the gcc compiler anymore.\n",
      "Instead of that, you need to install the OpenMP library, which is required for running LightGBM on the system with the Apple Clang compiler.\n",
      "You can install the OpenMP library by the following command: ``brew install libomp``.\n",
      "  \"You can install the OpenMP library by the following command: ``brew install libomp``.\", UserWarning)\n"
     ]
    }
   ],
   "source": [
    "# These two are required to work in local mode\n",
    "# in my laptop\n",
    "import findspark\n",
    "findspark.init()\n",
    "\n",
    "# All libraries required fo rthis analysis\n",
    "from pyspark.sql import SparkSession\n",
    "from pyspark.sql.functions import *\n",
    "from pyspark.sql.types import StructType, StructField, StringType, TimestampType, IntegerType\n",
    "from pyspark.ml import Pipeline\n",
    "from pyspark.ml.feature import StringIndexer, VectorAssembler, Normalizer\n",
    "from pyspark.ml.evaluation import BinaryClassificationEvaluator, MulticlassClassificationEvaluator\n",
    "from pyspark.ml.tuning import ParamGridBuilder, CrossValidator\n",
    "from pyspark.ml.classification import LogisticRegression, RandomForestClassifier, GBTClassifier, NaiveBayes\n",
    "\n",
    "import pandas as pd\n",
    "import numpy as np\n",
    "import matplotlib.pyplot as plt\n",
    "\n",
    "import xgboost as xgb\n",
    "import lightgbm as lgb\n",
    "\n",
    "# I like inline plots\n",
    "%matplotlib inline\n",
    "\n",
    "# Setting to display max column width\n",
    "pd.set_option('display.max_colwidth', None)"
   ]
  },
  {
   "cell_type": "code",
   "execution_count": 2,
   "metadata": {},
   "outputs": [],
   "source": [
    "# create a Spark session\n",
    "spark = SparkSession.builder \\\n",
    "        .master(\"local[*]\") \\\n",
    "        .appName('Sparkify') \\\n",
    "        .getOrCreate()"
   ]
  },
  {
   "cell_type": "code",
   "execution_count": 3,
   "metadata": {},
   "outputs": [
    {
     "data": {
      "text/html": [
       "\n",
       "            <div>\n",
       "                <p><b>SparkSession - in-memory</b></p>\n",
       "                \n",
       "        <div>\n",
       "            <p><b>SparkContext</b></p>\n",
       "\n",
       "            <p><a href=\"http://10.216.6.6:4040\">Spark UI</a></p>\n",
       "\n",
       "            <dl>\n",
       "              <dt>Version</dt>\n",
       "                <dd><code>v2.4.5</code></dd>\n",
       "              <dt>Master</dt>\n",
       "                <dd><code>local[*]</code></dd>\n",
       "              <dt>AppName</dt>\n",
       "                <dd><code>Sparkify</code></dd>\n",
       "            </dl>\n",
       "        </div>\n",
       "        \n",
       "            </div>\n",
       "        "
      ],
      "text/plain": [
       "<pyspark.sql.session.SparkSession at 0x1a21e63790>"
      ]
     },
     "execution_count": 3,
     "metadata": {},
     "output_type": "execute_result"
    }
   ],
   "source": [
    "spark"
   ]
  },
  {
   "cell_type": "code",
   "execution_count": 4,
   "metadata": {},
   "outputs": [],
   "source": [
    "# To show output to fit Jupyter notebook\n",
    "# ref: https://stackoverflow.com/questions/50523950/improve-pyspark-dataframe-show-output-to-fit-jupyter-notebook\n",
    "spark.conf.set(\"spark.sql.repl.eagerEval.enabled\", True)\n",
    "# spark.conf.set(\"spark.executor.memory\", \"8g\")\n",
    "# spark.conf.set(\"spark.sql.tungsten.enabled\", False)\n",
    "# spark.conf.set(\"spark.executor.cores\", 1)\n",
    "#spark.conf.set(\"spark.driver.memory\", \"4g\")"
   ]
  },
  {
   "cell_type": "markdown",
   "metadata": {},
   "source": [
    "# Load and Clean Dataset\n",
    "In this workspace, the mini-dataset file is `mini_sparkify_event_data.json`. Load and clean the dataset, checking for invalid or missing data - for example, records without userids or sessionids. "
   ]
  },
  {
   "cell_type": "code",
   "execution_count": 5,
   "metadata": {},
   "outputs": [],
   "source": [
    "# Cerate a Dataframe reading the JSON file\n",
    "all_df = spark.read.json('mini_sparkify_event_data.json')"
   ]
  },
  {
   "cell_type": "code",
   "execution_count": 6,
   "metadata": {},
   "outputs": [
    {
     "data": {
      "text/plain": [
       "Row(artist='Martha Tilston', auth='Logged In', firstName='Colin', gender='M', itemInSession=50, lastName='Freeman', length=277.89016, level='paid', location='Bakersfield, CA', method='PUT', page='NextSong', registration=1538173362000, sessionId=29, song='Rockpools', status=200, ts=1538352117000, userAgent='Mozilla/5.0 (Windows NT 6.1; WOW64; rv:31.0) Gecko/20100101 Firefox/31.0', userId='30')"
      ]
     },
     "execution_count": 6,
     "metadata": {},
     "output_type": "execute_result"
    }
   ],
   "source": [
    "all_df.head()"
   ]
  },
  {
   "cell_type": "code",
   "execution_count": 7,
   "metadata": {},
   "outputs": [
    {
     "name": "stdout",
     "output_type": "stream",
     "text": [
      "root\n",
      " |-- artist: string (nullable = true)\n",
      " |-- auth: string (nullable = true)\n",
      " |-- firstName: string (nullable = true)\n",
      " |-- gender: string (nullable = true)\n",
      " |-- itemInSession: long (nullable = true)\n",
      " |-- lastName: string (nullable = true)\n",
      " |-- length: double (nullable = true)\n",
      " |-- level: string (nullable = true)\n",
      " |-- location: string (nullable = true)\n",
      " |-- method: string (nullable = true)\n",
      " |-- page: string (nullable = true)\n",
      " |-- registration: long (nullable = true)\n",
      " |-- sessionId: long (nullable = true)\n",
      " |-- song: string (nullable = true)\n",
      " |-- status: long (nullable = true)\n",
      " |-- ts: long (nullable = true)\n",
      " |-- userAgent: string (nullable = true)\n",
      " |-- userId: string (nullable = true)\n",
      "\n"
     ]
    }
   ],
   "source": [
    "# print the dataset schema to check columns types\n",
    "all_df.printSchema()"
   ]
  },
  {
   "cell_type": "code",
   "execution_count": 8,
   "metadata": {},
   "outputs": [],
   "source": [
    "df = all_df.sample(withReplacement=False, fraction=0.1, seed=42)\n",
    "# df = all_df.select(\"*\").persist()"
   ]
  },
  {
   "cell_type": "code",
   "execution_count": 9,
   "metadata": {},
   "outputs": [],
   "source": [
    "df = df.withColumn(\"userId\", df[\"userId\"].cast(IntegerType()))"
   ]
  },
  {
   "cell_type": "code",
   "execution_count": 10,
   "metadata": {},
   "outputs": [
    {
     "name": "stdout",
     "output_type": "stream",
     "text": [
      "Total number fo rows: 28820\n",
      "Number of columns: 18\n"
     ]
    }
   ],
   "source": [
    "# Let's print total number of rows and columns\n",
    "print(\"Total number fo rows: {}\\nNumber of columns: {}\".format(df.count(), len(df.columns)))"
   ]
  },
  {
   "cell_type": "code",
   "execution_count": 11,
   "metadata": {},
   "outputs": [],
   "source": [
    "# Convert it to Pandas to do a quick check\n",
    "pd_df = df.toPandas()"
   ]
  },
  {
   "cell_type": "code",
   "execution_count": 12,
   "metadata": {},
   "outputs": [
    {
     "name": "stdout",
     "output_type": "stream",
     "text": [
      "<class 'pandas.core.frame.DataFrame'>\n",
      "RangeIndex: 28820 entries, 0 to 28819\n",
      "Data columns (total 18 columns):\n",
      " #   Column         Non-Null Count  Dtype  \n",
      "---  ------         --------------  -----  \n",
      " 0   artist         22864 non-null  object \n",
      " 1   auth           28820 non-null  object \n",
      " 2   firstName      27978 non-null  object \n",
      " 3   gender         27978 non-null  object \n",
      " 4   itemInSession  28820 non-null  int64  \n",
      " 5   lastName       27978 non-null  object \n",
      " 6   length         22864 non-null  float64\n",
      " 7   level          28820 non-null  object \n",
      " 8   location       27978 non-null  object \n",
      " 9   method         28820 non-null  object \n",
      " 10  page           28820 non-null  object \n",
      " 11  registration   27978 non-null  float64\n",
      " 12  sessionId      28820 non-null  int64  \n",
      " 13  song           22864 non-null  object \n",
      " 14  status         28820 non-null  int64  \n",
      " 15  ts             28820 non-null  int64  \n",
      " 16  userAgent      27978 non-null  object \n",
      " 17  userId         27978 non-null  float64\n",
      "dtypes: float64(3), int64(4), object(11)\n",
      "memory usage: 4.0+ MB\n"
     ]
    }
   ],
   "source": [
    "# I like to see the data info provides in contrast to Spark's\n",
    "# that looks incomplete\n",
    "pd_df.info()"
   ]
  },
  {
   "cell_type": "code",
   "execution_count": 13,
   "metadata": {},
   "outputs": [
    {
     "data": {
      "text/html": [
       "<div>\n",
       "<style scoped>\n",
       "    .dataframe tbody tr th:only-of-type {\n",
       "        vertical-align: middle;\n",
       "    }\n",
       "\n",
       "    .dataframe tbody tr th {\n",
       "        vertical-align: top;\n",
       "    }\n",
       "\n",
       "    .dataframe thead th {\n",
       "        text-align: right;\n",
       "    }\n",
       "</style>\n",
       "<table border=\"1\" class=\"dataframe\">\n",
       "  <thead>\n",
       "    <tr style=\"text-align: right;\">\n",
       "      <th></th>\n",
       "      <th>count</th>\n",
       "      <th>unique</th>\n",
       "      <th>top</th>\n",
       "      <th>freq</th>\n",
       "      <th>mean</th>\n",
       "      <th>std</th>\n",
       "      <th>min</th>\n",
       "      <th>25%</th>\n",
       "      <th>50%</th>\n",
       "      <th>75%</th>\n",
       "      <th>max</th>\n",
       "    </tr>\n",
       "  </thead>\n",
       "  <tbody>\n",
       "    <tr>\n",
       "      <th>artist</th>\n",
       "      <td>22864</td>\n",
       "      <td>6616</td>\n",
       "      <td>Kings Of Leon</td>\n",
       "      <td>171</td>\n",
       "      <td>NaN</td>\n",
       "      <td>NaN</td>\n",
       "      <td>NaN</td>\n",
       "      <td>NaN</td>\n",
       "      <td>NaN</td>\n",
       "      <td>NaN</td>\n",
       "      <td>NaN</td>\n",
       "    </tr>\n",
       "    <tr>\n",
       "      <th>auth</th>\n",
       "      <td>28820</td>\n",
       "      <td>4</td>\n",
       "      <td>Logged In</td>\n",
       "      <td>27975</td>\n",
       "      <td>NaN</td>\n",
       "      <td>NaN</td>\n",
       "      <td>NaN</td>\n",
       "      <td>NaN</td>\n",
       "      <td>NaN</td>\n",
       "      <td>NaN</td>\n",
       "      <td>NaN</td>\n",
       "    </tr>\n",
       "    <tr>\n",
       "      <th>firstName</th>\n",
       "      <td>27978</td>\n",
       "      <td>189</td>\n",
       "      <td>Payton</td>\n",
       "      <td>991</td>\n",
       "      <td>NaN</td>\n",
       "      <td>NaN</td>\n",
       "      <td>NaN</td>\n",
       "      <td>NaN</td>\n",
       "      <td>NaN</td>\n",
       "      <td>NaN</td>\n",
       "      <td>NaN</td>\n",
       "    </tr>\n",
       "    <tr>\n",
       "      <th>gender</th>\n",
       "      <td>27978</td>\n",
       "      <td>2</td>\n",
       "      <td>F</td>\n",
       "      <td>15554</td>\n",
       "      <td>NaN</td>\n",
       "      <td>NaN</td>\n",
       "      <td>NaN</td>\n",
       "      <td>NaN</td>\n",
       "      <td>NaN</td>\n",
       "      <td>NaN</td>\n",
       "      <td>NaN</td>\n",
       "    </tr>\n",
       "    <tr>\n",
       "      <th>itemInSession</th>\n",
       "      <td>28820</td>\n",
       "      <td>NaN</td>\n",
       "      <td>NaN</td>\n",
       "      <td>NaN</td>\n",
       "      <td>116.07</td>\n",
       "      <td>130.825</td>\n",
       "      <td>0</td>\n",
       "      <td>27</td>\n",
       "      <td>72</td>\n",
       "      <td>159</td>\n",
       "      <td>1313</td>\n",
       "    </tr>\n",
       "    <tr>\n",
       "      <th>lastName</th>\n",
       "      <td>27978</td>\n",
       "      <td>172</td>\n",
       "      <td>Campbell</td>\n",
       "      <td>1407</td>\n",
       "      <td>NaN</td>\n",
       "      <td>NaN</td>\n",
       "      <td>NaN</td>\n",
       "      <td>NaN</td>\n",
       "      <td>NaN</td>\n",
       "      <td>NaN</td>\n",
       "      <td>NaN</td>\n",
       "    </tr>\n",
       "    <tr>\n",
       "      <th>length</th>\n",
       "      <td>22864</td>\n",
       "      <td>NaN</td>\n",
       "      <td>NaN</td>\n",
       "      <td>NaN</td>\n",
       "      <td>249.431</td>\n",
       "      <td>100.09</td>\n",
       "      <td>11.3628</td>\n",
       "      <td>199.49</td>\n",
       "      <td>235.232</td>\n",
       "      <td>277.446</td>\n",
       "      <td>2560.76</td>\n",
       "    </tr>\n",
       "    <tr>\n",
       "      <th>level</th>\n",
       "      <td>28820</td>\n",
       "      <td>2</td>\n",
       "      <td>paid</td>\n",
       "      <td>23043</td>\n",
       "      <td>NaN</td>\n",
       "      <td>NaN</td>\n",
       "      <td>NaN</td>\n",
       "      <td>NaN</td>\n",
       "      <td>NaN</td>\n",
       "      <td>NaN</td>\n",
       "      <td>NaN</td>\n",
       "    </tr>\n",
       "    <tr>\n",
       "      <th>location</th>\n",
       "      <td>27978</td>\n",
       "      <td>113</td>\n",
       "      <td>Los Angeles-Long Beach-Anaheim, CA</td>\n",
       "      <td>3063</td>\n",
       "      <td>NaN</td>\n",
       "      <td>NaN</td>\n",
       "      <td>NaN</td>\n",
       "      <td>NaN</td>\n",
       "      <td>NaN</td>\n",
       "      <td>NaN</td>\n",
       "      <td>NaN</td>\n",
       "    </tr>\n",
       "    <tr>\n",
       "      <th>method</th>\n",
       "      <td>28820</td>\n",
       "      <td>2</td>\n",
       "      <td>PUT</td>\n",
       "      <td>26204</td>\n",
       "      <td>NaN</td>\n",
       "      <td>NaN</td>\n",
       "      <td>NaN</td>\n",
       "      <td>NaN</td>\n",
       "      <td>NaN</td>\n",
       "      <td>NaN</td>\n",
       "      <td>NaN</td>\n",
       "    </tr>\n",
       "    <tr>\n",
       "      <th>page</th>\n",
       "      <td>28820</td>\n",
       "      <td>21</td>\n",
       "      <td>NextSong</td>\n",
       "      <td>22864</td>\n",
       "      <td>NaN</td>\n",
       "      <td>NaN</td>\n",
       "      <td>NaN</td>\n",
       "      <td>NaN</td>\n",
       "      <td>NaN</td>\n",
       "      <td>NaN</td>\n",
       "      <td>NaN</td>\n",
       "    </tr>\n",
       "    <tr>\n",
       "      <th>registration</th>\n",
       "      <td>27978</td>\n",
       "      <td>NaN</td>\n",
       "      <td>NaN</td>\n",
       "      <td>NaN</td>\n",
       "      <td>1.53534e+12</td>\n",
       "      <td>3.30943e+09</td>\n",
       "      <td>1.52138e+12</td>\n",
       "      <td>1.53344e+12</td>\n",
       "      <td>1.53666e+12</td>\n",
       "      <td>1.53767e+12</td>\n",
       "      <td>1.54137e+12</td>\n",
       "    </tr>\n",
       "    <tr>\n",
       "      <th>sessionId</th>\n",
       "      <td>28820</td>\n",
       "      <td>NaN</td>\n",
       "      <td>NaN</td>\n",
       "      <td>NaN</td>\n",
       "      <td>1039.71</td>\n",
       "      <td>727.621</td>\n",
       "      <td>1</td>\n",
       "      <td>335</td>\n",
       "      <td>1004</td>\n",
       "      <td>1672</td>\n",
       "      <td>2474</td>\n",
       "    </tr>\n",
       "    <tr>\n",
       "      <th>song</th>\n",
       "      <td>22864</td>\n",
       "      <td>13625</td>\n",
       "      <td>You're The One</td>\n",
       "      <td>129</td>\n",
       "      <td>NaN</td>\n",
       "      <td>NaN</td>\n",
       "      <td>NaN</td>\n",
       "      <td>NaN</td>\n",
       "      <td>NaN</td>\n",
       "      <td>NaN</td>\n",
       "      <td>NaN</td>\n",
       "    </tr>\n",
       "    <tr>\n",
       "      <th>status</th>\n",
       "      <td>28820</td>\n",
       "      <td>NaN</td>\n",
       "      <td>NaN</td>\n",
       "      <td>NaN</td>\n",
       "      <td>210.172</td>\n",
       "      <td>31.6559</td>\n",
       "      <td>200</td>\n",
       "      <td>200</td>\n",
       "      <td>200</td>\n",
       "      <td>200</td>\n",
       "      <td>404</td>\n",
       "    </tr>\n",
       "    <tr>\n",
       "      <th>ts</th>\n",
       "      <td>28820</td>\n",
       "      <td>NaN</td>\n",
       "      <td>NaN</td>\n",
       "      <td>NaN</td>\n",
       "      <td>1.54095e+12</td>\n",
       "      <td>1.51067e+09</td>\n",
       "      <td>1.53835e+12</td>\n",
       "      <td>1.53969e+12</td>\n",
       "      <td>1.54093e+12</td>\n",
       "      <td>1.54226e+12</td>\n",
       "      <td>1.54362e+12</td>\n",
       "    </tr>\n",
       "    <tr>\n",
       "      <th>userAgent</th>\n",
       "      <td>27978</td>\n",
       "      <td>56</td>\n",
       "      <td>\"Mozilla/5.0 (Windows NT 6.1; WOW64) AppleWebKit/537.36 (KHTML, like Gecko) Chrome/36.0.1985.143 Safari/537.36\"</td>\n",
       "      <td>2320</td>\n",
       "      <td>NaN</td>\n",
       "      <td>NaN</td>\n",
       "      <td>NaN</td>\n",
       "      <td>NaN</td>\n",
       "      <td>NaN</td>\n",
       "      <td>NaN</td>\n",
       "      <td>NaN</td>\n",
       "    </tr>\n",
       "    <tr>\n",
       "      <th>userId</th>\n",
       "      <td>27978</td>\n",
       "      <td>NaN</td>\n",
       "      <td>NaN</td>\n",
       "      <td>NaN</td>\n",
       "      <td>59193</td>\n",
       "      <td>108764</td>\n",
       "      <td>2</td>\n",
       "      <td>51</td>\n",
       "      <td>98</td>\n",
       "      <td>100004</td>\n",
       "      <td>300025</td>\n",
       "    </tr>\n",
       "  </tbody>\n",
       "</table>\n",
       "</div>"
      ],
      "text/plain": [
       "               count unique  \\\n",
       "artist         22864   6616   \n",
       "auth           28820      4   \n",
       "firstName      27978    189   \n",
       "gender         27978      2   \n",
       "itemInSession  28820    NaN   \n",
       "lastName       27978    172   \n",
       "length         22864    NaN   \n",
       "level          28820      2   \n",
       "location       27978    113   \n",
       "method         28820      2   \n",
       "page           28820     21   \n",
       "registration   27978    NaN   \n",
       "sessionId      28820    NaN   \n",
       "song           22864  13625   \n",
       "status         28820    NaN   \n",
       "ts             28820    NaN   \n",
       "userAgent      27978     56   \n",
       "userId         27978    NaN   \n",
       "\n",
       "                                                                                                                           top  \\\n",
       "artist                                                                                                           Kings Of Leon   \n",
       "auth                                                                                                                 Logged In   \n",
       "firstName                                                                                                               Payton   \n",
       "gender                                                                                                                       F   \n",
       "itemInSession                                                                                                              NaN   \n",
       "lastName                                                                                                              Campbell   \n",
       "length                                                                                                                     NaN   \n",
       "level                                                                                                                     paid   \n",
       "location                                                                                    Los Angeles-Long Beach-Anaheim, CA   \n",
       "method                                                                                                                     PUT   \n",
       "page                                                                                                                  NextSong   \n",
       "registration                                                                                                               NaN   \n",
       "sessionId                                                                                                                  NaN   \n",
       "song                                                                                                            You're The One   \n",
       "status                                                                                                                     NaN   \n",
       "ts                                                                                                                         NaN   \n",
       "userAgent      \"Mozilla/5.0 (Windows NT 6.1; WOW64) AppleWebKit/537.36 (KHTML, like Gecko) Chrome/36.0.1985.143 Safari/537.36\"   \n",
       "userId                                                                                                                     NaN   \n",
       "\n",
       "                freq         mean          std          min          25%  \\\n",
       "artist           171          NaN          NaN          NaN          NaN   \n",
       "auth           27975          NaN          NaN          NaN          NaN   \n",
       "firstName        991          NaN          NaN          NaN          NaN   \n",
       "gender         15554          NaN          NaN          NaN          NaN   \n",
       "itemInSession    NaN       116.07      130.825            0           27   \n",
       "lastName        1407          NaN          NaN          NaN          NaN   \n",
       "length           NaN      249.431       100.09      11.3628       199.49   \n",
       "level          23043          NaN          NaN          NaN          NaN   \n",
       "location        3063          NaN          NaN          NaN          NaN   \n",
       "method         26204          NaN          NaN          NaN          NaN   \n",
       "page           22864          NaN          NaN          NaN          NaN   \n",
       "registration     NaN  1.53534e+12  3.30943e+09  1.52138e+12  1.53344e+12   \n",
       "sessionId        NaN      1039.71      727.621            1          335   \n",
       "song             129          NaN          NaN          NaN          NaN   \n",
       "status           NaN      210.172      31.6559          200          200   \n",
       "ts               NaN  1.54095e+12  1.51067e+09  1.53835e+12  1.53969e+12   \n",
       "userAgent       2320          NaN          NaN          NaN          NaN   \n",
       "userId           NaN        59193       108764            2           51   \n",
       "\n",
       "                       50%          75%          max  \n",
       "artist                 NaN          NaN          NaN  \n",
       "auth                   NaN          NaN          NaN  \n",
       "firstName              NaN          NaN          NaN  \n",
       "gender                 NaN          NaN          NaN  \n",
       "itemInSession           72          159         1313  \n",
       "lastName               NaN          NaN          NaN  \n",
       "length             235.232      277.446      2560.76  \n",
       "level                  NaN          NaN          NaN  \n",
       "location               NaN          NaN          NaN  \n",
       "method                 NaN          NaN          NaN  \n",
       "page                   NaN          NaN          NaN  \n",
       "registration   1.53666e+12  1.53767e+12  1.54137e+12  \n",
       "sessionId             1004         1672         2474  \n",
       "song                   NaN          NaN          NaN  \n",
       "status                 200          200          404  \n",
       "ts             1.54093e+12  1.54226e+12  1.54362e+12  \n",
       "userAgent              NaN          NaN          NaN  \n",
       "userId                  98       100004       300025  "
      ]
     },
     "execution_count": 13,
     "metadata": {},
     "output_type": "execute_result"
    }
   ],
   "source": [
    "# Pandas describe gives lots of good information I like to see\n",
    "# like unique values per column, count (and NaN by default) etc.\n",
    "pd_df.describe(include='all').T"
   ]
  },
  {
   "cell_type": "code",
   "execution_count": 14,
   "metadata": {},
   "outputs": [
    {
     "data": {
      "text/html": [
       "<table border='1'>\n",
       "<tr><th>artist</th><th>auth</th><th>firstName</th><th>gender</th><th>itemInSession</th><th>lastName</th><th>length</th><th>level</th><th>location</th><th>method</th><th>page</th><th>registration</th><th>sessionId</th><th>song</th><th>status</th><th>ts</th><th>userAgent</th><th>userId</th></tr>\n",
       "<tr><td>The Velvet Underg...</td><td>Logged In</td><td>Micah</td><td>M</td><td>82</td><td>Long</td><td>260.46649</td><td>free</td><td>Boston-Cambridge-...</td><td>PUT</td><td>NextSong</td><td>1538331630000</td><td>8</td><td>Run Run Run</td><td>200</td><td>1538352886000</td><td>&quot;Mozilla/5.0 (Win...</td><td>9</td></tr>\n",
       "<tr><td>Britt Nicole</td><td>Logged In</td><td>Micah</td><td>M</td><td>83</td><td>Long</td><td>229.8771</td><td>free</td><td>Boston-Cambridge-...</td><td>PUT</td><td>NextSong</td><td>1538331630000</td><td>8</td><td>Walk On The Water</td><td>200</td><td>1538353146000</td><td>&quot;Mozilla/5.0 (Win...</td><td>9</td></tr>\n",
       "<tr><td>null</td><td>Logged In</td><td>Micah</td><td>M</td><td>84</td><td>Long</td><td>null</td><td>free</td><td>Boston-Cambridge-...</td><td>GET</td><td>Roll Advert</td><td>1538331630000</td><td>8</td><td>null</td><td>200</td><td>1538353150000</td><td>&quot;Mozilla/5.0 (Win...</td><td>9</td></tr>\n",
       "<tr><td>Ratatat</td><td>Logged In</td><td>Micah</td><td>M</td><td>88</td><td>Long</td><td>229.77261</td><td>free</td><td>Boston-Cambridge-...</td><td>PUT</td><td>NextSong</td><td>1538331630000</td><td>8</td><td>Swisha</td><td>200</td><td>1538353744000</td><td>&quot;Mozilla/5.0 (Win...</td><td>9</td></tr>\n",
       "<tr><td>Lambert_ Hendrick...</td><td>Logged In</td><td>Colin</td><td>M</td><td>63</td><td>Freeman</td><td>139.04934</td><td>paid</td><td>Bakersfield, CA</td><td>PUT</td><td>NextSong</td><td>1538173362000</td><td>29</td><td>Halloween Spooks</td><td>200</td><td>1538354806000</td><td>Mozilla/5.0 (Wind...</td><td>30</td></tr>\n",
       "<tr><td>Vampire Weekend</td><td>Logged In</td><td>Alexi</td><td>F</td><td>6</td><td>Warren</td><td>243.04281</td><td>paid</td><td>Spokane-Spokane V...</td><td>PUT</td><td>NextSong</td><td>1532482662000</td><td>53</td><td>The Kids Don\u0019t St...</td><td>200</td><td>1538355254000</td><td>Mozilla/5.0 (Wind...</td><td>54</td></tr>\n",
       "<tr><td>The All-American ...</td><td>Logged In</td><td>Colin</td><td>M</td><td>66</td><td>Freeman</td><td>238.86322</td><td>paid</td><td>Bakersfield, CA</td><td>PUT</td><td>NextSong</td><td>1538173362000</td><td>29</td><td>Move Along</td><td>200</td><td>1538355473000</td><td>Mozilla/5.0 (Wind...</td><td>30</td></tr>\n",
       "<tr><td>null</td><td>Logged Out</td><td>null</td><td>null</td><td>100</td><td>null</td><td>null</td><td>free</td><td>null</td><td>GET</td><td>Home</td><td>null</td><td>8</td><td>null</td><td>200</td><td>1538355745000</td><td>null</td><td>null</td></tr>\n",
       "<tr><td>null</td><td>Logged Out</td><td>null</td><td>null</td><td>101</td><td>null</td><td>null</td><td>free</td><td>null</td><td>GET</td><td>Help</td><td>null</td><td>8</td><td>null</td><td>200</td><td>1538355807000</td><td>null</td><td>null</td></tr>\n",
       "<tr><td>null</td><td>Logged In</td><td>Warren</td><td>M</td><td>1</td><td>Miller</td><td>null</td><td>free</td><td>Baltimore-Columbi...</td><td>PUT</td><td>Logout</td><td>1538169823000</td><td>240</td><td>null</td><td>307</td><td>1538356651000</td><td>Mozilla/5.0 (Wind...</td><td>4</td></tr>\n",
       "<tr><td>Parachute</td><td>Logged In</td><td>Warren</td><td>M</td><td>5</td><td>Miller</td><td>221.67465</td><td>free</td><td>Baltimore-Columbi...</td><td>PUT</td><td>NextSong</td><td>1538169823000</td><td>240</td><td>Ghost</td><td>200</td><td>1538356889000</td><td>Mozilla/5.0 (Wind...</td><td>4</td></tr>\n",
       "<tr><td>null</td><td>Logged In</td><td>Colin</td><td>M</td><td>77</td><td>Freeman</td><td>null</td><td>paid</td><td>Bakersfield, CA</td><td>PUT</td><td>Thumbs Up</td><td>1538173362000</td><td>29</td><td>null</td><td>307</td><td>1538357649000</td><td>Mozilla/5.0 (Wind...</td><td>30</td></tr>\n",
       "<tr><td>En Vogue</td><td>Logged In</td><td>Warren</td><td>M</td><td>10</td><td>Miller</td><td>250.46159</td><td>free</td><td>Baltimore-Columbi...</td><td>PUT</td><td>NextSong</td><td>1538169823000</td><td>240</td><td>Free Your Mind</td><td>200</td><td>1538357746000</td><td>Mozilla/5.0 (Wind...</td><td>4</td></tr>\n",
       "<tr><td>Foo Fighters</td><td>Logged In</td><td>Micah</td><td>M</td><td>114</td><td>Long</td><td>235.28444</td><td>free</td><td>Boston-Cambridge-...</td><td>PUT</td><td>NextSong</td><td>1538331630000</td><td>8</td><td>Learn To Fly</td><td>200</td><td>1538357839000</td><td>&quot;Mozilla/5.0 (Win...</td><td>9</td></tr>\n",
       "<tr><td>Righeira</td><td>Logged In</td><td>Colin</td><td>M</td><td>80</td><td>Freeman</td><td>218.53995</td><td>paid</td><td>Bakersfield, CA</td><td>PUT</td><td>NextSong</td><td>1538173362000</td><td>29</td><td>Vamos a la Playa</td><td>200</td><td>1538358314000</td><td>Mozilla/5.0 (Wind...</td><td>30</td></tr>\n",
       "<tr><td>null</td><td>Logged In</td><td>Zyonna</td><td>F</td><td>1</td><td>Bird</td><td>null</td><td>free</td><td>Columbus, GA-AL</td><td>GET</td><td>Home</td><td>1536663902000</td><td>241</td><td>null</td><td>200</td><td>1538360138000</td><td>Mozilla/5.0 (Wind...</td><td>88</td></tr>\n",
       "<tr><td>The Dingees</td><td>Logged In</td><td>Alex</td><td>M</td><td>9</td><td>Hogan</td><td>221.23057</td><td>free</td><td>Denver-Aurora-Lak...</td><td>PUT</td><td>NextSong</td><td>1535066380000</td><td>100</td><td>Summer</td><td>200</td><td>1538360211000</td><td>Mozilla/5.0 (Wind...</td><td>101</td></tr>\n",
       "<tr><td>We The Kings</td><td>Logged In</td><td>Warren</td><td>M</td><td>18</td><td>Miller</td><td>206.52363</td><td>free</td><td>Baltimore-Columbi...</td><td>PUT</td><td>NextSong</td><td>1538169823000</td><td>240</td><td>Secret Valentine</td><td>200</td><td>1538360577000</td><td>Mozilla/5.0 (Wind...</td><td>4</td></tr>\n",
       "<tr><td>null</td><td>Logged In</td><td>Colin</td><td>M</td><td>86</td><td>Freeman</td><td>null</td><td>paid</td><td>Bakersfield, CA</td><td>GET</td><td>Roll Advert</td><td>1538173362000</td><td>29</td><td>null</td><td>200</td><td>1538360737000</td><td>Mozilla/5.0 (Wind...</td><td>30</td></tr>\n",
       "<tr><td>Stephen Marley / ...</td><td>Logged In</td><td>Alex</td><td>M</td><td>12</td><td>Hogan</td><td>220.52526</td><td>free</td><td>Denver-Aurora-Lak...</td><td>PUT</td><td>NextSong</td><td>1535066380000</td><td>100</td><td>The Traffic Jam</td><td>200</td><td>1538360973000</td><td>Mozilla/5.0 (Wind...</td><td>101</td></tr>\n",
       "</table>\n",
       "only showing top 20 rows\n"
      ],
      "text/plain": [
       "+--------------------+----------+---------+------+-------------+--------+---------+-----+--------------------+------+-----------+-------------+---------+--------------------+------+-------------+--------------------+------+\n",
       "|              artist|      auth|firstName|gender|itemInSession|lastName|   length|level|            location|method|       page| registration|sessionId|                song|status|           ts|           userAgent|userId|\n",
       "+--------------------+----------+---------+------+-------------+--------+---------+-----+--------------------+------+-----------+-------------+---------+--------------------+------+-------------+--------------------+------+\n",
       "|The Velvet Underg...| Logged In|    Micah|     M|           82|    Long|260.46649| free|Boston-Cambridge-...|   PUT|   NextSong|1538331630000|        8|         Run Run Run|   200|1538352886000|\"Mozilla/5.0 (Win...|     9|\n",
       "|        Britt Nicole| Logged In|    Micah|     M|           83|    Long| 229.8771| free|Boston-Cambridge-...|   PUT|   NextSong|1538331630000|        8|   Walk On The Water|   200|1538353146000|\"Mozilla/5.0 (Win...|     9|\n",
       "|                null| Logged In|    Micah|     M|           84|    Long|     null| free|Boston-Cambridge-...|   GET|Roll Advert|1538331630000|        8|                null|   200|1538353150000|\"Mozilla/5.0 (Win...|     9|\n",
       "|             Ratatat| Logged In|    Micah|     M|           88|    Long|229.77261| free|Boston-Cambridge-...|   PUT|   NextSong|1538331630000|        8|              Swisha|   200|1538353744000|\"Mozilla/5.0 (Win...|     9|\n",
       "|Lambert_ Hendrick...| Logged In|    Colin|     M|           63| Freeman|139.04934| paid|     Bakersfield, CA|   PUT|   NextSong|1538173362000|       29|    Halloween Spooks|   200|1538354806000|Mozilla/5.0 (Wind...|    30|\n",
       "|     Vampire Weekend| Logged In|    Alexi|     F|            6|  Warren|243.04281| paid|Spokane-Spokane V...|   PUT|   NextSong|1532482662000|       53|The Kids Don\u0019t St...|   200|1538355254000|Mozilla/5.0 (Wind...|    54|\n",
       "|The All-American ...| Logged In|    Colin|     M|           66| Freeman|238.86322| paid|     Bakersfield, CA|   PUT|   NextSong|1538173362000|       29|          Move Along|   200|1538355473000|Mozilla/5.0 (Wind...|    30|\n",
       "|                null|Logged Out|     null|  null|          100|    null|     null| free|                null|   GET|       Home|         null|        8|                null|   200|1538355745000|                null|  null|\n",
       "|                null|Logged Out|     null|  null|          101|    null|     null| free|                null|   GET|       Help|         null|        8|                null|   200|1538355807000|                null|  null|\n",
       "|                null| Logged In|   Warren|     M|            1|  Miller|     null| free|Baltimore-Columbi...|   PUT|     Logout|1538169823000|      240|                null|   307|1538356651000|Mozilla/5.0 (Wind...|     4|\n",
       "|           Parachute| Logged In|   Warren|     M|            5|  Miller|221.67465| free|Baltimore-Columbi...|   PUT|   NextSong|1538169823000|      240|               Ghost|   200|1538356889000|Mozilla/5.0 (Wind...|     4|\n",
       "|                null| Logged In|    Colin|     M|           77| Freeman|     null| paid|     Bakersfield, CA|   PUT|  Thumbs Up|1538173362000|       29|                null|   307|1538357649000|Mozilla/5.0 (Wind...|    30|\n",
       "|            En Vogue| Logged In|   Warren|     M|           10|  Miller|250.46159| free|Baltimore-Columbi...|   PUT|   NextSong|1538169823000|      240|      Free Your Mind|   200|1538357746000|Mozilla/5.0 (Wind...|     4|\n",
       "|        Foo Fighters| Logged In|    Micah|     M|          114|    Long|235.28444| free|Boston-Cambridge-...|   PUT|   NextSong|1538331630000|        8|        Learn To Fly|   200|1538357839000|\"Mozilla/5.0 (Win...|     9|\n",
       "|            Righeira| Logged In|    Colin|     M|           80| Freeman|218.53995| paid|     Bakersfield, CA|   PUT|   NextSong|1538173362000|       29|    Vamos a la Playa|   200|1538358314000|Mozilla/5.0 (Wind...|    30|\n",
       "|                null| Logged In|   Zyonna|     F|            1|    Bird|     null| free|     Columbus, GA-AL|   GET|       Home|1536663902000|      241|                null|   200|1538360138000|Mozilla/5.0 (Wind...|    88|\n",
       "|         The Dingees| Logged In|     Alex|     M|            9|   Hogan|221.23057| free|Denver-Aurora-Lak...|   PUT|   NextSong|1535066380000|      100|              Summer|   200|1538360211000|Mozilla/5.0 (Wind...|   101|\n",
       "|        We The Kings| Logged In|   Warren|     M|           18|  Miller|206.52363| free|Baltimore-Columbi...|   PUT|   NextSong|1538169823000|      240|    Secret Valentine|   200|1538360577000|Mozilla/5.0 (Wind...|     4|\n",
       "|                null| Logged In|    Colin|     M|           86| Freeman|     null| paid|     Bakersfield, CA|   GET|Roll Advert|1538173362000|       29|                null|   200|1538360737000|Mozilla/5.0 (Wind...|    30|\n",
       "|Stephen Marley / ...| Logged In|     Alex|     M|           12|   Hogan|220.52526| free|Denver-Aurora-Lak...|   PUT|   NextSong|1535066380000|      100|     The Traffic Jam|   200|1538360973000|Mozilla/5.0 (Wind...|   101|\n",
       "+--------------------+----------+---------+------+-------------+--------+---------+-----+--------------------+------+-----------+-------------+---------+--------------------+------+-------------+--------------------+------+\n",
       "only showing top 20 rows"
      ]
     },
     "execution_count": 14,
     "metadata": {},
     "output_type": "execute_result"
    }
   ],
   "source": [
    "df.persist()"
   ]
  },
  {
   "cell_type": "markdown",
   "metadata": {},
   "source": [
    "# Exploratory Data Analysis\n",
    "When you're working with the full dataset, perform EDA by loading a small subset of the data and doing basic manipulations within Spark. In this workspace, you are already provided a small subset of data you can explore.\n",
    "\n",
    "### Define Churn\n",
    "\n",
    "Once you've done some preliminary analysis, create a column `Churn` to use as the label for your model. I suggest using the `Cancellation Confirmation` events to define your churn, which happen for both paid and free users. As a bonus task, you can also look into the `Downgrade` events.\n",
    "\n",
    "### Explore Data\n",
    "Once you've defined churn, perform some exploratory data analysis to observe the behavior for users who stayed vs users who churned. You can start by exploring aggregates on these two groups of users, observing how much of a specific action they experienced per a certain time unit or number of songs played."
   ]
  },
  {
   "cell_type": "code",
   "execution_count": 15,
   "metadata": {},
   "outputs": [],
   "source": [
    "# I first create a second dataframe with only the columns I am interested\n",
    "columns_to_include = ['auth', 'gender', 'length', 'level', 'location', 'page', 'sessionId', 'song', 'status', 'ts', 'userAgent', 'userId']"
   ]
  },
  {
   "cell_type": "code",
   "execution_count": 16,
   "metadata": {},
   "outputs": [],
   "source": [
    "df_new = df.select(columns_to_include).persist()"
   ]
  },
  {
   "cell_type": "code",
   "execution_count": 17,
   "metadata": {},
   "outputs": [
    {
     "data": {
      "text/html": [
       "<table border='1'>\n",
       "<tr><th>auth</th><th>gender</th><th>length</th><th>level</th><th>location</th><th>page</th><th>sessionId</th><th>song</th><th>status</th><th>ts</th><th>userAgent</th><th>userId</th></tr>\n",
       "<tr><td>Logged In</td><td>M</td><td>260.46649</td><td>free</td><td>Boston-Cambridge-...</td><td>NextSong</td><td>8</td><td>Run Run Run</td><td>200</td><td>1538352886000</td><td>&quot;Mozilla/5.0 (Win...</td><td>9</td></tr>\n",
       "<tr><td>Logged In</td><td>M</td><td>229.8771</td><td>free</td><td>Boston-Cambridge-...</td><td>NextSong</td><td>8</td><td>Walk On The Water</td><td>200</td><td>1538353146000</td><td>&quot;Mozilla/5.0 (Win...</td><td>9</td></tr>\n",
       "<tr><td>Logged In</td><td>M</td><td>null</td><td>free</td><td>Boston-Cambridge-...</td><td>Roll Advert</td><td>8</td><td>null</td><td>200</td><td>1538353150000</td><td>&quot;Mozilla/5.0 (Win...</td><td>9</td></tr>\n",
       "<tr><td>Logged In</td><td>M</td><td>229.77261</td><td>free</td><td>Boston-Cambridge-...</td><td>NextSong</td><td>8</td><td>Swisha</td><td>200</td><td>1538353744000</td><td>&quot;Mozilla/5.0 (Win...</td><td>9</td></tr>\n",
       "<tr><td>Logged In</td><td>M</td><td>139.04934</td><td>paid</td><td>Bakersfield, CA</td><td>NextSong</td><td>29</td><td>Halloween Spooks</td><td>200</td><td>1538354806000</td><td>Mozilla/5.0 (Wind...</td><td>30</td></tr>\n",
       "<tr><td>Logged In</td><td>F</td><td>243.04281</td><td>paid</td><td>Spokane-Spokane V...</td><td>NextSong</td><td>53</td><td>The Kids Don\u0019t St...</td><td>200</td><td>1538355254000</td><td>Mozilla/5.0 (Wind...</td><td>54</td></tr>\n",
       "<tr><td>Logged In</td><td>M</td><td>238.86322</td><td>paid</td><td>Bakersfield, CA</td><td>NextSong</td><td>29</td><td>Move Along</td><td>200</td><td>1538355473000</td><td>Mozilla/5.0 (Wind...</td><td>30</td></tr>\n",
       "<tr><td>Logged Out</td><td>null</td><td>null</td><td>free</td><td>null</td><td>Home</td><td>8</td><td>null</td><td>200</td><td>1538355745000</td><td>null</td><td>null</td></tr>\n",
       "<tr><td>Logged Out</td><td>null</td><td>null</td><td>free</td><td>null</td><td>Help</td><td>8</td><td>null</td><td>200</td><td>1538355807000</td><td>null</td><td>null</td></tr>\n",
       "<tr><td>Logged In</td><td>M</td><td>null</td><td>free</td><td>Baltimore-Columbi...</td><td>Logout</td><td>240</td><td>null</td><td>307</td><td>1538356651000</td><td>Mozilla/5.0 (Wind...</td><td>4</td></tr>\n",
       "<tr><td>Logged In</td><td>M</td><td>221.67465</td><td>free</td><td>Baltimore-Columbi...</td><td>NextSong</td><td>240</td><td>Ghost</td><td>200</td><td>1538356889000</td><td>Mozilla/5.0 (Wind...</td><td>4</td></tr>\n",
       "<tr><td>Logged In</td><td>M</td><td>null</td><td>paid</td><td>Bakersfield, CA</td><td>Thumbs Up</td><td>29</td><td>null</td><td>307</td><td>1538357649000</td><td>Mozilla/5.0 (Wind...</td><td>30</td></tr>\n",
       "<tr><td>Logged In</td><td>M</td><td>250.46159</td><td>free</td><td>Baltimore-Columbi...</td><td>NextSong</td><td>240</td><td>Free Your Mind</td><td>200</td><td>1538357746000</td><td>Mozilla/5.0 (Wind...</td><td>4</td></tr>\n",
       "<tr><td>Logged In</td><td>M</td><td>235.28444</td><td>free</td><td>Boston-Cambridge-...</td><td>NextSong</td><td>8</td><td>Learn To Fly</td><td>200</td><td>1538357839000</td><td>&quot;Mozilla/5.0 (Win...</td><td>9</td></tr>\n",
       "<tr><td>Logged In</td><td>M</td><td>218.53995</td><td>paid</td><td>Bakersfield, CA</td><td>NextSong</td><td>29</td><td>Vamos a la Playa</td><td>200</td><td>1538358314000</td><td>Mozilla/5.0 (Wind...</td><td>30</td></tr>\n",
       "<tr><td>Logged In</td><td>F</td><td>null</td><td>free</td><td>Columbus, GA-AL</td><td>Home</td><td>241</td><td>null</td><td>200</td><td>1538360138000</td><td>Mozilla/5.0 (Wind...</td><td>88</td></tr>\n",
       "<tr><td>Logged In</td><td>M</td><td>221.23057</td><td>free</td><td>Denver-Aurora-Lak...</td><td>NextSong</td><td>100</td><td>Summer</td><td>200</td><td>1538360211000</td><td>Mozilla/5.0 (Wind...</td><td>101</td></tr>\n",
       "<tr><td>Logged In</td><td>M</td><td>206.52363</td><td>free</td><td>Baltimore-Columbi...</td><td>NextSong</td><td>240</td><td>Secret Valentine</td><td>200</td><td>1538360577000</td><td>Mozilla/5.0 (Wind...</td><td>4</td></tr>\n",
       "<tr><td>Logged In</td><td>M</td><td>null</td><td>paid</td><td>Bakersfield, CA</td><td>Roll Advert</td><td>29</td><td>null</td><td>200</td><td>1538360737000</td><td>Mozilla/5.0 (Wind...</td><td>30</td></tr>\n",
       "<tr><td>Logged In</td><td>M</td><td>220.52526</td><td>free</td><td>Denver-Aurora-Lak...</td><td>NextSong</td><td>100</td><td>The Traffic Jam</td><td>200</td><td>1538360973000</td><td>Mozilla/5.0 (Wind...</td><td>101</td></tr>\n",
       "</table>\n",
       "only showing top 20 rows\n"
      ],
      "text/plain": [
       "+----------+------+---------+-----+--------------------+-----------+---------+--------------------+------+-------------+--------------------+------+\n",
       "|      auth|gender|   length|level|            location|       page|sessionId|                song|status|           ts|           userAgent|userId|\n",
       "+----------+------+---------+-----+--------------------+-----------+---------+--------------------+------+-------------+--------------------+------+\n",
       "| Logged In|     M|260.46649| free|Boston-Cambridge-...|   NextSong|        8|         Run Run Run|   200|1538352886000|\"Mozilla/5.0 (Win...|     9|\n",
       "| Logged In|     M| 229.8771| free|Boston-Cambridge-...|   NextSong|        8|   Walk On The Water|   200|1538353146000|\"Mozilla/5.0 (Win...|     9|\n",
       "| Logged In|     M|     null| free|Boston-Cambridge-...|Roll Advert|        8|                null|   200|1538353150000|\"Mozilla/5.0 (Win...|     9|\n",
       "| Logged In|     M|229.77261| free|Boston-Cambridge-...|   NextSong|        8|              Swisha|   200|1538353744000|\"Mozilla/5.0 (Win...|     9|\n",
       "| Logged In|     M|139.04934| paid|     Bakersfield, CA|   NextSong|       29|    Halloween Spooks|   200|1538354806000|Mozilla/5.0 (Wind...|    30|\n",
       "| Logged In|     F|243.04281| paid|Spokane-Spokane V...|   NextSong|       53|The Kids Don\u0019t St...|   200|1538355254000|Mozilla/5.0 (Wind...|    54|\n",
       "| Logged In|     M|238.86322| paid|     Bakersfield, CA|   NextSong|       29|          Move Along|   200|1538355473000|Mozilla/5.0 (Wind...|    30|\n",
       "|Logged Out|  null|     null| free|                null|       Home|        8|                null|   200|1538355745000|                null|  null|\n",
       "|Logged Out|  null|     null| free|                null|       Help|        8|                null|   200|1538355807000|                null|  null|\n",
       "| Logged In|     M|     null| free|Baltimore-Columbi...|     Logout|      240|                null|   307|1538356651000|Mozilla/5.0 (Wind...|     4|\n",
       "| Logged In|     M|221.67465| free|Baltimore-Columbi...|   NextSong|      240|               Ghost|   200|1538356889000|Mozilla/5.0 (Wind...|     4|\n",
       "| Logged In|     M|     null| paid|     Bakersfield, CA|  Thumbs Up|       29|                null|   307|1538357649000|Mozilla/5.0 (Wind...|    30|\n",
       "| Logged In|     M|250.46159| free|Baltimore-Columbi...|   NextSong|      240|      Free Your Mind|   200|1538357746000|Mozilla/5.0 (Wind...|     4|\n",
       "| Logged In|     M|235.28444| free|Boston-Cambridge-...|   NextSong|        8|        Learn To Fly|   200|1538357839000|\"Mozilla/5.0 (Win...|     9|\n",
       "| Logged In|     M|218.53995| paid|     Bakersfield, CA|   NextSong|       29|    Vamos a la Playa|   200|1538358314000|Mozilla/5.0 (Wind...|    30|\n",
       "| Logged In|     F|     null| free|     Columbus, GA-AL|       Home|      241|                null|   200|1538360138000|Mozilla/5.0 (Wind...|    88|\n",
       "| Logged In|     M|221.23057| free|Denver-Aurora-Lak...|   NextSong|      100|              Summer|   200|1538360211000|Mozilla/5.0 (Wind...|   101|\n",
       "| Logged In|     M|206.52363| free|Baltimore-Columbi...|   NextSong|      240|    Secret Valentine|   200|1538360577000|Mozilla/5.0 (Wind...|     4|\n",
       "| Logged In|     M|     null| paid|     Bakersfield, CA|Roll Advert|       29|                null|   200|1538360737000|Mozilla/5.0 (Wind...|    30|\n",
       "| Logged In|     M|220.52526| free|Denver-Aurora-Lak...|   NextSong|      100|     The Traffic Jam|   200|1538360973000|Mozilla/5.0 (Wind...|   101|\n",
       "+----------+------+---------+-----+--------------------+-----------+---------+--------------------+------+-------------+--------------------+------+\n",
       "only showing top 20 rows"
      ]
     },
     "execution_count": 17,
     "metadata": {},
     "output_type": "execute_result"
    }
   ],
   "source": [
    "df_new.select(\"*\")"
   ]
  },
  {
   "cell_type": "code",
   "execution_count": 18,
   "metadata": {},
   "outputs": [],
   "source": [
    "df_new = df_new.withColumn('churn', when(df_new['page'] == 'Cancellation Confirmation', 1).otherwise(0))\n",
    "df_new = df_new.withColumn('churn', when(df_new['page'] == 'Submit Downgrade', 1).otherwise(df_new['churn']))\n",
    "df_new = df_new.withColumn(\"churn\", df_new[\"churn\"].cast(IntegerType()))"
   ]
  },
  {
   "cell_type": "code",
   "execution_count": 19,
   "metadata": {},
   "outputs": [
    {
     "data": {
      "text/html": [
       "<table border='1'>\n",
       "<tr><th>churn</th><th>count</th></tr>\n",
       "<tr><td>0</td><td>28812</td></tr>\n",
       "<tr><td>1</td><td>8</td></tr>\n",
       "</table>\n"
      ],
      "text/plain": [
       "+-----+-----+\n",
       "|churn|count|\n",
       "+-----+-----+\n",
       "|    0|28812|\n",
       "|    1|    8|\n",
       "+-----+-----+"
      ]
     },
     "execution_count": 19,
     "metadata": {},
     "output_type": "execute_result"
    }
   ],
   "source": [
    "df_new.groupby('churn').count().sort('count', ascending=[False])"
   ]
  },
  {
   "cell_type": "code",
   "execution_count": 20,
   "metadata": {},
   "outputs": [],
   "source": [
    "churnIndexer = StringIndexer(inputCol=\"churn\", outputCol=\"label\")"
   ]
  },
  {
   "cell_type": "code",
   "execution_count": 21,
   "metadata": {},
   "outputs": [],
   "source": [
    "df_new = churnIndexer.fit(df_new).transform(df_new)"
   ]
  },
  {
   "cell_type": "code",
   "execution_count": 22,
   "metadata": {},
   "outputs": [],
   "source": [
    "df_new = df_new.drop('churn')"
   ]
  },
  {
   "cell_type": "code",
   "execution_count": 23,
   "metadata": {},
   "outputs": [
    {
     "data": {
      "text/html": [
       "<table border='1'>\n",
       "<tr><th>auth</th><th>count</th></tr>\n",
       "<tr><td>Logged In</td><td>27975</td></tr>\n",
       "<tr><td>Logged Out</td><td>828</td></tr>\n",
       "<tr><td>Guest</td><td>14</td></tr>\n",
       "<tr><td>Cancelled</td><td>3</td></tr>\n",
       "</table>\n"
      ],
      "text/plain": [
       "+----------+-----+\n",
       "|      auth|count|\n",
       "+----------+-----+\n",
       "| Logged In|27975|\n",
       "|Logged Out|  828|\n",
       "|     Guest|   14|\n",
       "| Cancelled|    3|\n",
       "+----------+-----+"
      ]
     },
     "execution_count": 23,
     "metadata": {},
     "output_type": "execute_result"
    }
   ],
   "source": [
    "# Based on the previous information I am exploring some columns I think\n",
    "# are interesting or may add value to the prediction of churn\n",
    "df_new.groupby('auth').count() \\\n",
    ".sort('count', ascending=False)"
   ]
  },
  {
   "cell_type": "code",
   "execution_count": 24,
   "metadata": {},
   "outputs": [
    {
     "data": {
      "text/html": [
       "<table border='1'>\n",
       "<tr><th>gender</th><th>count</th></tr>\n",
       "<tr><td>F</td><td>15554</td></tr>\n",
       "<tr><td>M</td><td>12424</td></tr>\n",
       "<tr><td>null</td><td>842</td></tr>\n",
       "</table>\n"
      ],
      "text/plain": [
       "+------+-----+\n",
       "|gender|count|\n",
       "+------+-----+\n",
       "|     F|15554|\n",
       "|     M|12424|\n",
       "|  null|  842|\n",
       "+------+-----+"
      ]
     },
     "execution_count": 24,
     "metadata": {},
     "output_type": "execute_result"
    }
   ],
   "source": [
    "# and compute the distribution\n",
    "df_new.groupby('gender').count().sort('count', ascending=False)"
   ]
  },
  {
   "cell_type": "code",
   "execution_count": 25,
   "metadata": {},
   "outputs": [],
   "source": [
    "df_new = df_new.withColumn('gender', when(isnull('gender'), 'U').otherwise(df_new['gender']))"
   ]
  },
  {
   "cell_type": "code",
   "execution_count": 26,
   "metadata": {},
   "outputs": [
    {
     "data": {
      "image/png": "[encoded data removed]",
      "text/plain": [
       "<Figure size 432x288 with 1 Axes>"
      ]
     },
     "metadata": {
      "needs_background": "light"
     },
     "output_type": "display_data"
    }
   ],
   "source": [
    "# with a graph as well\n",
    "df_new.groupby('gender').count().sort('count', ascending=False) \\\n",
    ".toPandas().plot.bar(x='gender', y='count', rot=0, legend=None);"
   ]
  },
  {
   "cell_type": "code",
   "execution_count": 27,
   "metadata": {},
   "outputs": [],
   "source": [
    "genderIndexer = StringIndexer(inputCol=\"gender\", outputCol=\"gender_int\")"
   ]
  },
  {
   "cell_type": "code",
   "execution_count": 28,
   "metadata": {},
   "outputs": [],
   "source": [
    "df_new = genderIndexer.fit(df_new).transform(df_new)"
   ]
  },
  {
   "cell_type": "code",
   "execution_count": 29,
   "metadata": {},
   "outputs": [],
   "source": [
    "df_new = df_new.drop('gender')"
   ]
  },
  {
   "cell_type": "code",
   "execution_count": 30,
   "metadata": {},
   "outputs": [
    {
     "data": {
      "text/html": [
       "<table border='1'>\n",
       "<tr><th>level</th><th>count</th></tr>\n",
       "<tr><td>paid</td><td>23043</td></tr>\n",
       "<tr><td>free</td><td>5777</td></tr>\n",
       "</table>\n"
      ],
      "text/plain": [
       "+-----+-----+\n",
       "|level|count|\n",
       "+-----+-----+\n",
       "| paid|23043|\n",
       "| free| 5777|\n",
       "+-----+-----+"
      ]
     },
     "execution_count": 30,
     "metadata": {},
     "output_type": "execute_result"
    }
   ],
   "source": [
    "# Let's see the 'level' distribution of subscribers\n",
    "df_new.groupby('level').count().sort('level', ascending=[False])"
   ]
  },
  {
   "cell_type": "code",
   "execution_count": 31,
   "metadata": {},
   "outputs": [
    {
     "data": {
      "image/png": "[encoded data removed]",
      "text/plain": [
       "<Figure size 432x288 with 1 Axes>"
      ]
     },
     "metadata": {},
     "output_type": "display_data"
    }
   ],
   "source": [
    "# A pie chart makes sense here, most of our users are paid users\n",
    "df_new.groupby('level').count().sort('level', ascending=[False]) \\\n",
    ".toPandas().plot.pie(y='count');"
   ]
  },
  {
   "cell_type": "code",
   "execution_count": 32,
   "metadata": {},
   "outputs": [],
   "source": [
    "levelIndexer = StringIndexer(inputCol=\"level\", outputCol=\"level_int\")"
   ]
  },
  {
   "cell_type": "code",
   "execution_count": 33,
   "metadata": {},
   "outputs": [],
   "source": [
    "df_new = levelIndexer.fit(df_new).transform(df_new)"
   ]
  },
  {
   "cell_type": "code",
   "execution_count": 34,
   "metadata": {},
   "outputs": [],
   "source": [
    "df_new = df_new.drop('level')"
   ]
  },
  {
   "cell_type": "code",
   "execution_count": 35,
   "metadata": {},
   "outputs": [
    {
     "data": {
      "text/html": [
       "<table border='1'>\n",
       "<tr><th>auth</th><th>length</th><th>location</th><th>page</th><th>sessionId</th><th>song</th><th>status</th><th>ts</th><th>userAgent</th><th>userId</th><th>label</th><th>gender_int</th><th>level_int</th></tr>\n",
       "<tr><td>Logged In</td><td>260.46649</td><td>Boston-Cambridge-...</td><td>NextSong</td><td>8</td><td>Run Run Run</td><td>200</td><td>1538352886000</td><td>&quot;Mozilla/5.0 (Win...</td><td>9</td><td>0.0</td><td>1.0</td><td>1.0</td></tr>\n",
       "<tr><td>Logged In</td><td>229.8771</td><td>Boston-Cambridge-...</td><td>NextSong</td><td>8</td><td>Walk On The Water</td><td>200</td><td>1538353146000</td><td>&quot;Mozilla/5.0 (Win...</td><td>9</td><td>0.0</td><td>1.0</td><td>1.0</td></tr>\n",
       "<tr><td>Logged In</td><td>null</td><td>Boston-Cambridge-...</td><td>Roll Advert</td><td>8</td><td>null</td><td>200</td><td>1538353150000</td><td>&quot;Mozilla/5.0 (Win...</td><td>9</td><td>0.0</td><td>1.0</td><td>1.0</td></tr>\n",
       "<tr><td>Logged In</td><td>229.77261</td><td>Boston-Cambridge-...</td><td>NextSong</td><td>8</td><td>Swisha</td><td>200</td><td>1538353744000</td><td>&quot;Mozilla/5.0 (Win...</td><td>9</td><td>0.0</td><td>1.0</td><td>1.0</td></tr>\n",
       "<tr><td>Logged In</td><td>139.04934</td><td>Bakersfield, CA</td><td>NextSong</td><td>29</td><td>Halloween Spooks</td><td>200</td><td>1538354806000</td><td>Mozilla/5.0 (Wind...</td><td>30</td><td>0.0</td><td>1.0</td><td>0.0</td></tr>\n",
       "<tr><td>Logged In</td><td>243.04281</td><td>Spokane-Spokane V...</td><td>NextSong</td><td>53</td><td>The Kids Don\u0019t St...</td><td>200</td><td>1538355254000</td><td>Mozilla/5.0 (Wind...</td><td>54</td><td>0.0</td><td>0.0</td><td>0.0</td></tr>\n",
       "<tr><td>Logged In</td><td>238.86322</td><td>Bakersfield, CA</td><td>NextSong</td><td>29</td><td>Move Along</td><td>200</td><td>1538355473000</td><td>Mozilla/5.0 (Wind...</td><td>30</td><td>0.0</td><td>1.0</td><td>0.0</td></tr>\n",
       "<tr><td>Logged Out</td><td>null</td><td>null</td><td>Home</td><td>8</td><td>null</td><td>200</td><td>1538355745000</td><td>null</td><td>null</td><td>0.0</td><td>2.0</td><td>1.0</td></tr>\n",
       "<tr><td>Logged Out</td><td>null</td><td>null</td><td>Help</td><td>8</td><td>null</td><td>200</td><td>1538355807000</td><td>null</td><td>null</td><td>0.0</td><td>2.0</td><td>1.0</td></tr>\n",
       "<tr><td>Logged In</td><td>null</td><td>Baltimore-Columbi...</td><td>Logout</td><td>240</td><td>null</td><td>307</td><td>1538356651000</td><td>Mozilla/5.0 (Wind...</td><td>4</td><td>0.0</td><td>1.0</td><td>1.0</td></tr>\n",
       "<tr><td>Logged In</td><td>221.67465</td><td>Baltimore-Columbi...</td><td>NextSong</td><td>240</td><td>Ghost</td><td>200</td><td>1538356889000</td><td>Mozilla/5.0 (Wind...</td><td>4</td><td>0.0</td><td>1.0</td><td>1.0</td></tr>\n",
       "<tr><td>Logged In</td><td>null</td><td>Bakersfield, CA</td><td>Thumbs Up</td><td>29</td><td>null</td><td>307</td><td>1538357649000</td><td>Mozilla/5.0 (Wind...</td><td>30</td><td>0.0</td><td>1.0</td><td>0.0</td></tr>\n",
       "<tr><td>Logged In</td><td>250.46159</td><td>Baltimore-Columbi...</td><td>NextSong</td><td>240</td><td>Free Your Mind</td><td>200</td><td>1538357746000</td><td>Mozilla/5.0 (Wind...</td><td>4</td><td>0.0</td><td>1.0</td><td>1.0</td></tr>\n",
       "<tr><td>Logged In</td><td>235.28444</td><td>Boston-Cambridge-...</td><td>NextSong</td><td>8</td><td>Learn To Fly</td><td>200</td><td>1538357839000</td><td>&quot;Mozilla/5.0 (Win...</td><td>9</td><td>0.0</td><td>1.0</td><td>1.0</td></tr>\n",
       "<tr><td>Logged In</td><td>218.53995</td><td>Bakersfield, CA</td><td>NextSong</td><td>29</td><td>Vamos a la Playa</td><td>200</td><td>1538358314000</td><td>Mozilla/5.0 (Wind...</td><td>30</td><td>0.0</td><td>1.0</td><td>0.0</td></tr>\n",
       "<tr><td>Logged In</td><td>null</td><td>Columbus, GA-AL</td><td>Home</td><td>241</td><td>null</td><td>200</td><td>1538360138000</td><td>Mozilla/5.0 (Wind...</td><td>88</td><td>0.0</td><td>0.0</td><td>1.0</td></tr>\n",
       "<tr><td>Logged In</td><td>221.23057</td><td>Denver-Aurora-Lak...</td><td>NextSong</td><td>100</td><td>Summer</td><td>200</td><td>1538360211000</td><td>Mozilla/5.0 (Wind...</td><td>101</td><td>0.0</td><td>1.0</td><td>1.0</td></tr>\n",
       "<tr><td>Logged In</td><td>206.52363</td><td>Baltimore-Columbi...</td><td>NextSong</td><td>240</td><td>Secret Valentine</td><td>200</td><td>1538360577000</td><td>Mozilla/5.0 (Wind...</td><td>4</td><td>0.0</td><td>1.0</td><td>1.0</td></tr>\n",
       "<tr><td>Logged In</td><td>null</td><td>Bakersfield, CA</td><td>Roll Advert</td><td>29</td><td>null</td><td>200</td><td>1538360737000</td><td>Mozilla/5.0 (Wind...</td><td>30</td><td>0.0</td><td>1.0</td><td>0.0</td></tr>\n",
       "<tr><td>Logged In</td><td>220.52526</td><td>Denver-Aurora-Lak...</td><td>NextSong</td><td>100</td><td>The Traffic Jam</td><td>200</td><td>1538360973000</td><td>Mozilla/5.0 (Wind...</td><td>101</td><td>0.0</td><td>1.0</td><td>1.0</td></tr>\n",
       "</table>\n",
       "only showing top 20 rows\n"
      ],
      "text/plain": [
       "+----------+---------+--------------------+-----------+---------+--------------------+------+-------------+--------------------+------+-----+----------+---------+\n",
       "|      auth|   length|            location|       page|sessionId|                song|status|           ts|           userAgent|userId|label|gender_int|level_int|\n",
       "+----------+---------+--------------------+-----------+---------+--------------------+------+-------------+--------------------+------+-----+----------+---------+\n",
       "| Logged In|260.46649|Boston-Cambridge-...|   NextSong|        8|         Run Run Run|   200|1538352886000|\"Mozilla/5.0 (Win...|     9|  0.0|       1.0|      1.0|\n",
       "| Logged In| 229.8771|Boston-Cambridge-...|   NextSong|        8|   Walk On The Water|   200|1538353146000|\"Mozilla/5.0 (Win...|     9|  0.0|       1.0|      1.0|\n",
       "| Logged In|     null|Boston-Cambridge-...|Roll Advert|        8|                null|   200|1538353150000|\"Mozilla/5.0 (Win...|     9|  0.0|       1.0|      1.0|\n",
       "| Logged In|229.77261|Boston-Cambridge-...|   NextSong|        8|              Swisha|   200|1538353744000|\"Mozilla/5.0 (Win...|     9|  0.0|       1.0|      1.0|\n",
       "| Logged In|139.04934|     Bakersfield, CA|   NextSong|       29|    Halloween Spooks|   200|1538354806000|Mozilla/5.0 (Wind...|    30|  0.0|       1.0|      0.0|\n",
       "| Logged In|243.04281|Spokane-Spokane V...|   NextSong|       53|The Kids Don\u0019t St...|   200|1538355254000|Mozilla/5.0 (Wind...|    54|  0.0|       0.0|      0.0|\n",
       "| Logged In|238.86322|     Bakersfield, CA|   NextSong|       29|          Move Along|   200|1538355473000|Mozilla/5.0 (Wind...|    30|  0.0|       1.0|      0.0|\n",
       "|Logged Out|     null|                null|       Home|        8|                null|   200|1538355745000|                null|  null|  0.0|       2.0|      1.0|\n",
       "|Logged Out|     null|                null|       Help|        8|                null|   200|1538355807000|                null|  null|  0.0|       2.0|      1.0|\n",
       "| Logged In|     null|Baltimore-Columbi...|     Logout|      240|                null|   307|1538356651000|Mozilla/5.0 (Wind...|     4|  0.0|       1.0|      1.0|\n",
       "| Logged In|221.67465|Baltimore-Columbi...|   NextSong|      240|               Ghost|   200|1538356889000|Mozilla/5.0 (Wind...|     4|  0.0|       1.0|      1.0|\n",
       "| Logged In|     null|     Bakersfield, CA|  Thumbs Up|       29|                null|   307|1538357649000|Mozilla/5.0 (Wind...|    30|  0.0|       1.0|      0.0|\n",
       "| Logged In|250.46159|Baltimore-Columbi...|   NextSong|      240|      Free Your Mind|   200|1538357746000|Mozilla/5.0 (Wind...|     4|  0.0|       1.0|      1.0|\n",
       "| Logged In|235.28444|Boston-Cambridge-...|   NextSong|        8|        Learn To Fly|   200|1538357839000|\"Mozilla/5.0 (Win...|     9|  0.0|       1.0|      1.0|\n",
       "| Logged In|218.53995|     Bakersfield, CA|   NextSong|       29|    Vamos a la Playa|   200|1538358314000|Mozilla/5.0 (Wind...|    30|  0.0|       1.0|      0.0|\n",
       "| Logged In|     null|     Columbus, GA-AL|       Home|      241|                null|   200|1538360138000|Mozilla/5.0 (Wind...|    88|  0.0|       0.0|      1.0|\n",
       "| Logged In|221.23057|Denver-Aurora-Lak...|   NextSong|      100|              Summer|   200|1538360211000|Mozilla/5.0 (Wind...|   101|  0.0|       1.0|      1.0|\n",
       "| Logged In|206.52363|Baltimore-Columbi...|   NextSong|      240|    Secret Valentine|   200|1538360577000|Mozilla/5.0 (Wind...|     4|  0.0|       1.0|      1.0|\n",
       "| Logged In|     null|     Bakersfield, CA|Roll Advert|       29|                null|   200|1538360737000|Mozilla/5.0 (Wind...|    30|  0.0|       1.0|      0.0|\n",
       "| Logged In|220.52526|Denver-Aurora-Lak...|   NextSong|      100|     The Traffic Jam|   200|1538360973000|Mozilla/5.0 (Wind...|   101|  0.0|       1.0|      1.0|\n",
       "+----------+---------+--------------------+-----------+---------+--------------------+------+-------------+--------------------+------+-----+----------+---------+\n",
       "only showing top 20 rows"
      ]
     },
     "execution_count": 35,
     "metadata": {},
     "output_type": "execute_result"
    }
   ],
   "source": [
    "df_new.select(\"*\")"
   ]
  },
  {
   "cell_type": "code",
   "execution_count": 36,
   "metadata": {},
   "outputs": [
    {
     "data": {
      "text/html": [
       "<table border='1'>\n",
       "<tr><th>page</th><th>count</th></tr>\n",
       "<tr><td>NextSong</td><td>22864</td></tr>\n",
       "<tr><td>Home</td><td>1478</td></tr>\n",
       "<tr><td>Thumbs Up</td><td>1279</td></tr>\n",
       "<tr><td>Add to Playlist</td><td>648</td></tr>\n",
       "<tr><td>Add Friend</td><td>466</td></tr>\n",
       "<tr><td>Roll Advert</td><td>403</td></tr>\n",
       "<tr><td>Logout</td><td>329</td></tr>\n",
       "<tr><td>Login</td><td>309</td></tr>\n",
       "<tr><td>Thumbs Down</td><td>255</td></tr>\n",
       "<tr><td>Downgrade</td><td>212</td></tr>\n",
       "<tr><td>Help</td><td>190</td></tr>\n",
       "<tr><td>Settings</td><td>172</td></tr>\n",
       "<tr><td>About</td><td>88</td></tr>\n",
       "<tr><td>Upgrade</td><td>42</td></tr>\n",
       "<tr><td>Save Settings</td><td>26</td></tr>\n",
       "<tr><td>Error</td><td>25</td></tr>\n",
       "<tr><td>Submit Upgrade</td><td>16</td></tr>\n",
       "<tr><td>Cancel</td><td>7</td></tr>\n",
       "<tr><td>Submit Downgrade</td><td>5</td></tr>\n",
       "<tr><td>Cancellation Conf...</td><td>3</td></tr>\n",
       "</table>\n",
       "only showing top 20 rows\n"
      ],
      "text/plain": [
       "+--------------------+-----+\n",
       "|                page|count|\n",
       "+--------------------+-----+\n",
       "|            NextSong|22864|\n",
       "|                Home| 1478|\n",
       "|           Thumbs Up| 1279|\n",
       "|     Add to Playlist|  648|\n",
       "|          Add Friend|  466|\n",
       "|         Roll Advert|  403|\n",
       "|              Logout|  329|\n",
       "|               Login|  309|\n",
       "|         Thumbs Down|  255|\n",
       "|           Downgrade|  212|\n",
       "|                Help|  190|\n",
       "|            Settings|  172|\n",
       "|               About|   88|\n",
       "|             Upgrade|   42|\n",
       "|       Save Settings|   26|\n",
       "|               Error|   25|\n",
       "|      Submit Upgrade|   16|\n",
       "|              Cancel|    7|\n",
       "|    Submit Downgrade|    5|\n",
       "|Cancellation Conf...|    3|\n",
       "+--------------------+-----+\n",
       "only showing top 20 rows"
      ]
     },
     "execution_count": 36,
     "metadata": {},
     "output_type": "execute_result"
    }
   ],
   "source": [
    "# Let's check the 'page' column\n",
    "df_new.groupby('page').count() \\\n",
    ".sort('count', ascending=False)"
   ]
  },
  {
   "cell_type": "code",
   "execution_count": 37,
   "metadata": {},
   "outputs": [
    {
     "data": {
      "image/png": "[encoded data removed]",
      "text/plain": [
       "<Figure size 432x576 with 1 Axes>"
      ]
     },
     "metadata": {
      "needs_background": "light"
     },
     "output_type": "display_data"
    }
   ],
   "source": [
    "# The same in a graphical representation\n",
    "df_new.groupby('page').count().sort('count', ascending=True) \\\n",
    ".toPandas().plot.barh(x='page', y='count', rot=0, figsize=(6,8));"
   ]
  },
  {
   "cell_type": "code",
   "execution_count": 38,
   "metadata": {},
   "outputs": [
    {
     "data": {
      "text/html": [
       "<table border='1'>\n",
       "<tr><th>status</th><th>count</th></tr>\n",
       "<tr><td>200</td><td>26103</td></tr>\n",
       "<tr><td>307</td><td>2692</td></tr>\n",
       "<tr><td>404</td><td>25</td></tr>\n",
       "</table>\n"
      ],
      "text/plain": [
       "+------+-----+\n",
       "|status|count|\n",
       "+------+-----+\n",
       "|   200|26103|\n",
       "|   307| 2692|\n",
       "|   404|   25|\n",
       "+------+-----+"
      ]
     },
     "execution_count": 38,
     "metadata": {},
     "output_type": "execute_result"
    }
   ],
   "source": [
    "# We have 3 status:\n",
    "df_new.groupby('status').count().sort('count', ascending=[False])"
   ]
  },
  {
   "cell_type": "markdown",
   "metadata": {},
   "source": [
    "# Feature Engineering\n",
    "Once you've familiarized yourself with the data, build out the features you find promising to train your model on. To work with the full dataset, you can follow the following steps.\n",
    "- Write a script to extract the necessary features from the smaller subset of data\n",
    "- Ensure that your script is scalable, using the best practices discussed in Lesson 3\n",
    "- Try your script on the full data set, debugging your script if necessary\n",
    "\n",
    "If you are working in the classroom workspace, you can just extract features based on the small subset of data contained here. Be sure to transfer over this work to the larger dataset when you work on your Spark cluster."
   ]
  },
  {
   "cell_type": "code",
   "execution_count": 39,
   "metadata": {},
   "outputs": [
    {
     "name": "stdout",
     "output_type": "stream",
     "text": [
      "+-------------------------------------------+-----+\n",
      "|location                                   |count|\n",
      "+-------------------------------------------+-----+\n",
      "|Los Angeles-Long Beach-Anaheim, CA         |3063 |\n",
      "|New York-Newark-Jersey City, NY-NJ-PA      |2413 |\n",
      "|Boston-Cambridge-Newton, MA-NH             |1360 |\n",
      "|Houston-The Woodlands-Sugar Land, TX       |919  |\n",
      "|null                                       |842  |\n",
      "|Charlotte-Concord-Gastonia, NC-SC          |820  |\n",
      "|Dallas-Fort Worth-Arlington, TX            |798  |\n",
      "|Louisville/Jefferson County, KY-IN         |640  |\n",
      "|Philadelphia-Camden-Wilmington, PA-NJ-DE-MD|591  |\n",
      "|St. Louis, MO-IL                           |524  |\n",
      "|Phoenix-Mesa-Scottsdale, AZ                |501  |\n",
      "|Chicago-Naperville-Elgin, IL-IN-WI         |492  |\n",
      "|Wilson, NC                                 |490  |\n",
      "|Vineland-Bridgeton, NJ                     |474  |\n",
      "|Danville, VA                               |451  |\n",
      "|Denver-Aurora-Lakewood, CO                 |451  |\n",
      "|San Antonio-New Braunfels, TX              |437  |\n",
      "|Ionia, MI                                  |416  |\n",
      "|Atlanta-Sandy Springs-Roswell, GA          |411  |\n",
      "|Miami-Fort Lauderdale-West Palm Beach, FL  |395  |\n",
      "+-------------------------------------------+-----+\n",
      "only showing top 20 rows\n",
      "\n"
     ]
    }
   ],
   "source": [
    "# let's see what the 'location' column has to offer:\n",
    "df_new.groupby('location').count().sort('count', ascending=[False]).show(20, False)"
   ]
  },
  {
   "cell_type": "code",
   "execution_count": 40,
   "metadata": {},
   "outputs": [],
   "source": [
    "# US according to 'www2.census.gov' can be divided in 4 mayor regions: Region 1: Northeast, \n",
    "# Region 2: Midwest, Region 3: South and Region 4: West.\n",
    "# Each of these regions can be divided further, for example, Region 1 is compromised of Division 1: \n",
    "# New England with Connecticut, Maine, Massachusetts, New Hampshire, RhodeIsland and, Vermont and so for.\n",
    "# I just divided it into 4 Regions: Northeast, Midwest, South and West.\n",
    "location_regions = {\n",
    "    'Northeast': ['NJ', 'NY', 'PA', 'CT', 'ME', 'MA', 'NH', 'RI', 'VT'],\n",
    "    'Midwest': ['IN', 'IL', 'MI', 'OH', 'WI', 'IA', 'KS', 'MN', 'MO', 'NE', 'ND', 'SD'],\n",
    "    'South': ['DE', 'DC', 'FL', 'GA', 'MD', 'NC', 'SC', 'VA', 'WV', 'AL', 'KY', 'MS', 'TN', 'AR', 'LA', 'OK', 'TX'],\n",
    "    'West': ['AZ', 'CO', 'ID', 'NM', 'MT', 'UT', 'NV', 'WY', 'AK', 'CA', 'HI', 'OR', 'WA']\n",
    "}"
   ]
  },
  {
   "cell_type": "code",
   "execution_count": 41,
   "metadata": {},
   "outputs": [],
   "source": [
    "# I am not sure how I am going to use this information (if I use it at all)\n",
    "# So for now just extract the State information after the ',' with the below\n",
    "# function\n",
    "# def split_location_by_state(df):\n",
    "#     # Then I split the 'location' column bu ',' and extract the second\n",
    "#     # item, the state information\n",
    "#     # In multiple cases thsi is a group of various States together. I am\n",
    "#     # fine with that so far ...\n",
    "#     body_length = udf(lambda x: len(x), IntegerType())\n",
    "#     df = df.withColumn(\"BodyLength\", body_length(df.words))\n",
    "#     region_state = udf(lambda x: \n",
    "    \n",
    "#     # We return the modified Dataframe back\n",
    "#     return df"
   ]
  },
  {
   "cell_type": "code",
   "execution_count": 42,
   "metadata": {},
   "outputs": [],
   "source": [
    "df_new = df_new.withColumn('state', split(df_new['location'], ',').getItem(1))"
   ]
  },
  {
   "cell_type": "code",
   "execution_count": 43,
   "metadata": {},
   "outputs": [],
   "source": [
    "df_new = df_new.drop('location')"
   ]
  },
  {
   "cell_type": "code",
   "execution_count": 44,
   "metadata": {},
   "outputs": [
    {
     "name": "stdout",
     "output_type": "stream",
     "text": [
      "+------------+\n",
      "|state       |\n",
      "+------------+\n",
      "|null        |\n",
      "| AK         |\n",
      "| AL         |\n",
      "| AR         |\n",
      "| AZ         |\n",
      "| CA         |\n",
      "| CO         |\n",
      "| CT         |\n",
      "| DC-VA-MD-WV|\n",
      "| FL         |\n",
      "+------------+\n",
      "only showing top 10 rows\n",
      "\n"
     ]
    }
   ],
   "source": [
    "# A quick check on our newly created column \n",
    "df_new.select('state').distinct().sort('state').show(10, False)"
   ]
  },
  {
   "cell_type": "code",
   "execution_count": 45,
   "metadata": {},
   "outputs": [
    {
     "name": "stdout",
     "output_type": "stream",
     "text": [
      "+---------------------------------------------------------------------------------------------------------------+\n",
      "|userAgent                                                                                                      |\n",
      "+---------------------------------------------------------------------------------------------------------------+\n",
      "|\"Mozilla/5.0 (Windows NT 6.1; WOW64) AppleWebKit/537.36 (KHTML, like Gecko) Chrome/37.0.2062.103 Safari/537.36\"|\n",
      "|\"Mozilla/5.0 (Windows NT 6.1; WOW64) AppleWebKit/537.36 (KHTML, like Gecko) Chrome/37.0.2062.103 Safari/537.36\"|\n",
      "|\"Mozilla/5.0 (Windows NT 6.1; WOW64) AppleWebKit/537.36 (KHTML, like Gecko) Chrome/37.0.2062.103 Safari/537.36\"|\n",
      "|\"Mozilla/5.0 (Windows NT 6.1; WOW64) AppleWebKit/537.36 (KHTML, like Gecko) Chrome/37.0.2062.103 Safari/537.36\"|\n",
      "|Mozilla/5.0 (Windows NT 6.1; WOW64; rv:31.0) Gecko/20100101 Firefox/31.0                                       |\n",
      "+---------------------------------------------------------------------------------------------------------------+\n",
      "only showing top 5 rows\n",
      "\n"
     ]
    }
   ],
   "source": [
    "# let's check the 'userAgent' column\n",
    "df_new.select('userAgent').show(5, False)"
   ]
  },
  {
   "cell_type": "code",
   "execution_count": 46,
   "metadata": {},
   "outputs": [],
   "source": [
    "df_new = df_new.withColumn('os', regexp_extract(col('userAgent'), r'\\((\\w+);?\\s+', 1))"
   ]
  },
  {
   "cell_type": "code",
   "execution_count": 47,
   "metadata": {},
   "outputs": [],
   "source": [
    "df_new = df_new.withColumn('browser', regexp_extract(col('userAgent'), r'\\s(\\w+)/\\d+.\\d+\"?$', 1))"
   ]
  },
  {
   "cell_type": "code",
   "execution_count": 48,
   "metadata": {},
   "outputs": [
    {
     "data": {
      "text/html": [
       "<table border='1'>\n",
       "<tr><th>browser</th><th>count</th></tr>\n",
       "<tr><td>Safari</td><td>16827</td></tr>\n",
       "<tr><td>Firefox</td><td>5608</td></tr>\n",
       "<tr><td></td><td>5543</td></tr>\n",
       "<tr><td>null</td><td>842</td></tr>\n",
       "</table>\n"
      ],
      "text/plain": [
       "+-------+-----+\n",
       "|browser|count|\n",
       "+-------+-----+\n",
       "| Safari|16827|\n",
       "|Firefox| 5608|\n",
       "|       | 5543|\n",
       "|   null|  842|\n",
       "+-------+-----+"
      ]
     },
     "execution_count": 48,
     "metadata": {},
     "output_type": "execute_result"
    }
   ],
   "source": [
    "df_new.groupby('browser').count().sort('count', ascending=[False])"
   ]
  },
  {
   "cell_type": "code",
   "execution_count": 49,
   "metadata": {},
   "outputs": [],
   "source": [
    "df_new = df_new.fillna('Undefined', subset='browser')"
   ]
  },
  {
   "cell_type": "code",
   "execution_count": 50,
   "metadata": {},
   "outputs": [],
   "source": [
    "df_new = df_new.withColumn('browser', when(df_new['browser'] == '', 'Undefined').otherwise(df_new['browser']))"
   ]
  },
  {
   "cell_type": "code",
   "execution_count": 51,
   "metadata": {},
   "outputs": [
    {
     "data": {
      "text/html": [
       "<table border='1'>\n",
       "<tr><th>browser</th><th>count</th></tr>\n",
       "<tr><td>Safari</td><td>16827</td></tr>\n",
       "<tr><td>Undefined</td><td>6385</td></tr>\n",
       "<tr><td>Firefox</td><td>5608</td></tr>\n",
       "</table>\n"
      ],
      "text/plain": [
       "+---------+-----+\n",
       "|  browser|count|\n",
       "+---------+-----+\n",
       "|   Safari|16827|\n",
       "|Undefined| 6385|\n",
       "|  Firefox| 5608|\n",
       "+---------+-----+"
      ]
     },
     "execution_count": 51,
     "metadata": {},
     "output_type": "execute_result"
    }
   ],
   "source": [
    "df_new.groupby('browser').count().sort('count', ascending=[False])"
   ]
  },
  {
   "cell_type": "code",
   "execution_count": 52,
   "metadata": {},
   "outputs": [],
   "source": [
    "df_new = df_new.fillna('Undefined', subset='os')"
   ]
  },
  {
   "cell_type": "code",
   "execution_count": 53,
   "metadata": {},
   "outputs": [
    {
     "data": {
      "text/html": [
       "<table border='1'>\n",
       "<tr><th>os</th><th>count</th></tr>\n",
       "<tr><td>Windows</td><td>13420</td></tr>\n",
       "<tr><td>Macintosh</td><td>10225</td></tr>\n",
       "<tr><td>compatible</td><td>1157</td></tr>\n",
       "<tr><td>iPad</td><td>1153</td></tr>\n",
       "<tr><td>iPhone</td><td>1087</td></tr>\n",
       "<tr><td>X11</td><td>936</td></tr>\n",
       "<tr><td>Undefined</td><td>842</td></tr>\n",
       "</table>\n"
      ],
      "text/plain": [
       "+----------+-----+\n",
       "|        os|count|\n",
       "+----------+-----+\n",
       "|   Windows|13420|\n",
       "| Macintosh|10225|\n",
       "|compatible| 1157|\n",
       "|      iPad| 1153|\n",
       "|    iPhone| 1087|\n",
       "|       X11|  936|\n",
       "| Undefined|  842|\n",
       "+----------+-----+"
      ]
     },
     "execution_count": 53,
     "metadata": {},
     "output_type": "execute_result"
    }
   ],
   "source": [
    "df_new.groupby('os').count().sort('count', ascending=[False])"
   ]
  },
  {
   "cell_type": "code",
   "execution_count": 54,
   "metadata": {},
   "outputs": [],
   "source": [
    "osIndexer = StringIndexer(inputCol=\"os\", outputCol=\"os_int\")"
   ]
  },
  {
   "cell_type": "code",
   "execution_count": 55,
   "metadata": {},
   "outputs": [],
   "source": [
    "df_new = osIndexer.fit(df_new).transform(df_new)"
   ]
  },
  {
   "cell_type": "code",
   "execution_count": 56,
   "metadata": {},
   "outputs": [],
   "source": [
    "browserIndexer = StringIndexer(inputCol=\"browser\", outputCol=\"browser_int\")"
   ]
  },
  {
   "cell_type": "code",
   "execution_count": 57,
   "metadata": {},
   "outputs": [],
   "source": [
    "df_new = browserIndexer.fit(df_new).transform(df_new)"
   ]
  },
  {
   "cell_type": "code",
   "execution_count": 58,
   "metadata": {},
   "outputs": [],
   "source": [
    "df_new = df_new.drop(*['os', 'browser'])"
   ]
  },
  {
   "cell_type": "code",
   "execution_count": 59,
   "metadata": {},
   "outputs": [
    {
     "name": "stdout",
     "output_type": "stream",
     "text": [
      "+-------------+----------+\n",
      "|ts           |length(ts)|\n",
      "+-------------+----------+\n",
      "|1538352886000|13        |\n",
      "|1538353146000|13        |\n",
      "|1538353150000|13        |\n",
      "|1538353744000|13        |\n",
      "|1538354806000|13        |\n",
      "+-------------+----------+\n",
      "only showing top 5 rows\n",
      "\n"
     ]
    }
   ],
   "source": [
    "df_new.select(df_new.ts, length(df_new.ts)).show(5, False)"
   ]
  },
  {
   "cell_type": "code",
   "execution_count": 60,
   "metadata": {},
   "outputs": [],
   "source": [
    "# We do have the 'ts' in miliseconds, as it is 13 digits long, so we need to first\n",
    "# convert it to seconds dividing it by 1000. Then convert it to a unix timestamp to\n",
    "# use 'to_date' function to finally convert the result to a date we can use.\n",
    "#df = df.withColumn('ts_date', to_date(from_unixtime(col('ts') / 1000, 'yyyy-MM-dd HH:mm:ss')))\n",
    "df_new = df_new.withColumn('ts_date', from_unixtime(col('ts') / 1000))"
   ]
  },
  {
   "cell_type": "code",
   "execution_count": 61,
   "metadata": {},
   "outputs": [],
   "source": [
    "# 0 - Sunday, 1 - Monday, etc.\n",
    "df_new = df_new.withColumn('day_of_week', dayofweek(col('ts_date')))\n",
    "# Integer value for the hour\n",
    "df_new = df_new.withColumn('hour', hour(col('ts_date')))"
   ]
  },
  {
   "cell_type": "code",
   "execution_count": 62,
   "metadata": {},
   "outputs": [],
   "source": [
    "songs_per_hour = df_new.filter(df_new.page == \"NextSong\")\\\n",
    "                .groupby(df_new.hour).count()\\\n",
    "                .orderBy(df_new.hour.cast(\"float\")).toPandas()"
   ]
  },
  {
   "cell_type": "code",
   "execution_count": 63,
   "metadata": {},
   "outputs": [],
   "source": [
    "songs_per_day_of_week = df_new.filter(df_new.page == \"NextSong\")\\\n",
    "                .groupby(df_new.day_of_week).count()\\\n",
    "                .orderBy(df_new.day_of_week.cast(\"float\")).toPandas()"
   ]
  },
  {
   "cell_type": "code",
   "execution_count": 64,
   "metadata": {},
   "outputs": [
    {
     "data": {
      "image/png": "[encoded data removed]",
      "text/plain": [
       "<Figure size 432x288 with 1 Axes>"
      ]
     },
     "metadata": {
      "needs_background": "light"
     },
     "output_type": "display_data"
    }
   ],
   "source": [
    "songs_per_hour.hour = pd.to_numeric(songs_per_hour.hour)\n",
    "\n",
    "plt.scatter(songs_per_hour[\"hour\"], songs_per_hour[\"count\"])\n",
    "plt.xlim(-1, 24);\n",
    "# plt.ylim(0, 1.2 * max(songs_per_hour[\"count\"]))\n",
    "plt.xlabel(\"Hour of day\")\n",
    "plt.ylabel(\"Songs played\");"
   ]
  },
  {
   "cell_type": "code",
   "execution_count": 65,
   "metadata": {},
   "outputs": [
    {
     "data": {
      "image/png": "[encoded data removed]",
      "text/plain": [
       "<Figure size 432x288 with 1 Axes>"
      ]
     },
     "metadata": {
      "needs_background": "light"
     },
     "output_type": "display_data"
    }
   ],
   "source": [
    "songs_per_day_of_week.day_of_week = pd.to_numeric(songs_per_day_of_week.day_of_week)\n",
    "\n",
    "plt.scatter(songs_per_day_of_week[\"day_of_week\"], songs_per_day_of_week[\"count\"])\n",
    "plt.xlim(0, 8);\n",
    "# plt.ylim(0, 1.2 * max(songs_per_hour[\"count\"]))\n",
    "plt.xlabel(\"Day of week\")\n",
    "plt.ylabel(\"Songs played\");"
   ]
  },
  {
   "cell_type": "code",
   "execution_count": 66,
   "metadata": {},
   "outputs": [],
   "source": [
    "df_1 = df_new.select('userId', 'page')\\\n",
    "        .where('page = \"Save Settings\"')\\\n",
    "        .groupby('userId').count()\\\n",
    "       .withColumnRenamed('count', 'saved_settings')"
   ]
  },
  {
   "cell_type": "code",
   "execution_count": 67,
   "metadata": {},
   "outputs": [
    {
     "data": {
      "text/html": [
       "<table border='1'>\n",
       "<tr><th>userId</th><th>saved_settings</th></tr>\n",
       "<tr><td>65</td><td>1</td></tr>\n",
       "<tr><td>81</td><td>1</td></tr>\n",
       "<tr><td>200004</td><td>1</td></tr>\n",
       "<tr><td>140</td><td>1</td></tr>\n",
       "<tr><td>132</td><td>1</td></tr>\n",
       "<tr><td>6</td><td>1</td></tr>\n",
       "<tr><td>142</td><td>1</td></tr>\n",
       "<tr><td>20</td><td>1</td></tr>\n",
       "<tr><td>61</td><td>1</td></tr>\n",
       "<tr><td>88</td><td>1</td></tr>\n",
       "<tr><td>100</td><td>1</td></tr>\n",
       "<tr><td>100013</td><td>1</td></tr>\n",
       "<tr><td>39</td><td>1</td></tr>\n",
       "<tr><td>50</td><td>1</td></tr>\n",
       "<tr><td>113</td><td>1</td></tr>\n",
       "<tr><td>24</td><td>1</td></tr>\n",
       "<tr><td>121</td><td>2</td></tr>\n",
       "<tr><td>100018</td><td>1</td></tr>\n",
       "<tr><td>42</td><td>1</td></tr>\n",
       "<tr><td>118</td><td>1</td></tr>\n",
       "</table>\n",
       "only showing top 20 rows\n"
      ],
      "text/plain": [
       "+------+--------------+\n",
       "|userId|saved_settings|\n",
       "+------+--------------+\n",
       "|    65|             1|\n",
       "|    81|             1|\n",
       "|200004|             1|\n",
       "|   140|             1|\n",
       "|   132|             1|\n",
       "|     6|             1|\n",
       "|   142|             1|\n",
       "|    20|             1|\n",
       "|    61|             1|\n",
       "|    88|             1|\n",
       "|   100|             1|\n",
       "|100013|             1|\n",
       "|    39|             1|\n",
       "|    50|             1|\n",
       "|   113|             1|\n",
       "|    24|             1|\n",
       "|   121|             2|\n",
       "|100018|             1|\n",
       "|    42|             1|\n",
       "|   118|             1|\n",
       "+------+--------------+\n",
       "only showing top 20 rows"
      ]
     },
     "execution_count": 67,
     "metadata": {},
     "output_type": "execute_result"
    }
   ],
   "source": [
    "df_1.select(\"*\")"
   ]
  },
  {
   "cell_type": "code",
   "execution_count": 68,
   "metadata": {},
   "outputs": [],
   "source": [
    "df_new = df_new.join(df_1, 'userId', 'inner')"
   ]
  },
  {
   "cell_type": "code",
   "execution_count": 69,
   "metadata": {},
   "outputs": [
    {
     "data": {
      "text/html": [
       "<table border='1'>\n",
       "<tr><th>userId</th><th>num_songs</th></tr>\n",
       "<tr><td>65</td><td>240</td></tr>\n",
       "<tr><td>81</td><td>228</td></tr>\n",
       "<tr><td>200004</td><td>217</td></tr>\n",
       "<tr><td>140</td><td>640</td></tr>\n",
       "<tr><td>132</td><td>231</td></tr>\n",
       "<tr><td>6</td><td>382</td></tr>\n",
       "<tr><td>142</td><td>234</td></tr>\n",
       "<tr><td>20</td><td>224</td></tr>\n",
       "<tr><td>61</td><td>186</td></tr>\n",
       "<tr><td>88</td><td>249</td></tr>\n",
       "<tr><td>100</td><td>318</td></tr>\n",
       "<tr><td>100013</td><td>126</td></tr>\n",
       "<tr><td>39</td><td>991</td></tr>\n",
       "<tr><td>50</td><td>64</td></tr>\n",
       "<tr><td>113</td><td>196</td></tr>\n",
       "<tr><td>24</td><td>66</td></tr>\n",
       "<tr><td>121</td><td>89</td></tr>\n",
       "<tr><td>100018</td><td>141</td></tr>\n",
       "<tr><td>42</td><td>451</td></tr>\n",
       "<tr><td>118</td><td>280</td></tr>\n",
       "</table>\n",
       "only showing top 20 rows\n"
      ],
      "text/plain": [
       "+------+---------+\n",
       "|userId|num_songs|\n",
       "+------+---------+\n",
       "|    65|      240|\n",
       "|    81|      228|\n",
       "|200004|      217|\n",
       "|   140|      640|\n",
       "|   132|      231|\n",
       "|     6|      382|\n",
       "|   142|      234|\n",
       "|    20|      224|\n",
       "|    61|      186|\n",
       "|    88|      249|\n",
       "|   100|      318|\n",
       "|100013|      126|\n",
       "|    39|      991|\n",
       "|    50|       64|\n",
       "|   113|      196|\n",
       "|    24|       66|\n",
       "|   121|       89|\n",
       "|100018|      141|\n",
       "|    42|      451|\n",
       "|   118|      280|\n",
       "+------+---------+\n",
       "only showing top 20 rows"
      ]
     },
     "execution_count": 69,
     "metadata": {},
     "output_type": "execute_result"
    }
   ],
   "source": [
    "df_2 = df_new.select('userId', 'song')\\\n",
    "        .groupby('userId').count()\\\n",
    "        .withColumnRenamed('count', 'num_songs')\n",
    "df_2.select(\"*\")"
   ]
  },
  {
   "cell_type": "code",
   "execution_count": 70,
   "metadata": {},
   "outputs": [],
   "source": [
    "df_new = df_new.join(df_2, 'userId', 'inner')"
   ]
  },
  {
   "cell_type": "code",
   "execution_count": 71,
   "metadata": {},
   "outputs": [
    {
     "data": {
      "text/html": [
       "<table border='1'>\n",
       "<tr><th>userId</th><th>thumbs_up</th></tr>\n",
       "<tr><td>65</td><td>8</td></tr>\n",
       "<tr><td>81</td><td>8</td></tr>\n",
       "<tr><td>200004</td><td>7</td></tr>\n",
       "<tr><td>140</td><td>27</td></tr>\n",
       "<tr><td>132</td><td>9</td></tr>\n",
       "<tr><td>6</td><td>20</td></tr>\n",
       "<tr><td>142</td><td>10</td></tr>\n",
       "<tr><td>20</td><td>10</td></tr>\n",
       "<tr><td>61</td><td>4</td></tr>\n",
       "<tr><td>88</td><td>10</td></tr>\n",
       "<tr><td>100</td><td>13</td></tr>\n",
       "<tr><td>100013</td><td>4</td></tr>\n",
       "<tr><td>39</td><td>42</td></tr>\n",
       "<tr><td>50</td><td>1</td></tr>\n",
       "<tr><td>113</td><td>13</td></tr>\n",
       "<tr><td>24</td><td>2</td></tr>\n",
       "<tr><td>121</td><td>2</td></tr>\n",
       "<tr><td>100018</td><td>1</td></tr>\n",
       "<tr><td>42</td><td>14</td></tr>\n",
       "<tr><td>118</td><td>8</td></tr>\n",
       "</table>\n",
       "only showing top 20 rows\n"
      ],
      "text/plain": [
       "+------+---------+\n",
       "|userId|thumbs_up|\n",
       "+------+---------+\n",
       "|    65|        8|\n",
       "|    81|        8|\n",
       "|200004|        7|\n",
       "|   140|       27|\n",
       "|   132|        9|\n",
       "|     6|       20|\n",
       "|   142|       10|\n",
       "|    20|       10|\n",
       "|    61|        4|\n",
       "|    88|       10|\n",
       "|   100|       13|\n",
       "|100013|        4|\n",
       "|    39|       42|\n",
       "|    50|        1|\n",
       "|   113|       13|\n",
       "|    24|        2|\n",
       "|   121|        2|\n",
       "|100018|        1|\n",
       "|    42|       14|\n",
       "|   118|        8|\n",
       "+------+---------+\n",
       "only showing top 20 rows"
      ]
     },
     "execution_count": 71,
     "metadata": {},
     "output_type": "execute_result"
    }
   ],
   "source": [
    "df_3 = df_new.select('userId', 'page')\\\n",
    "        .where('page = \"Thumbs Up\"')\\\n",
    "        .groupby('userId').count()\\\n",
    "        .withColumnRenamed('count', 'thumbs_up')\n",
    "df_3.select(\"*\")"
   ]
  },
  {
   "cell_type": "code",
   "execution_count": 72,
   "metadata": {},
   "outputs": [],
   "source": [
    "df_new = df_new.join(df_3, 'userId', 'inner')"
   ]
  },
  {
   "cell_type": "code",
   "execution_count": 73,
   "metadata": {},
   "outputs": [
    {
     "data": {
      "text/html": [
       "<table border='1'>\n",
       "<tr><th>userId</th><th>num_advertisement</th></tr>\n",
       "<tr><td>65</td><td>2</td></tr>\n",
       "<tr><td>140</td><td>12</td></tr>\n",
       "<tr><td>6</td><td>1</td></tr>\n",
       "<tr><td>61</td><td>7</td></tr>\n",
       "<tr><td>88</td><td>3</td></tr>\n",
       "<tr><td>100</td><td>5</td></tr>\n",
       "<tr><td>100013</td><td>3</td></tr>\n",
       "<tr><td>39</td><td>11</td></tr>\n",
       "<tr><td>24</td><td>4</td></tr>\n",
       "<tr><td>121</td><td>8</td></tr>\n",
       "<tr><td>100018</td><td>7</td></tr>\n",
       "<tr><td>42</td><td>1</td></tr>\n",
       "<tr><td>118</td><td>2</td></tr>\n",
       "<tr><td>46</td><td>1</td></tr>\n",
       "<tr><td>74</td><td>1</td></tr>\n",
       "<tr><td>138</td><td>2</td></tr>\n",
       "</table>\n"
      ],
      "text/plain": [
       "+------+-----------------+\n",
       "|userId|num_advertisement|\n",
       "+------+-----------------+\n",
       "|    65|                2|\n",
       "|   140|               12|\n",
       "|     6|                1|\n",
       "|    61|                7|\n",
       "|    88|                3|\n",
       "|   100|                5|\n",
       "|100013|                3|\n",
       "|    39|               11|\n",
       "|    24|                4|\n",
       "|   121|                8|\n",
       "|100018|                7|\n",
       "|    42|                1|\n",
       "|   118|                2|\n",
       "|    46|                1|\n",
       "|    74|                1|\n",
       "|   138|                2|\n",
       "+------+-----------------+"
      ]
     },
     "execution_count": 73,
     "metadata": {},
     "output_type": "execute_result"
    }
   ],
   "source": [
    "df_4 = df_new.select('userId', 'page')\\\n",
    "        .where('page = \"Roll Advert\"')\\\n",
    "        .groupby('userId').count()\\\n",
    "        .withColumnRenamed('count', 'num_advertisement')\n",
    "df_4.select(\"*\")"
   ]
  },
  {
   "cell_type": "code",
   "execution_count": 74,
   "metadata": {},
   "outputs": [],
   "source": [
    "df_new = df_new.join(df_4, 'userId', 'inner')"
   ]
  },
  {
   "cell_type": "code",
   "execution_count": 75,
   "metadata": {},
   "outputs": [
    {
     "data": {
      "text/html": [
       "<table border='1'>\n",
       "<tr><th>userId</th><th>thumbs_down</th></tr>\n",
       "<tr><td>65</td><td>2</td></tr>\n",
       "<tr><td>140</td><td>7</td></tr>\n",
       "<tr><td>6</td><td>3</td></tr>\n",
       "<tr><td>100</td><td>4</td></tr>\n",
       "<tr><td>100013</td><td>1</td></tr>\n",
       "<tr><td>39</td><td>2</td></tr>\n",
       "<tr><td>121</td><td>1</td></tr>\n",
       "<tr><td>100018</td><td>1</td></tr>\n",
       "<tr><td>42</td><td>4</td></tr>\n",
       "<tr><td>118</td><td>5</td></tr>\n",
       "<tr><td>46</td><td>2</td></tr>\n",
       "<tr><td>74</td><td>4</td></tr>\n",
       "<tr><td>138</td><td>2</td></tr>\n",
       "</table>\n"
      ],
      "text/plain": [
       "+------+-----------+\n",
       "|userId|thumbs_down|\n",
       "+------+-----------+\n",
       "|    65|          2|\n",
       "|   140|          7|\n",
       "|     6|          3|\n",
       "|   100|          4|\n",
       "|100013|          1|\n",
       "|    39|          2|\n",
       "|   121|          1|\n",
       "|100018|          1|\n",
       "|    42|          4|\n",
       "|   118|          5|\n",
       "|    46|          2|\n",
       "|    74|          4|\n",
       "|   138|          2|\n",
       "+------+-----------+"
      ]
     },
     "execution_count": 75,
     "metadata": {},
     "output_type": "execute_result"
    }
   ],
   "source": [
    "df_5 = df_new.select('userId', 'page')\\\n",
    "        .where('page = \"Thumbs Down\"')\\\n",
    "        .groupby('userId').count()\\\n",
    "        .withColumnRenamed('count', 'thumbs_down')\n",
    "df_5.select(\"*\")"
   ]
  },
  {
   "cell_type": "code",
   "execution_count": 76,
   "metadata": {},
   "outputs": [],
   "source": [
    "df_new = df_new.join(df_5, 'userId', 'inner')"
   ]
  },
  {
   "cell_type": "code",
   "execution_count": 77,
   "metadata": {},
   "outputs": [
    {
     "data": {
      "text/html": [
       "<table border='1'>\n",
       "<tr><th>userId</th><th>playlist_added</th></tr>\n",
       "<tr><td>65</td><td>7</td></tr>\n",
       "<tr><td>140</td><td>16</td></tr>\n",
       "<tr><td>6</td><td>12</td></tr>\n",
       "<tr><td>100</td><td>4</td></tr>\n",
       "<tr><td>100013</td><td>3</td></tr>\n",
       "<tr><td>39</td><td>20</td></tr>\n",
       "<tr><td>121</td><td>2</td></tr>\n",
       "<tr><td>100018</td><td>1</td></tr>\n",
       "<tr><td>42</td><td>9</td></tr>\n",
       "<tr><td>118</td><td>6</td></tr>\n",
       "<tr><td>46</td><td>4</td></tr>\n",
       "<tr><td>74</td><td>10</td></tr>\n",
       "<tr><td>138</td><td>4</td></tr>\n",
       "</table>\n"
      ],
      "text/plain": [
       "+------+--------------+\n",
       "|userId|playlist_added|\n",
       "+------+--------------+\n",
       "|    65|             7|\n",
       "|   140|            16|\n",
       "|     6|            12|\n",
       "|   100|             4|\n",
       "|100013|             3|\n",
       "|    39|            20|\n",
       "|   121|             2|\n",
       "|100018|             1|\n",
       "|    42|             9|\n",
       "|   118|             6|\n",
       "|    46|             4|\n",
       "|    74|            10|\n",
       "|   138|             4|\n",
       "+------+--------------+"
      ]
     },
     "execution_count": 77,
     "metadata": {},
     "output_type": "execute_result"
    }
   ],
   "source": [
    "df_6 = df_new.select('userId', 'page')\\\n",
    "        .where('page = \"Add to Playlist\"')\\\n",
    "        .groupby('userId').count()\\\n",
    "        .withColumnRenamed('count', 'playlist_added')\n",
    "df_6.select(\"*\")"
   ]
  },
  {
   "cell_type": "code",
   "execution_count": 78,
   "metadata": {},
   "outputs": [],
   "source": [
    "df_new = df_new.join(df_6, 'userId', 'inner')"
   ]
  },
  {
   "cell_type": "code",
   "execution_count": 79,
   "metadata": {},
   "outputs": [
    {
     "data": {
      "text/html": [
       "<table border='1'>\n",
       "<tr><th>userId</th><th>friend_added</th></tr>\n",
       "<tr><td>65</td><td>4</td></tr>\n",
       "<tr><td>140</td><td>16</td></tr>\n",
       "<tr><td>6</td><td>5</td></tr>\n",
       "<tr><td>100</td><td>6</td></tr>\n",
       "<tr><td>100013</td><td>6</td></tr>\n",
       "<tr><td>39</td><td>16</td></tr>\n",
       "<tr><td>100018</td><td>5</td></tr>\n",
       "<tr><td>42</td><td>9</td></tr>\n",
       "<tr><td>118</td><td>2</td></tr>\n",
       "<tr><td>46</td><td>4</td></tr>\n",
       "<tr><td>74</td><td>5</td></tr>\n",
       "<tr><td>138</td><td>11</td></tr>\n",
       "</table>\n"
      ],
      "text/plain": [
       "+------+------------+\n",
       "|userId|friend_added|\n",
       "+------+------------+\n",
       "|    65|           4|\n",
       "|   140|          16|\n",
       "|     6|           5|\n",
       "|   100|           6|\n",
       "|100013|           6|\n",
       "|    39|          16|\n",
       "|100018|           5|\n",
       "|    42|           9|\n",
       "|   118|           2|\n",
       "|    46|           4|\n",
       "|    74|           5|\n",
       "|   138|          11|\n",
       "+------+------------+"
      ]
     },
     "execution_count": 79,
     "metadata": {},
     "output_type": "execute_result"
    }
   ],
   "source": [
    "df_7 = df_new.select('userId', 'page')\\\n",
    "        .where('page = \"Add Friend\"')\\\n",
    "        .groupby('userId').count()\\\n",
    "        .withColumnRenamed('count', 'friend_added')\n",
    "df_7.select(\"*\")"
   ]
  },
  {
   "cell_type": "code",
   "execution_count": 80,
   "metadata": {},
   "outputs": [],
   "source": [
    "df_new = df_new.join(df_7, 'userId', 'inner')"
   ]
  },
  {
   "cell_type": "code",
   "execution_count": 81,
   "metadata": {},
   "outputs": [
    {
     "data": {
      "text/html": [
       "<table border='1'>\n",
       "<tr><th>userId</th><th>errors_pages</th></tr>\n",
       "<tr><td>140</td><td>1</td></tr>\n",
       "<tr><td>6</td><td>1</td></tr>\n",
       "</table>\n"
      ],
      "text/plain": [
       "+------+------------+\n",
       "|userId|errors_pages|\n",
       "+------+------------+\n",
       "|   140|           1|\n",
       "|     6|           1|\n",
       "+------+------------+"
      ]
     },
     "execution_count": 81,
     "metadata": {},
     "output_type": "execute_result"
    }
   ],
   "source": [
    "df_8 = df_new.select('userId', 'page')\\\n",
    "        .where('page = \"Error\"')\\\n",
    "        .groupby('userId').count()\\\n",
    "        .withColumnRenamed('count', 'errors_pages')\n",
    "df_8.select(\"*\")"
   ]
  },
  {
   "cell_type": "code",
   "execution_count": 82,
   "metadata": {},
   "outputs": [],
   "source": [
    "df_new = df_new.join(df_8, 'userId', 'inner')"
   ]
  },
  {
   "cell_type": "code",
   "execution_count": 83,
   "metadata": {},
   "outputs": [
    {
     "data": {
      "text/html": [
       "<table border='1'>\n",
       "<tr><th>userId</th><th>songs_persession</th></tr>\n",
       "<tr><td>140</td><td>8.610169491525424</td></tr>\n",
       "<tr><td>6</td><td>15.55</td></tr>\n",
       "</table>\n"
      ],
      "text/plain": [
       "+------+-----------------+\n",
       "|userId| songs_persession|\n",
       "+------+-----------------+\n",
       "|   140|8.610169491525424|\n",
       "|     6|            15.55|\n",
       "+------+-----------------+"
      ]
     },
     "execution_count": 83,
     "metadata": {},
     "output_type": "execute_result"
    }
   ],
   "source": [
    "df_9 = df_new.where('page == \"NextSong\"') \\\n",
    "        .groupby(['userId', 'sessionId']) \\\n",
    "        .count() \\\n",
    "        .groupby(['userId']) \\\n",
    "        .agg({'count':'avg'}) \\\n",
    "        .withColumnRenamed('avg(count)', 'songs_persession')\n",
    "df_9.select(\"*\")"
   ]
  },
  {
   "cell_type": "code",
   "execution_count": 84,
   "metadata": {},
   "outputs": [],
   "source": [
    "# Need to run\n",
    "df_new = df_new.join(df_9, 'userId', 'inner')"
   ]
  },
  {
   "cell_type": "code",
   "execution_count": 85,
   "metadata": {},
   "outputs": [
    {
     "name": "stdout",
     "output_type": "stream",
     "text": [
      "root\n",
      " |-- userId: integer (nullable = true)\n",
      " |-- auth: string (nullable = true)\n",
      " |-- length: double (nullable = true)\n",
      " |-- page: string (nullable = true)\n",
      " |-- sessionId: long (nullable = true)\n",
      " |-- song: string (nullable = true)\n",
      " |-- status: long (nullable = true)\n",
      " |-- ts: long (nullable = true)\n",
      " |-- userAgent: string (nullable = true)\n",
      " |-- label: double (nullable = false)\n",
      " |-- gender_int: double (nullable = false)\n",
      " |-- level_int: double (nullable = false)\n",
      " |-- state: string (nullable = true)\n",
      " |-- os_int: double (nullable = false)\n",
      " |-- browser_int: double (nullable = false)\n",
      " |-- ts_date: string (nullable = true)\n",
      " |-- day_of_week: integer (nullable = true)\n",
      " |-- hour: integer (nullable = true)\n",
      " |-- saved_settings: long (nullable = false)\n",
      " |-- num_songs: long (nullable = false)\n",
      " |-- thumbs_up: long (nullable = false)\n",
      " |-- num_advertisement: long (nullable = false)\n",
      " |-- thumbs_down: long (nullable = false)\n",
      " |-- playlist_added: long (nullable = false)\n",
      " |-- friend_added: long (nullable = false)\n",
      " |-- errors_pages: long (nullable = false)\n",
      " |-- songs_persession: double (nullable = true)\n",
      "\n"
     ]
    }
   ],
   "source": [
    "df_new.printSchema()"
   ]
  },
  {
   "cell_type": "code",
   "execution_count": 86,
   "metadata": {},
   "outputs": [],
   "source": [
    "df_new = df_new.drop(*['ts_date', 'state', 'userAgent', 'ts', 'status', 'song', 'sessionId', 'page', 'length', 'auth', 'userId'])"
   ]
  },
  {
   "cell_type": "code",
   "execution_count": 87,
   "metadata": {},
   "outputs": [
    {
     "data": {
      "text/html": [
       "<table border='1'>\n",
       "<tr><th>label</th><th>gender_int</th><th>level_int</th><th>os_int</th><th>browser_int</th><th>day_of_week</th><th>hour</th><th>saved_settings</th><th>num_songs</th><th>thumbs_up</th><th>num_advertisement</th><th>thumbs_down</th><th>playlist_added</th><th>friend_added</th><th>errors_pages</th><th>songs_persession</th></tr>\n",
       "<tr><td>0.0</td><td>0.0</td><td>1.0</td><td>0.0</td><td>0.0</td><td>2</td><td>9</td><td>1</td><td>640</td><td>27</td><td>12</td><td>7</td><td>16</td><td>16</td><td>1</td><td>8.610169491525424</td></tr>\n",
       "<tr><td>0.0</td><td>0.0</td><td>1.0</td><td>0.0</td><td>0.0</td><td>2</td><td>9</td><td>1</td><td>640</td><td>27</td><td>12</td><td>7</td><td>16</td><td>16</td><td>1</td><td>8.610169491525424</td></tr>\n",
       "<tr><td>0.0</td><td>0.0</td><td>1.0</td><td>0.0</td><td>0.0</td><td>2</td><td>9</td><td>1</td><td>640</td><td>27</td><td>12</td><td>7</td><td>16</td><td>16</td><td>1</td><td>8.610169491525424</td></tr>\n",
       "<tr><td>0.0</td><td>0.0</td><td>1.0</td><td>0.0</td><td>0.0</td><td>2</td><td>9</td><td>1</td><td>640</td><td>27</td><td>12</td><td>7</td><td>16</td><td>16</td><td>1</td><td>8.610169491525424</td></tr>\n",
       "<tr><td>0.0</td><td>0.0</td><td>1.0</td><td>0.0</td><td>0.0</td><td>2</td><td>10</td><td>1</td><td>640</td><td>27</td><td>12</td><td>7</td><td>16</td><td>16</td><td>1</td><td>8.610169491525424</td></tr>\n",
       "<tr><td>0.0</td><td>0.0</td><td>1.0</td><td>0.0</td><td>0.0</td><td>2</td><td>10</td><td>1</td><td>640</td><td>27</td><td>12</td><td>7</td><td>16</td><td>16</td><td>1</td><td>8.610169491525424</td></tr>\n",
       "<tr><td>0.0</td><td>0.0</td><td>1.0</td><td>0.0</td><td>0.0</td><td>2</td><td>10</td><td>1</td><td>640</td><td>27</td><td>12</td><td>7</td><td>16</td><td>16</td><td>1</td><td>8.610169491525424</td></tr>\n",
       "<tr><td>0.0</td><td>0.0</td><td>1.0</td><td>0.0</td><td>0.0</td><td>2</td><td>10</td><td>1</td><td>640</td><td>27</td><td>12</td><td>7</td><td>16</td><td>16</td><td>1</td><td>8.610169491525424</td></tr>\n",
       "<tr><td>0.0</td><td>0.0</td><td>1.0</td><td>0.0</td><td>0.0</td><td>3</td><td>15</td><td>1</td><td>640</td><td>27</td><td>12</td><td>7</td><td>16</td><td>16</td><td>1</td><td>8.610169491525424</td></tr>\n",
       "<tr><td>0.0</td><td>0.0</td><td>1.0</td><td>0.0</td><td>0.0</td><td>3</td><td>15</td><td>1</td><td>640</td><td>27</td><td>12</td><td>7</td><td>16</td><td>16</td><td>1</td><td>8.610169491525424</td></tr>\n",
       "<tr><td>0.0</td><td>0.0</td><td>1.0</td><td>0.0</td><td>0.0</td><td>3</td><td>16</td><td>1</td><td>640</td><td>27</td><td>12</td><td>7</td><td>16</td><td>16</td><td>1</td><td>8.610169491525424</td></tr>\n",
       "<tr><td>0.0</td><td>0.0</td><td>1.0</td><td>0.0</td><td>0.0</td><td>5</td><td>4</td><td>1</td><td>640</td><td>27</td><td>12</td><td>7</td><td>16</td><td>16</td><td>1</td><td>8.610169491525424</td></tr>\n",
       "<tr><td>0.0</td><td>0.0</td><td>1.0</td><td>0.0</td><td>0.0</td><td>5</td><td>6</td><td>1</td><td>640</td><td>27</td><td>12</td><td>7</td><td>16</td><td>16</td><td>1</td><td>8.610169491525424</td></tr>\n",
       "<tr><td>0.0</td><td>0.0</td><td>1.0</td><td>0.0</td><td>0.0</td><td>5</td><td>6</td><td>1</td><td>640</td><td>27</td><td>12</td><td>7</td><td>16</td><td>16</td><td>1</td><td>8.610169491525424</td></tr>\n",
       "<tr><td>0.0</td><td>0.0</td><td>1.0</td><td>0.0</td><td>0.0</td><td>6</td><td>0</td><td>1</td><td>640</td><td>27</td><td>12</td><td>7</td><td>16</td><td>16</td><td>1</td><td>8.610169491525424</td></tr>\n",
       "<tr><td>0.0</td><td>0.0</td><td>1.0</td><td>0.0</td><td>0.0</td><td>6</td><td>0</td><td>1</td><td>640</td><td>27</td><td>12</td><td>7</td><td>16</td><td>16</td><td>1</td><td>8.610169491525424</td></tr>\n",
       "<tr><td>0.0</td><td>0.0</td><td>1.0</td><td>0.0</td><td>0.0</td><td>6</td><td>0</td><td>1</td><td>640</td><td>27</td><td>12</td><td>7</td><td>16</td><td>16</td><td>1</td><td>8.610169491525424</td></tr>\n",
       "<tr><td>0.0</td><td>0.0</td><td>1.0</td><td>0.0</td><td>0.0</td><td>6</td><td>1</td><td>1</td><td>640</td><td>27</td><td>12</td><td>7</td><td>16</td><td>16</td><td>1</td><td>8.610169491525424</td></tr>\n",
       "<tr><td>0.0</td><td>0.0</td><td>1.0</td><td>0.0</td><td>0.0</td><td>6</td><td>18</td><td>1</td><td>640</td><td>27</td><td>12</td><td>7</td><td>16</td><td>16</td><td>1</td><td>8.610169491525424</td></tr>\n",
       "<tr><td>0.0</td><td>0.0</td><td>0.0</td><td>0.0</td><td>0.0</td><td>6</td><td>19</td><td>1</td><td>640</td><td>27</td><td>12</td><td>7</td><td>16</td><td>16</td><td>1</td><td>8.610169491525424</td></tr>\n",
       "</table>\n",
       "only showing top 20 rows\n"
      ],
      "text/plain": [
       "+-----+----------+---------+------+-----------+-----------+----+--------------+---------+---------+-----------------+-----------+--------------+------------+------------+-----------------+\n",
       "|label|gender_int|level_int|os_int|browser_int|day_of_week|hour|saved_settings|num_songs|thumbs_up|num_advertisement|thumbs_down|playlist_added|friend_added|errors_pages| songs_persession|\n",
       "+-----+----------+---------+------+-----------+-----------+----+--------------+---------+---------+-----------------+-----------+--------------+------------+------------+-----------------+\n",
       "|  0.0|       0.0|      1.0|   0.0|        0.0|          2|   9|             1|      640|       27|               12|          7|            16|          16|           1|8.610169491525424|\n",
       "|  0.0|       0.0|      1.0|   0.0|        0.0|          2|   9|             1|      640|       27|               12|          7|            16|          16|           1|8.610169491525424|\n",
       "|  0.0|       0.0|      1.0|   0.0|        0.0|          2|   9|             1|      640|       27|               12|          7|            16|          16|           1|8.610169491525424|\n",
       "|  0.0|       0.0|      1.0|   0.0|        0.0|          2|   9|             1|      640|       27|               12|          7|            16|          16|           1|8.610169491525424|\n",
       "|  0.0|       0.0|      1.0|   0.0|        0.0|          2|  10|             1|      640|       27|               12|          7|            16|          16|           1|8.610169491525424|\n",
       "|  0.0|       0.0|      1.0|   0.0|        0.0|          2|  10|             1|      640|       27|               12|          7|            16|          16|           1|8.610169491525424|\n",
       "|  0.0|       0.0|      1.0|   0.0|        0.0|          2|  10|             1|      640|       27|               12|          7|            16|          16|           1|8.610169491525424|\n",
       "|  0.0|       0.0|      1.0|   0.0|        0.0|          2|  10|             1|      640|       27|               12|          7|            16|          16|           1|8.610169491525424|\n",
       "|  0.0|       0.0|      1.0|   0.0|        0.0|          3|  15|             1|      640|       27|               12|          7|            16|          16|           1|8.610169491525424|\n",
       "|  0.0|       0.0|      1.0|   0.0|        0.0|          3|  15|             1|      640|       27|               12|          7|            16|          16|           1|8.610169491525424|\n",
       "|  0.0|       0.0|      1.0|   0.0|        0.0|          3|  16|             1|      640|       27|               12|          7|            16|          16|           1|8.610169491525424|\n",
       "|  0.0|       0.0|      1.0|   0.0|        0.0|          5|   4|             1|      640|       27|               12|          7|            16|          16|           1|8.610169491525424|\n",
       "|  0.0|       0.0|      1.0|   0.0|        0.0|          5|   6|             1|      640|       27|               12|          7|            16|          16|           1|8.610169491525424|\n",
       "|  0.0|       0.0|      1.0|   0.0|        0.0|          5|   6|             1|      640|       27|               12|          7|            16|          16|           1|8.610169491525424|\n",
       "|  0.0|       0.0|      1.0|   0.0|        0.0|          6|   0|             1|      640|       27|               12|          7|            16|          16|           1|8.610169491525424|\n",
       "|  0.0|       0.0|      1.0|   0.0|        0.0|          6|   0|             1|      640|       27|               12|          7|            16|          16|           1|8.610169491525424|\n",
       "|  0.0|       0.0|      1.0|   0.0|        0.0|          6|   0|             1|      640|       27|               12|          7|            16|          16|           1|8.610169491525424|\n",
       "|  0.0|       0.0|      1.0|   0.0|        0.0|          6|   1|             1|      640|       27|               12|          7|            16|          16|           1|8.610169491525424|\n",
       "|  0.0|       0.0|      1.0|   0.0|        0.0|          6|  18|             1|      640|       27|               12|          7|            16|          16|           1|8.610169491525424|\n",
       "|  0.0|       0.0|      0.0|   0.0|        0.0|          6|  19|             1|      640|       27|               12|          7|            16|          16|           1|8.610169491525424|\n",
       "+-----+----------+---------+------+-----------+-----------+----+--------------+---------+---------+-----------------+-----------+--------------+------------+------------+-----------------+\n",
       "only showing top 20 rows"
      ]
     },
     "execution_count": 87,
     "metadata": {},
     "output_type": "execute_result"
    }
   ],
   "source": [
    "df_new.persist()"
   ]
  },
  {
   "cell_type": "code",
   "execution_count": 88,
   "metadata": {},
   "outputs": [],
   "source": [
    "feature_columns = ['gender_int', 'level_int', 'os_int', 'browser_int', 'day_of_week', \n",
    "                   'hour', 'saved_settings', 'num_songs', 'thumbs_up', 'num_advertisement', \n",
    "                   'thumbs_down', 'playlist_added', 'friend_added', 'errors_pages', 'songs_persession']"
   ]
  },
  {
   "cell_type": "code",
   "execution_count": 89,
   "metadata": {},
   "outputs": [],
   "source": [
    "assembler = VectorAssembler(inputCols=feature_columns, outputCol='vector_features')"
   ]
  },
  {
   "cell_type": "code",
   "execution_count": 90,
   "metadata": {},
   "outputs": [],
   "source": [
    "df_new = assembler.transform(df_new)"
   ]
  },
  {
   "cell_type": "code",
   "execution_count": 91,
   "metadata": {},
   "outputs": [
    {
     "name": "stdout",
     "output_type": "stream",
     "text": [
      "root\n",
      " |-- label: double (nullable = false)\n",
      " |-- gender_int: double (nullable = false)\n",
      " |-- level_int: double (nullable = false)\n",
      " |-- os_int: double (nullable = false)\n",
      " |-- browser_int: double (nullable = false)\n",
      " |-- day_of_week: integer (nullable = true)\n",
      " |-- hour: integer (nullable = true)\n",
      " |-- saved_settings: long (nullable = false)\n",
      " |-- num_songs: long (nullable = false)\n",
      " |-- thumbs_up: long (nullable = false)\n",
      " |-- num_advertisement: long (nullable = false)\n",
      " |-- thumbs_down: long (nullable = false)\n",
      " |-- playlist_added: long (nullable = false)\n",
      " |-- friend_added: long (nullable = false)\n",
      " |-- errors_pages: long (nullable = false)\n",
      " |-- songs_persession: double (nullable = true)\n",
      " |-- vector_features: vector (nullable = true)\n",
      "\n"
     ]
    }
   ],
   "source": [
    "df_new.printSchema()"
   ]
  },
  {
   "cell_type": "code",
   "execution_count": 92,
   "metadata": {},
   "outputs": [],
   "source": [
    "normalizer = Normalizer(inputCol='vector_features', outputCol='features')"
   ]
  },
  {
   "cell_type": "code",
   "execution_count": 93,
   "metadata": {},
   "outputs": [],
   "source": [
    "df_new = normalizer.transform(df_new)"
   ]
  },
  {
   "cell_type": "code",
   "execution_count": 94,
   "metadata": {},
   "outputs": [
    {
     "name": "stdout",
     "output_type": "stream",
     "text": [
      "root\n",
      " |-- label: double (nullable = false)\n",
      " |-- gender_int: double (nullable = false)\n",
      " |-- level_int: double (nullable = false)\n",
      " |-- os_int: double (nullable = false)\n",
      " |-- browser_int: double (nullable = false)\n",
      " |-- day_of_week: integer (nullable = true)\n",
      " |-- hour: integer (nullable = true)\n",
      " |-- saved_settings: long (nullable = false)\n",
      " |-- num_songs: long (nullable = false)\n",
      " |-- thumbs_up: long (nullable = false)\n",
      " |-- num_advertisement: long (nullable = false)\n",
      " |-- thumbs_down: long (nullable = false)\n",
      " |-- playlist_added: long (nullable = false)\n",
      " |-- friend_added: long (nullable = false)\n",
      " |-- errors_pages: long (nullable = false)\n",
      " |-- songs_persession: double (nullable = true)\n",
      " |-- vector_features: vector (nullable = true)\n",
      " |-- features: vector (nullable = true)\n",
      "\n"
     ]
    }
   ],
   "source": [
    "df_new.printSchema()"
   ]
  },
  {
   "cell_type": "code",
   "execution_count": 95,
   "metadata": {},
   "outputs": [],
   "source": [
    "data = df_new.select('features', 'label')"
   ]
  },
  {
   "cell_type": "code",
   "execution_count": 96,
   "metadata": {},
   "outputs": [
    {
     "name": "stdout",
     "output_type": "stream",
     "text": [
      "+-------------------------------------------------------------------------------------------------------------------------------------------------------------------------------------------------------------------------------------------------------------------------+-----+\n",
      "|features                                                                                                                                                                                                                                                                 |label|\n",
      "+-------------------------------------------------------------------------------------------------------------------------------------------------------------------------------------------------------------------------------------------------------------------------+-----+\n",
      "|[0.0,0.0015594644828134502,0.0,0.0,0.0031189289656269005,0.01403518034532105,0.0015594644828134502,0.9980572690006081,0.04210554103596315,0.0187135737937614,0.010916251379694151,0.024951431725015204,0.024951431725015204,0.0015594644828134502,0.013427253513037841]  |0.0  |\n",
      "|[0.0,0.0015594644828134502,0.0,0.0,0.0031189289656269005,0.01403518034532105,0.0015594644828134502,0.9980572690006081,0.04210554103596315,0.0187135737937614,0.010916251379694151,0.024951431725015204,0.024951431725015204,0.0015594644828134502,0.013427253513037841]  |0.0  |\n",
      "|[0.0,0.0015594644828134502,0.0,0.0,0.0031189289656269005,0.01403518034532105,0.0015594644828134502,0.9980572690006081,0.04210554103596315,0.0187135737937614,0.010916251379694151,0.024951431725015204,0.024951431725015204,0.0015594644828134502,0.013427253513037841]  |0.0  |\n",
      "|[0.0,0.0015594644828134502,0.0,0.0,0.0031189289656269005,0.01403518034532105,0.0015594644828134502,0.9980572690006081,0.04210554103596315,0.0187135737937614,0.010916251379694151,0.024951431725015204,0.024951431725015204,0.0015594644828134502,0.013427253513037841]  |0.0  |\n",
      "|[0.0,0.001559428455239419,0.0,0.0,0.003118856910478838,0.01559428455239419,0.001559428455239419,0.9980342113532281,0.04210456829146431,0.018713141462873027,0.010915999186675933,0.024950855283830703,0.024950855283830703,0.001559428455239419,0.013426943309519065]    |0.0  |\n",
      "|[0.0,0.001559428455239419,0.0,0.0,0.003118856910478838,0.01559428455239419,0.001559428455239419,0.9980342113532281,0.04210456829146431,0.018713141462873027,0.010915999186675933,0.024950855283830703,0.024950855283830703,0.001559428455239419,0.013426943309519065]    |0.0  |\n",
      "|[0.0,0.001559428455239419,0.0,0.0,0.003118856910478838,0.01559428455239419,0.001559428455239419,0.9980342113532281,0.04210456829146431,0.018713141462873027,0.010915999186675933,0.024950855283830703,0.024950855283830703,0.001559428455239419,0.013426943309519065]    |0.0  |\n",
      "|[0.0,0.001559428455239419,0.0,0.0,0.003118856910478838,0.01559428455239419,0.001559428455239419,0.9980342113532281,0.04210456829146431,0.018713141462873027,0.010915999186675933,0.024950855283830703,0.024950855283830703,0.001559428455239419,0.013426943309519065]    |0.0  |\n",
      "|[0.0,0.0015591820177570913,0.0,0.0,0.004677546053271274,0.02338773026635637,0.0015591820177570913,0.9978764913645385,0.042097914479441466,0.018710184213085096,0.01091427412429964,0.02494691228411346,0.02494691228411346,0.0015591820177570913,0.01342482144102716]    |0.0  |\n",
      "|[0.0,0.0015591820177570913,0.0,0.0,0.004677546053271274,0.02338773026635637,0.0015591820177570913,0.9978764913645385,0.042097914479441466,0.018710184213085096,0.01091427412429964,0.02494691228411346,0.02494691228411346,0.0015591820177570913,0.01342482144102716]    |0.0  |\n",
      "|[0.0,0.0015591232691459587,0.0,0.0,0.004677369807437876,0.02494597230633534,0.0015591232691459587,0.9978388922534136,0.04209632826694088,0.018709479229751504,0.010913862884021712,0.02494597230633534,0.02494597230633534,0.0015591232691459587,0.013424315605527915]   |0.0  |\n",
      "|[0.0,0.001559547924678064,0.0,0.0,0.00779773962339032,0.006238191698712256,0.001559547924678064,0.998110671793961,0.04210779396630773,0.01871457509613677,0.010916835472746448,0.024952766794849025,0.024952766794849025,0.001559547924678064,0.013427971961634857]      |0.0  |\n",
      "|[0.0,0.0015595099948973962,0.0,0.0,0.007797549974486981,0.009357059969384377,0.0015595099948973962,0.9980863967343335,0.0421067698622297,0.018714119938768755,0.010916569964281773,0.02495215991835834,0.02495215991835834,0.0015595099948973962,0.01342764537979453]    |0.0  |\n",
      "|[0.0,0.0015595099948973962,0.0,0.0,0.007797549974486981,0.009357059969384377,0.0015595099948973962,0.9980863967343335,0.0421067698622297,0.018714119938768755,0.010916569964281773,0.02495215991835834,0.02495215991835834,0.0015595099948973962,0.01342764537979453]    |0.0  |\n",
      "|[0.0,0.0015595574075556668,0.0,0.0,0.009357344445334,0.0,0.0015595574075556668,0.9981167408356267,0.04210805000400301,0.018714688890668,0.010916901852889668,0.02495291852089067,0.02495291852089067,0.0015595574075556668,0.013428053610818284]                         |0.0  |\n",
      "|[0.0,0.0015595574075556668,0.0,0.0,0.009357344445334,0.0,0.0015595574075556668,0.9981167408356267,0.04210805000400301,0.018714688890668,0.010916901852889668,0.02495291852089067,0.02495291852089067,0.0015595574075556668,0.013428053610818284]                         |0.0  |\n",
      "|[0.0,0.0015595574075556668,0.0,0.0,0.009357344445334,0.0,0.0015595574075556668,0.9981167408356267,0.04210805000400301,0.018714688890668,0.010916901852889668,0.02495291852089067,0.02495291852089067,0.0015595574075556668,0.013428053610818284]                         |0.0  |\n",
      "|[0.0,0.0015595555109663077,0.0,0.0,0.009357333065797847,0.0015595555109663077,0.0015595555109663077,0.998115527018437,0.04210799879609031,0.018714666131595694,0.010916888576764155,0.024952888175460923,0.024952888175460923,0.0015595555109663077,0.013428037280862446]|0.0  |\n",
      "|[0.0,0.001558943274429191,0.0,0.0,0.009353659646575146,0.02806097893972544,0.001558943274429191,0.9977236956346823,0.04209146840958816,0.018707319293150292,0.010912602921004337,0.024943092390867058,0.024943092390867058,0.001558943274429191,0.013422765820508968]    |0.0  |\n",
      "|[0.0,0.0,0.0,0.0,0.009353250493144326,0.029618626561623698,0.001558875082190721,0.9976800526020614,0.04208962721914947,0.018706500986288652,0.010912125575335047,0.024942001315051535,0.024942001315051535,0.001558875082190721,0.013422178673777733]                    |0.0  |\n",
      "+-------------------------------------------------------------------------------------------------------------------------------------------------------------------------------------------------------------------------------------------------------------------------+-----+\n",
      "only showing top 20 rows\n",
      "\n"
     ]
    }
   ],
   "source": [
    "data.show(20, False)"
   ]
  },
  {
   "cell_type": "code",
   "execution_count": 97,
   "metadata": {},
   "outputs": [],
   "source": [
    "spark.catalog.clearCache()"
   ]
  },
  {
   "cell_type": "code",
   "execution_count": 98,
   "metadata": {},
   "outputs": [
    {
     "data": {
      "text/html": [
       "<table border='1'>\n",
       "<tr><th>features</th><th>label</th></tr>\n",
       "<tr><td>[0.0,0.0015594644...</td><td>0.0</td></tr>\n",
       "<tr><td>[0.0,0.0015594644...</td><td>0.0</td></tr>\n",
       "<tr><td>[0.0,0.0015594644...</td><td>0.0</td></tr>\n",
       "<tr><td>[0.0,0.0015594644...</td><td>0.0</td></tr>\n",
       "<tr><td>[0.0,0.0015594284...</td><td>0.0</td></tr>\n",
       "<tr><td>[0.0,0.0015594284...</td><td>0.0</td></tr>\n",
       "<tr><td>[0.0,0.0015594284...</td><td>0.0</td></tr>\n",
       "<tr><td>[0.0,0.0015594284...</td><td>0.0</td></tr>\n",
       "<tr><td>[0.0,0.0015591820...</td><td>0.0</td></tr>\n",
       "<tr><td>[0.0,0.0015591820...</td><td>0.0</td></tr>\n",
       "<tr><td>[0.0,0.0015591232...</td><td>0.0</td></tr>\n",
       "<tr><td>[0.0,0.0015595479...</td><td>0.0</td></tr>\n",
       "<tr><td>[0.0,0.0015595099...</td><td>0.0</td></tr>\n",
       "<tr><td>[0.0,0.0015595099...</td><td>0.0</td></tr>\n",
       "<tr><td>[0.0,0.0015595574...</td><td>0.0</td></tr>\n",
       "<tr><td>[0.0,0.0015595574...</td><td>0.0</td></tr>\n",
       "<tr><td>[0.0,0.0015595574...</td><td>0.0</td></tr>\n",
       "<tr><td>[0.0,0.0015595555...</td><td>0.0</td></tr>\n",
       "<tr><td>[0.0,0.0015589432...</td><td>0.0</td></tr>\n",
       "<tr><td>[0.0,0.0,0.0,0.0,...</td><td>0.0</td></tr>\n",
       "</table>\n",
       "only showing top 20 rows\n"
      ],
      "text/plain": [
       "+--------------------+-----+\n",
       "|            features|label|\n",
       "+--------------------+-----+\n",
       "|[0.0,0.0015594644...|  0.0|\n",
       "|[0.0,0.0015594644...|  0.0|\n",
       "|[0.0,0.0015594644...|  0.0|\n",
       "|[0.0,0.0015594644...|  0.0|\n",
       "|[0.0,0.0015594284...|  0.0|\n",
       "|[0.0,0.0015594284...|  0.0|\n",
       "|[0.0,0.0015594284...|  0.0|\n",
       "|[0.0,0.0015594284...|  0.0|\n",
       "|[0.0,0.0015591820...|  0.0|\n",
       "|[0.0,0.0015591820...|  0.0|\n",
       "|[0.0,0.0015591232...|  0.0|\n",
       "|[0.0,0.0015595479...|  0.0|\n",
       "|[0.0,0.0015595099...|  0.0|\n",
       "|[0.0,0.0015595099...|  0.0|\n",
       "|[0.0,0.0015595574...|  0.0|\n",
       "|[0.0,0.0015595574...|  0.0|\n",
       "|[0.0,0.0015595574...|  0.0|\n",
       "|[0.0,0.0015595555...|  0.0|\n",
       "|[0.0,0.0015589432...|  0.0|\n",
       "|[0.0,0.0,0.0,0.0,...|  0.0|\n",
       "+--------------------+-----+\n",
       "only showing top 20 rows"
      ]
     },
     "execution_count": 98,
     "metadata": {},
     "output_type": "execute_result"
    }
   ],
   "source": [
    "data.cache()"
   ]
  },
  {
   "cell_type": "markdown",
   "metadata": {},
   "source": [
    "# Modeling\n",
    "Split the full dataset into train, test, and validation sets. Test out several of the machine learning methods you learned. Evaluate the accuracy of the various models, tuning parameters as necessary. Determine your winning model based on test accuracy and report results on the validation set. Since the churned users are a fairly small subset, I suggest using F1 score as the metric to optimize."
   ]
  },
  {
   "cell_type": "code",
   "execution_count": 99,
   "metadata": {},
   "outputs": [],
   "source": [
    "seed = 1234"
   ]
  },
  {
   "cell_type": "code",
   "execution_count": 100,
   "metadata": {},
   "outputs": [
    {
     "data": {
      "text/html": [
       "<table border='1'>\n",
       "<tr><th>features</th><th>label</th></tr>\n",
       "<tr><td>[0.0,0.0015594644...</td><td>0.0</td></tr>\n",
       "<tr><td>[0.0,0.0015594644...</td><td>0.0</td></tr>\n",
       "<tr><td>[0.0,0.0015594644...</td><td>0.0</td></tr>\n",
       "<tr><td>[0.0,0.0015594644...</td><td>0.0</td></tr>\n",
       "<tr><td>[0.0,0.0015594284...</td><td>0.0</td></tr>\n",
       "<tr><td>[0.0,0.0015594284...</td><td>0.0</td></tr>\n",
       "<tr><td>[0.0,0.0015594284...</td><td>0.0</td></tr>\n",
       "<tr><td>[0.0,0.0015594284...</td><td>0.0</td></tr>\n",
       "<tr><td>[0.0,0.0015591820...</td><td>0.0</td></tr>\n",
       "<tr><td>[0.0,0.0015591820...</td><td>0.0</td></tr>\n",
       "<tr><td>[0.0,0.0015591232...</td><td>0.0</td></tr>\n",
       "<tr><td>[0.0,0.0015595479...</td><td>0.0</td></tr>\n",
       "<tr><td>[0.0,0.0015595099...</td><td>0.0</td></tr>\n",
       "<tr><td>[0.0,0.0015595099...</td><td>0.0</td></tr>\n",
       "<tr><td>[0.0,0.0015595574...</td><td>0.0</td></tr>\n",
       "<tr><td>[0.0,0.0015595574...</td><td>0.0</td></tr>\n",
       "<tr><td>[0.0,0.0015595574...</td><td>0.0</td></tr>\n",
       "<tr><td>[0.0,0.0015595555...</td><td>0.0</td></tr>\n",
       "<tr><td>[0.0,0.0015589432...</td><td>0.0</td></tr>\n",
       "<tr><td>[0.0,0.0,0.0,0.0,...</td><td>0.0</td></tr>\n",
       "</table>\n",
       "only showing top 20 rows\n"
      ],
      "text/plain": [
       "+--------------------+-----+\n",
       "|            features|label|\n",
       "+--------------------+-----+\n",
       "|[0.0,0.0015594644...|  0.0|\n",
       "|[0.0,0.0015594644...|  0.0|\n",
       "|[0.0,0.0015594644...|  0.0|\n",
       "|[0.0,0.0015594644...|  0.0|\n",
       "|[0.0,0.0015594284...|  0.0|\n",
       "|[0.0,0.0015594284...|  0.0|\n",
       "|[0.0,0.0015594284...|  0.0|\n",
       "|[0.0,0.0015594284...|  0.0|\n",
       "|[0.0,0.0015591820...|  0.0|\n",
       "|[0.0,0.0015591820...|  0.0|\n",
       "|[0.0,0.0015591232...|  0.0|\n",
       "|[0.0,0.0015595479...|  0.0|\n",
       "|[0.0,0.0015595099...|  0.0|\n",
       "|[0.0,0.0015595099...|  0.0|\n",
       "|[0.0,0.0015595574...|  0.0|\n",
       "|[0.0,0.0015595574...|  0.0|\n",
       "|[0.0,0.0015595574...|  0.0|\n",
       "|[0.0,0.0015595555...|  0.0|\n",
       "|[0.0,0.0015589432...|  0.0|\n",
       "|[0.0,0.0,0.0,0.0,...|  0.0|\n",
       "+--------------------+-----+\n",
       "only showing top 20 rows"
      ]
     },
     "execution_count": 100,
     "metadata": {},
     "output_type": "execute_result"
    }
   ],
   "source": [
    "data.select(\"*\")"
   ]
  },
  {
   "cell_type": "code",
   "execution_count": 101,
   "metadata": {},
   "outputs": [],
   "source": [
    "train, test = data.randomSplit([0.8, 0.2], seed=seed)"
   ]
  },
  {
   "cell_type": "markdown",
   "metadata": {},
   "source": [
    "## Logistic Regression"
   ]
  },
  {
   "cell_type": "code",
   "execution_count": 102,
   "metadata": {},
   "outputs": [],
   "source": [
    "lr = LogisticRegression()"
   ]
  },
  {
   "cell_type": "code",
   "execution_count": 103,
   "metadata": {},
   "outputs": [
    {
     "name": "stdout",
     "output_type": "stream",
     "text": [
      "CPU times: user 13.6 ms, sys: 6.11 ms, total: 19.7 ms\n",
      "Wall time: 41.7 s\n"
     ]
    }
   ],
   "source": [
    "%%time\n",
    "lr_model = lr.fit(train)"
   ]
  },
  {
   "cell_type": "code",
   "execution_count": 104,
   "metadata": {},
   "outputs": [],
   "source": [
    "lr_predictions = lr_model.transform(test)"
   ]
  },
  {
   "cell_type": "code",
   "execution_count": 105,
   "metadata": {},
   "outputs": [
    {
     "name": "stdout",
     "output_type": "stream",
     "text": [
      "root\n",
      " |-- features: vector (nullable = true)\n",
      " |-- label: double (nullable = false)\n",
      " |-- rawPrediction: vector (nullable = true)\n",
      " |-- probability: vector (nullable = true)\n",
      " |-- prediction: double (nullable = false)\n",
      "\n"
     ]
    }
   ],
   "source": [
    "lr_predictions.printSchema()"
   ]
  },
  {
   "cell_type": "code",
   "execution_count": 106,
   "metadata": {},
   "outputs": [
    {
     "data": {
      "text/html": [
       "<table border='1'>\n",
       "<tr><th>features</th><th>label</th><th>rawPrediction</th><th>probability</th><th>prediction</th></tr>\n",
       "<tr><td>[0.0,0.0,0.0,0.0,...</td><td>0.0</td><td>[-Infinity,Infinity]</td><td>[0.0,1.0]</td><td>1.0</td></tr>\n",
       "<tr><td>[0.0,0.0,0.0,0.0,...</td><td>0.0</td><td>[-Infinity,Infinity]</td><td>[0.0,1.0]</td><td>1.0</td></tr>\n",
       "<tr><td>[0.0,0.0,0.0,0.0,...</td><td>0.0</td><td>[-Infinity,Infinity]</td><td>[0.0,1.0]</td><td>1.0</td></tr>\n",
       "<tr><td>[0.0,0.0,0.0,0.0,...</td><td>0.0</td><td>[-Infinity,Infinity]</td><td>[0.0,1.0]</td><td>1.0</td></tr>\n",
       "<tr><td>[0.0,0.0,0.0,0.0,...</td><td>0.0</td><td>[-Infinity,Infinity]</td><td>[0.0,1.0]</td><td>1.0</td></tr>\n",
       "<tr><td>[0.0,0.0,0.0,0.0,...</td><td>0.0</td><td>[-Infinity,Infinity]</td><td>[0.0,1.0]</td><td>1.0</td></tr>\n",
       "<tr><td>[0.0,0.0,0.0,0.0,...</td><td>0.0</td><td>[-Infinity,Infinity]</td><td>[0.0,1.0]</td><td>1.0</td></tr>\n",
       "<tr><td>[0.0,0.0,0.0,0.0,...</td><td>0.0</td><td>[-Infinity,Infinity]</td><td>[0.0,1.0]</td><td>1.0</td></tr>\n",
       "<tr><td>[0.0,0.0,0.0,0.0,...</td><td>0.0</td><td>[-Infinity,Infinity]</td><td>[0.0,1.0]</td><td>1.0</td></tr>\n",
       "<tr><td>[0.0,0.0,0.0,0.0,...</td><td>0.0</td><td>[-Infinity,Infinity]</td><td>[0.0,1.0]</td><td>1.0</td></tr>\n",
       "<tr><td>[0.0,0.0,0.0,0.0,...</td><td>0.0</td><td>[-Infinity,Infinity]</td><td>[0.0,1.0]</td><td>1.0</td></tr>\n",
       "<tr><td>[0.0,0.0,0.0,0.0,...</td><td>0.0</td><td>[-Infinity,Infinity]</td><td>[0.0,1.0]</td><td>1.0</td></tr>\n",
       "<tr><td>[0.0,0.0,0.0,0.0,...</td><td>0.0</td><td>[-Infinity,Infinity]</td><td>[0.0,1.0]</td><td>1.0</td></tr>\n",
       "<tr><td>[0.0,0.0,0.0,0.0,...</td><td>0.0</td><td>[-Infinity,Infinity]</td><td>[0.0,1.0]</td><td>1.0</td></tr>\n",
       "<tr><td>[0.0,0.0,0.0,0.0,...</td><td>0.0</td><td>[-Infinity,Infinity]</td><td>[0.0,1.0]</td><td>1.0</td></tr>\n",
       "<tr><td>[0.0,0.0,0.0,0.0,...</td><td>0.0</td><td>[-Infinity,Infinity]</td><td>[0.0,1.0]</td><td>1.0</td></tr>\n",
       "<tr><td>[0.0,0.0,0.0,0.0,...</td><td>0.0</td><td>[-Infinity,Infinity]</td><td>[0.0,1.0]</td><td>1.0</td></tr>\n",
       "<tr><td>[0.0,0.0,0.0,0.0,...</td><td>0.0</td><td>[-Infinity,Infinity]</td><td>[0.0,1.0]</td><td>1.0</td></tr>\n",
       "<tr><td>[0.0,0.0,0.0,0.0,...</td><td>0.0</td><td>[-Infinity,Infinity]</td><td>[0.0,1.0]</td><td>1.0</td></tr>\n",
       "<tr><td>[0.0,0.0,0.0,0.0,...</td><td>0.0</td><td>[-Infinity,Infinity]</td><td>[0.0,1.0]</td><td>1.0</td></tr>\n",
       "</table>\n",
       "only showing top 20 rows\n"
      ],
      "text/plain": [
       "+--------------------+-----+--------------------+-----------+----------+\n",
       "|            features|label|       rawPrediction|probability|prediction|\n",
       "+--------------------+-----+--------------------+-----------+----------+\n",
       "|[0.0,0.0,0.0,0.0,...|  0.0|[-Infinity,Infinity]|  [0.0,1.0]|       1.0|\n",
       "|[0.0,0.0,0.0,0.0,...|  0.0|[-Infinity,Infinity]|  [0.0,1.0]|       1.0|\n",
       "|[0.0,0.0,0.0,0.0,...|  0.0|[-Infinity,Infinity]|  [0.0,1.0]|       1.0|\n",
       "|[0.0,0.0,0.0,0.0,...|  0.0|[-Infinity,Infinity]|  [0.0,1.0]|       1.0|\n",
       "|[0.0,0.0,0.0,0.0,...|  0.0|[-Infinity,Infinity]|  [0.0,1.0]|       1.0|\n",
       "|[0.0,0.0,0.0,0.0,...|  0.0|[-Infinity,Infinity]|  [0.0,1.0]|       1.0|\n",
       "|[0.0,0.0,0.0,0.0,...|  0.0|[-Infinity,Infinity]|  [0.0,1.0]|       1.0|\n",
       "|[0.0,0.0,0.0,0.0,...|  0.0|[-Infinity,Infinity]|  [0.0,1.0]|       1.0|\n",
       "|[0.0,0.0,0.0,0.0,...|  0.0|[-Infinity,Infinity]|  [0.0,1.0]|       1.0|\n",
       "|[0.0,0.0,0.0,0.0,...|  0.0|[-Infinity,Infinity]|  [0.0,1.0]|       1.0|\n",
       "|[0.0,0.0,0.0,0.0,...|  0.0|[-Infinity,Infinity]|  [0.0,1.0]|       1.0|\n",
       "|[0.0,0.0,0.0,0.0,...|  0.0|[-Infinity,Infinity]|  [0.0,1.0]|       1.0|\n",
       "|[0.0,0.0,0.0,0.0,...|  0.0|[-Infinity,Infinity]|  [0.0,1.0]|       1.0|\n",
       "|[0.0,0.0,0.0,0.0,...|  0.0|[-Infinity,Infinity]|  [0.0,1.0]|       1.0|\n",
       "|[0.0,0.0,0.0,0.0,...|  0.0|[-Infinity,Infinity]|  [0.0,1.0]|       1.0|\n",
       "|[0.0,0.0,0.0,0.0,...|  0.0|[-Infinity,Infinity]|  [0.0,1.0]|       1.0|\n",
       "|[0.0,0.0,0.0,0.0,...|  0.0|[-Infinity,Infinity]|  [0.0,1.0]|       1.0|\n",
       "|[0.0,0.0,0.0,0.0,...|  0.0|[-Infinity,Infinity]|  [0.0,1.0]|       1.0|\n",
       "|[0.0,0.0,0.0,0.0,...|  0.0|[-Infinity,Infinity]|  [0.0,1.0]|       1.0|\n",
       "|[0.0,0.0,0.0,0.0,...|  0.0|[-Infinity,Infinity]|  [0.0,1.0]|       1.0|\n",
       "+--------------------+-----+--------------------+-----------+----------+\n",
       "only showing top 20 rows"
      ]
     },
     "execution_count": 106,
     "metadata": {},
     "output_type": "execute_result"
    }
   ],
   "source": [
    "lr_predictions.select(\"*\")"
   ]
  },
  {
   "cell_type": "code",
   "execution_count": 107,
   "metadata": {},
   "outputs": [
    {
     "data": {
      "text/html": [
       "<table border='1'>\n",
       "<tr><th>rawPrediction</th><th>probability</th><th>prediction</th></tr>\n",
       "<tr><td>[-Infinity,Infinity]</td><td>[0.0,1.0]</td><td>1.0</td></tr>\n",
       "<tr><td>[-Infinity,Infinity]</td><td>[0.0,1.0]</td><td>1.0</td></tr>\n",
       "<tr><td>[-Infinity,Infinity]</td><td>[0.0,1.0]</td><td>1.0</td></tr>\n",
       "<tr><td>[-Infinity,Infinity]</td><td>[0.0,1.0]</td><td>1.0</td></tr>\n",
       "<tr><td>[-Infinity,Infinity]</td><td>[0.0,1.0]</td><td>1.0</td></tr>\n",
       "<tr><td>[-Infinity,Infinity]</td><td>[0.0,1.0]</td><td>1.0</td></tr>\n",
       "<tr><td>[-Infinity,Infinity]</td><td>[0.0,1.0]</td><td>1.0</td></tr>\n",
       "<tr><td>[-Infinity,Infinity]</td><td>[0.0,1.0]</td><td>1.0</td></tr>\n",
       "<tr><td>[-Infinity,Infinity]</td><td>[0.0,1.0]</td><td>1.0</td></tr>\n",
       "<tr><td>[-Infinity,Infinity]</td><td>[0.0,1.0]</td><td>1.0</td></tr>\n",
       "<tr><td>[-Infinity,Infinity]</td><td>[0.0,1.0]</td><td>1.0</td></tr>\n",
       "<tr><td>[-Infinity,Infinity]</td><td>[0.0,1.0]</td><td>1.0</td></tr>\n",
       "<tr><td>[-Infinity,Infinity]</td><td>[0.0,1.0]</td><td>1.0</td></tr>\n",
       "<tr><td>[-Infinity,Infinity]</td><td>[0.0,1.0]</td><td>1.0</td></tr>\n",
       "<tr><td>[-Infinity,Infinity]</td><td>[0.0,1.0]</td><td>1.0</td></tr>\n",
       "<tr><td>[-Infinity,Infinity]</td><td>[0.0,1.0]</td><td>1.0</td></tr>\n",
       "<tr><td>[-Infinity,Infinity]</td><td>[0.0,1.0]</td><td>1.0</td></tr>\n",
       "<tr><td>[-Infinity,Infinity]</td><td>[0.0,1.0]</td><td>1.0</td></tr>\n",
       "<tr><td>[-Infinity,Infinity]</td><td>[0.0,1.0]</td><td>1.0</td></tr>\n",
       "<tr><td>[-Infinity,Infinity]</td><td>[0.0,1.0]</td><td>1.0</td></tr>\n",
       "</table>\n",
       "only showing top 20 rows\n"
      ],
      "text/plain": [
       "+--------------------+-----------+----------+\n",
       "|       rawPrediction|probability|prediction|\n",
       "+--------------------+-----------+----------+\n",
       "|[-Infinity,Infinity]|  [0.0,1.0]|       1.0|\n",
       "|[-Infinity,Infinity]|  [0.0,1.0]|       1.0|\n",
       "|[-Infinity,Infinity]|  [0.0,1.0]|       1.0|\n",
       "|[-Infinity,Infinity]|  [0.0,1.0]|       1.0|\n",
       "|[-Infinity,Infinity]|  [0.0,1.0]|       1.0|\n",
       "|[-Infinity,Infinity]|  [0.0,1.0]|       1.0|\n",
       "|[-Infinity,Infinity]|  [0.0,1.0]|       1.0|\n",
       "|[-Infinity,Infinity]|  [0.0,1.0]|       1.0|\n",
       "|[-Infinity,Infinity]|  [0.0,1.0]|       1.0|\n",
       "|[-Infinity,Infinity]|  [0.0,1.0]|       1.0|\n",
       "|[-Infinity,Infinity]|  [0.0,1.0]|       1.0|\n",
       "|[-Infinity,Infinity]|  [0.0,1.0]|       1.0|\n",
       "|[-Infinity,Infinity]|  [0.0,1.0]|       1.0|\n",
       "|[-Infinity,Infinity]|  [0.0,1.0]|       1.0|\n",
       "|[-Infinity,Infinity]|  [0.0,1.0]|       1.0|\n",
       "|[-Infinity,Infinity]|  [0.0,1.0]|       1.0|\n",
       "|[-Infinity,Infinity]|  [0.0,1.0]|       1.0|\n",
       "|[-Infinity,Infinity]|  [0.0,1.0]|       1.0|\n",
       "|[-Infinity,Infinity]|  [0.0,1.0]|       1.0|\n",
       "|[-Infinity,Infinity]|  [0.0,1.0]|       1.0|\n",
       "+--------------------+-----------+----------+\n",
       "only showing top 20 rows"
      ]
     },
     "execution_count": 107,
     "metadata": {},
     "output_type": "execute_result"
    }
   ],
   "source": [
    "lr_predictions.select('rawPrediction', 'probability', 'prediction')"
   ]
  },
  {
   "cell_type": "code",
   "execution_count": 108,
   "metadata": {},
   "outputs": [],
   "source": [
    "lr_evaluator = MulticlassClassificationEvaluator(labelCol='label')"
   ]
  },
  {
   "cell_type": "code",
   "execution_count": 109,
   "metadata": {},
   "outputs": [],
   "source": [
    "f1 = lr_evaluator.evaluate(lr_predictions)"
   ]
  },
  {
   "cell_type": "code",
   "execution_count": 110,
   "metadata": {},
   "outputs": [],
   "source": [
    "wp = lr_evaluator.setMetricName(\"weightedPrecision\").evaluate(lr_predictions)"
   ]
  },
  {
   "cell_type": "code",
   "execution_count": 111,
   "metadata": {},
   "outputs": [],
   "source": [
    "wr = lr_evaluator.setMetricName(\"weightedRecall\").evaluate(lr_predictions)"
   ]
  },
  {
   "cell_type": "code",
   "execution_count": 112,
   "metadata": {},
   "outputs": [],
   "source": [
    "accuracy = lr_evaluator.setMetricName(\"accuracy\").evaluate(lr_predictions)"
   ]
  },
  {
   "cell_type": "code",
   "execution_count": 113,
   "metadata": {},
   "outputs": [
    {
     "name": "stdout",
     "output_type": "stream",
     "text": [
      "F1\tWP\tWR\tAccuracy\n",
      "0.0\t0.0\t0.0\t0.0\n",
      "\n"
     ]
    }
   ],
   "source": [
    "print(\"F1\\tWP\\tWR\\tAccuracy\\n{}\\t{}\\t{}\\t{}\\n\".format(f1, wp, wr, accuracy))"
   ]
  },
  {
   "cell_type": "code",
   "execution_count": null,
   "metadata": {},
   "outputs": [],
   "source": []
  },
  {
   "cell_type": "code",
   "execution_count": null,
   "metadata": {},
   "outputs": [],
   "source": []
  },
  {
   "cell_type": "code",
   "execution_count": null,
   "metadata": {},
   "outputs": [],
   "source": []
  },
  {
   "cell_type": "markdown",
   "metadata": {},
   "source": [
    "## Random Forest Classifier"
   ]
  },
  {
   "cell_type": "code",
   "execution_count": null,
   "metadata": {},
   "outputs": [],
   "source": [
    "rf = RandomForestClassifier(featureSubsetStrategy='auto', seed=seed)"
   ]
  },
  {
   "cell_type": "code",
   "execution_count": null,
   "metadata": {},
   "outputs": [],
   "source": [
    "evaluator = MulticlassClassificationEvaluator(labelCol='label')"
   ]
  },
  {
   "cell_type": "code",
   "execution_count": null,
   "metadata": {},
   "outputs": [],
   "source": [
    "paramGrid = ParamGridBuilder() \\\n",
    "            .addGrid(rf.maxBins, [80, 100]) \\\n",
    "            .addGrid(rf.maxDepth, [1, 2, 4]) \\\n",
    "            .addGrid(rf.numTrees, [10, 50 100]) \\\n",
    "            .addGrid(rf.impurity, [\"gini\", \"entropy\"]) \\\n",
    "            .build()"
   ]
  },
  {
   "cell_type": "code",
   "execution_count": null,
   "metadata": {},
   "outputs": [],
   "source": [
    "pipeline = Pipeline(stages=[rf])"
   ]
  },
  {
   "cell_type": "code",
   "execution_count": null,
   "metadata": {},
   "outputs": [],
   "source": [
    "cv = CrossValidator(estimator=pipeline, evaluator=evaluator, \n",
    "                    estimatorParamMaps=paramGrid, numFolds=5)"
   ]
  },
  {
   "cell_type": "code",
   "execution_count": null,
   "metadata": {},
   "outputs": [],
   "source": [
    "%%time\n",
    "model = cv.fit(train)"
   ]
  },
  {
   "cell_type": "code",
   "execution_count": null,
   "metadata": {},
   "outputs": [],
   "source": [
    "predictions = model.transform(test)"
   ]
  },
  {
   "cell_type": "code",
   "execution_count": null,
   "metadata": {},
   "outputs": [],
   "source": [
    "auc = evaluator.evaluate(predictions, {evaluator.metricName: 'f1'})"
   ]
  },
  {
   "cell_type": "code",
   "execution_count": null,
   "metadata": {},
   "outputs": [],
   "source": [
    "auc"
   ]
  },
  {
   "cell_type": "code",
   "execution_count": null,
   "metadata": {},
   "outputs": [],
   "source": [
    "predictions.count()"
   ]
  },
  {
   "cell_type": "code",
   "execution_count": null,
   "metadata": {},
   "outputs": [],
   "source": [
    "predictions.printSchema()"
   ]
  },
  {
   "cell_type": "code",
   "execution_count": null,
   "metadata": {},
   "outputs": [],
   "source": [
    "predictions.filter(\"prediction = 1.0\").count()"
   ]
  },
  {
   "cell_type": "code",
   "execution_count": null,
   "metadata": {},
   "outputs": [],
   "source": [
    "true_negative = predictions.select(\"*\").where(\"prediction = 0 AND label = 0\").count()\n",
    "true_positive = predictions.select(\"*\").where(\"prediction = 1 AND label = 1\").count()\n",
    "print(\"True Negative: {}\\nTrue Positive: {}\".format(true_negative, true_positive))\n",
    "# Our test predicted 21 customers leaving who actually did leave and also\n",
    "# predicted 55529 customers not leaving who actually did not leave."
   ]
  },
  {
   "cell_type": "code",
   "execution_count": null,
   "metadata": {},
   "outputs": [],
   "source": [
    "false_negative = predictions.select(\"*\").where(\"prediction = 0 AND label = 1\").count()\n",
    "false_positive = predictions.select(\"*\").where(\"prediction = 1 AND label = 0\").count()\n",
    "print(\"False Negative: {}\\nFalse Positive: {}\".format(false_negative, false_positive))\n",
    "# Our test predicted 0 customers leaving who actually did not leave and\n",
    "# also predicted 0 customers not leaving who actually did leave."
   ]
  },
  {
   "cell_type": "code",
   "execution_count": null,
   "metadata": {},
   "outputs": [],
   "source": [
    "predictions.select(\"RawPrediction\",\"prediction\") \\\n",
    ".orderBy(\"RawPrediction\", ascending=True) \\\n",
    ".show(25, False)"
   ]
  },
  {
   "cell_type": "code",
   "execution_count": null,
   "metadata": {},
   "outputs": [],
   "source": [
    "model.bestModel.stages[0].featureImportances"
   ]
  },
  {
   "cell_type": "code",
   "execution_count": null,
   "metadata": {},
   "outputs": [],
   "source": [
    "model.bestModel.stages[0].extractParamMap()"
   ]
  },
  {
   "cell_type": "code",
   "execution_count": null,
   "metadata": {},
   "outputs": [],
   "source": []
  },
  {
   "cell_type": "code",
   "execution_count": null,
   "metadata": {},
   "outputs": [],
   "source": []
  },
  {
   "cell_type": "code",
   "execution_count": null,
   "metadata": {},
   "outputs": [],
   "source": []
  },
  {
   "cell_type": "code",
   "execution_count": null,
   "metadata": {},
   "outputs": [],
   "source": []
  },
  {
   "cell_type": "code",
   "execution_count": null,
   "metadata": {},
   "outputs": [],
   "source": []
  },
  {
   "cell_type": "code",
   "execution_count": null,
   "metadata": {},
   "outputs": [],
   "source": []
  },
  {
   "cell_type": "markdown",
   "metadata": {},
   "source": [
    "# Final Steps\n",
    "Clean up your code, adding comments and renaming variables to make the code easier to read and maintain. Refer to the Spark Project Overview page and Data Scientist Capstone Project Rubric to make sure you are including all components of the capstone project and meet all expectations. Remember, this includes thorough documentation in a README file in a Github repository, as well as a web app or blog post."
   ]
  },
  {
   "cell_type": "code",
   "execution_count": null,
   "metadata": {},
   "outputs": [],
   "source": []
  }
 ],
 "metadata": {
  "kernelspec": {
   "display_name": "Python 3",
   "language": "python",
   "name": "python3"
  },
  "language_info": {
   "codemirror_mode": {
    "name": "ipython",
    "version": 3
   },
   "file_extension": ".py",
   "mimetype": "text/x-python",
   "name": "python",
   "nbconvert_exporter": "python",
   "pygments_lexer": "ipython3",
   "version": "3.7.6"
  }
 },
 "nbformat": 4,
 "nbformat_minor": 4
}
