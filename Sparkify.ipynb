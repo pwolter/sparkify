{
 "cells": [
  {
   "cell_type": "markdown",
   "metadata": {},
   "source": [
    "# Sparkify Project Workspace\n",
    "This workspace contains a tiny subset (128MB) of the full dataset available (12GB). Feel free to use this workspace to build your project, or to explore a smaller subset with Spark before deploying your cluster on the cloud. Instructions for setting up your Spark cluster is included in the last lesson of the Extracurricular Spark Course content.\n",
    "\n",
    "You can follow the steps below to guide your data analysis and model building portion of this project."
   ]
  },
  {
   "cell_type": "code",
   "execution_count": 41,
   "metadata": {},
   "outputs": [],
   "source": [
    "# These two are required to work in local mode\n",
    "# in my laptop\n",
    "import findspark\n",
    "findspark.init()\n",
    "\n",
    "# All libraries required fo rthis analysis\n",
    "from pyspark.sql import SparkSession\n",
    "from pyspark.sql.functions import *\n",
    "from pyspark.sql.types import IntegerType, StringType\n",
    "from pyspark.ml.classification import RandomForestClassifier\n",
    "\n",
    "import pandas as pd\n",
    "import numpy as np\n",
    "import matplotlib.pyplot as plt\n",
    "\n",
    "import xgboost as xgb\n",
    "import lightgbm as lgb\n",
    "\n",
    "# I like inline plots\n",
    "%matplotlib inline\n",
    "\n",
    "# Setting to display max column width\n",
    "pd.set_option('display.max_colwidth', None)"
   ]
  },
  {
   "cell_type": "code",
   "execution_count": 2,
   "metadata": {},
   "outputs": [],
   "source": [
    "# create a Spark session\n",
    "spark = SparkSession.builder.appName('Sparkify').getOrCreate()"
   ]
  },
  {
   "cell_type": "code",
   "execution_count": 3,
   "metadata": {},
   "outputs": [],
   "source": [
    "# To show output to fit Jupyter notebook\n",
    "# ref: https://stackoverflow.com/questions/50523950/improve-pyspark-dataframe-show-output-to-fit-jupyter-notebook\n",
    "spark.conf.set(\"spark.sql.repl.eagerEval.enabled\", True)"
   ]
  },
  {
   "cell_type": "markdown",
   "metadata": {},
   "source": [
    "# Load and Clean Dataset\n",
    "In this workspace, the mini-dataset file is `mini_sparkify_event_data.json`. Load and clean the dataset, checking for invalid or missing data - for example, records without userids or sessionids. "
   ]
  },
  {
   "cell_type": "code",
   "execution_count": 4,
   "metadata": {},
   "outputs": [
    {
     "name": "stdout",
     "output_type": "stream",
     "text": [
      "{\"ts\":1538352117000,\"userId\":\"30\",\"sessionId\":29,\"page\":\"NextSong\",\"auth\":\"Logged In\",\"method\":\"PUT\",\"status\":200,\"level\":\"paid\",\"itemInSession\":50,\"location\":\"Bakersfield, CA\",\"userAgent\":\"Mozilla/5.0 (Windows NT 6.1; WOW64; rv:31.0) Gecko/20100101 Firefox/31.0\",\"lastName\":\"Freeman\",\"firstName\":\"Colin\",\"registration\":1538173362000,\"gender\":\"M\",\"artist\":\"Martha Tilston\",\"song\":\"Rockpools\",\"length\":277.89016}\n",
      "{\"ts\":1538352180000,\"userId\":\"9\",\"sessionId\":8,\"page\":\"NextSong\",\"auth\":\"Logged In\",\"method\":\"PUT\",\"status\":200,\"level\":\"free\",\"itemInSession\":79,\"location\":\"Boston-Cambridge-Newton, MA-NH\",\"userAgent\":\"\\\"Mozilla/5.0 (Windows NT 6.1; WOW64) AppleWebKit/537.36 (KHTML, like Gecko) Chrome/37.0.2062.103 Safari/537.36\\\"\",\"lastName\":\"Long\",\"firstName\":\"Micah\",\"registration\":1538331630000,\"gender\":\"M\",\"artist\":\"Five Iron Frenzy\",\"song\":\"Canada\",\"length\":236.09424}\n",
      "{\"ts\":1538352394000,\"userId\":\"30\",\"sessionId\":29,\"page\":\"NextSong\",\"auth\":\"Logged In\",\"method\":\"PUT\",\"status\":200,\"level\":\"paid\",\"itemInSession\":51,\"location\":\"Bakersfield, CA\",\"userAgent\":\"Mozilla/5.0 (Windows NT 6.1; WOW64; rv:31.0) Gecko/20100101 Firefox/31.0\",\"lastName\":\"Freeman\",\"firstName\":\"Colin\",\"registration\":1538173362000,\"gender\":\"M\",\"artist\":\"Adam Lambert\",\"song\":\"Time For Miracles\",\"length\":282.8273}\n",
      "{\"ts\":1538352416000,\"userId\":\"9\",\"sessionId\":8,\"page\":\"NextSong\",\"auth\":\"Logged In\",\"method\":\"PUT\",\"status\":200,\"level\":\"free\",\"itemInSession\":80,\"location\":\"Boston-Cambridge-Newton, MA-NH\",\"userAgent\":\"\\\"Mozilla/5.0 (Windows NT 6.1; WOW64) AppleWebKit/537.36 (KHTML, like Gecko) Chrome/37.0.2062.103 Safari/537.36\\\"\",\"lastName\":\"Long\",\"firstName\":\"Micah\",\"registration\":1538331630000,\"gender\":\"M\",\"artist\":\"Enigma\",\"song\":\"Knocking On Forbidden Doors\",\"length\":262.71302}\n",
      "{\"ts\":1538352676000,\"userId\":\"30\",\"sessionId\":29,\"page\":\"NextSong\",\"auth\":\"Logged In\",\"method\":\"PUT\",\"status\":200,\"level\":\"paid\",\"itemInSession\":52,\"location\":\"Bakersfield, CA\",\"userAgent\":\"Mozilla/5.0 (Windows NT 6.1; WOW64; rv:31.0) Gecko/20100101 Firefox/31.0\",\"lastName\":\"Freeman\",\"firstName\":\"Colin\",\"registration\":1538173362000,\"gender\":\"M\",\"artist\":\"Daft Punk\",\"song\":\"Harder Better Faster Stronger\",\"length\":223.60771}\n"
     ]
    }
   ],
   "source": [
    "# Let's look the first 5 rows of the file\n",
    "!head -n 5 mini_sparkify_event_data.json"
   ]
  },
  {
   "cell_type": "code",
   "execution_count": 71,
   "metadata": {},
   "outputs": [],
   "source": [
    "# Cerate a Dataframe reading the JSON file\n",
    "df = spark.read.json('mini_sparkify_event_data.json')"
   ]
  },
  {
   "cell_type": "code",
   "execution_count": 72,
   "metadata": {},
   "outputs": [
    {
     "name": "stdout",
     "output_type": "stream",
     "text": [
      "+----------------+---------+---------+------+-------------+--------+---------+-----+--------------------+------+--------+-------------+---------+--------------------+------+-------------+--------------------+------+\n",
      "|          artist|     auth|firstName|gender|itemInSession|lastName|   length|level|            location|method|    page| registration|sessionId|                song|status|           ts|           userAgent|userId|\n",
      "+----------------+---------+---------+------+-------------+--------+---------+-----+--------------------+------+--------+-------------+---------+--------------------+------+-------------+--------------------+------+\n",
      "|  Martha Tilston|Logged In|    Colin|     M|           50| Freeman|277.89016| paid|     Bakersfield, CA|   PUT|NextSong|1538173362000|       29|           Rockpools|   200|1538352117000|Mozilla/5.0 (Wind...|    30|\n",
      "|Five Iron Frenzy|Logged In|    Micah|     M|           79|    Long|236.09424| free|Boston-Cambridge-...|   PUT|NextSong|1538331630000|        8|              Canada|   200|1538352180000|\"Mozilla/5.0 (Win...|     9|\n",
      "|    Adam Lambert|Logged In|    Colin|     M|           51| Freeman| 282.8273| paid|     Bakersfield, CA|   PUT|NextSong|1538173362000|       29|   Time For Miracles|   200|1538352394000|Mozilla/5.0 (Wind...|    30|\n",
      "|          Enigma|Logged In|    Micah|     M|           80|    Long|262.71302| free|Boston-Cambridge-...|   PUT|NextSong|1538331630000|        8|Knocking On Forbi...|   200|1538352416000|\"Mozilla/5.0 (Win...|     9|\n",
      "|       Daft Punk|Logged In|    Colin|     M|           52| Freeman|223.60771| paid|     Bakersfield, CA|   PUT|NextSong|1538173362000|       29|Harder Better Fas...|   200|1538352676000|Mozilla/5.0 (Wind...|    30|\n",
      "+----------------+---------+---------+------+-------------+--------+---------+-----+--------------------+------+--------+-------------+---------+--------------------+------+-------------+--------------------+------+\n",
      "only showing top 5 rows\n",
      "\n"
     ]
    }
   ],
   "source": [
    "# Check first 5 rows\n",
    "df.show(5)"
   ]
  },
  {
   "cell_type": "code",
   "execution_count": 73,
   "metadata": {},
   "outputs": [
    {
     "name": "stdout",
     "output_type": "stream",
     "text": [
      "root\n",
      " |-- artist: string (nullable = true)\n",
      " |-- auth: string (nullable = true)\n",
      " |-- firstName: string (nullable = true)\n",
      " |-- gender: string (nullable = true)\n",
      " |-- itemInSession: long (nullable = true)\n",
      " |-- lastName: string (nullable = true)\n",
      " |-- length: double (nullable = true)\n",
      " |-- level: string (nullable = true)\n",
      " |-- location: string (nullable = true)\n",
      " |-- method: string (nullable = true)\n",
      " |-- page: string (nullable = true)\n",
      " |-- registration: long (nullable = true)\n",
      " |-- sessionId: long (nullable = true)\n",
      " |-- song: string (nullable = true)\n",
      " |-- status: long (nullable = true)\n",
      " |-- ts: long (nullable = true)\n",
      " |-- userAgent: string (nullable = true)\n",
      " |-- userId: string (nullable = true)\n",
      "\n"
     ]
    }
   ],
   "source": [
    "# print the dataset schema to check columns types\n",
    "df.printSchema()"
   ]
  },
  {
   "cell_type": "code",
   "execution_count": 74,
   "metadata": {},
   "outputs": [
    {
     "name": "stdout",
     "output_type": "stream",
     "text": [
      "Total number fo rows: 286500\n",
      "Number of columns: 18\n"
     ]
    }
   ],
   "source": [
    "# Let's print total number of rows and columns\n",
    "print(\"Total number fo rows: {}\\nNumber of columns: {}\".format(df.count(), len(df.columns)))"
   ]
  },
  {
   "cell_type": "code",
   "execution_count": 75,
   "metadata": {},
   "outputs": [],
   "source": [
    "# Convert it to Pandas to do a quick check\n",
    "pd_df = df.toPandas()"
   ]
  },
  {
   "cell_type": "code",
   "execution_count": 76,
   "metadata": {},
   "outputs": [
    {
     "name": "stdout",
     "output_type": "stream",
     "text": [
      "<class 'pandas.core.frame.DataFrame'>\n",
      "RangeIndex: 286500 entries, 0 to 286499\n",
      "Data columns (total 18 columns):\n",
      " #   Column         Non-Null Count   Dtype  \n",
      "---  ------         --------------   -----  \n",
      " 0   artist         228108 non-null  object \n",
      " 1   auth           286500 non-null  object \n",
      " 2   firstName      278154 non-null  object \n",
      " 3   gender         278154 non-null  object \n",
      " 4   itemInSession  286500 non-null  int64  \n",
      " 5   lastName       278154 non-null  object \n",
      " 6   length         228108 non-null  float64\n",
      " 7   level          286500 non-null  object \n",
      " 8   location       278154 non-null  object \n",
      " 9   method         286500 non-null  object \n",
      " 10  page           286500 non-null  object \n",
      " 11  registration   278154 non-null  float64\n",
      " 12  sessionId      286500 non-null  int64  \n",
      " 13  song           228108 non-null  object \n",
      " 14  status         286500 non-null  int64  \n",
      " 15  ts             286500 non-null  int64  \n",
      " 16  userAgent      278154 non-null  object \n",
      " 17  userId         286500 non-null  object \n",
      "dtypes: float64(2), int64(4), object(12)\n",
      "memory usage: 39.3+ MB\n"
     ]
    }
   ],
   "source": [
    "# I like to see the data info provides in contrast to Spark's\n",
    "# that looks incomplete\n",
    "pd_df.info()"
   ]
  },
  {
   "cell_type": "code",
   "execution_count": 77,
   "metadata": {},
   "outputs": [
    {
     "data": {
      "text/html": [
       "<div>\n",
       "<style scoped>\n",
       "    .dataframe tbody tr th:only-of-type {\n",
       "        vertical-align: middle;\n",
       "    }\n",
       "\n",
       "    .dataframe tbody tr th {\n",
       "        vertical-align: top;\n",
       "    }\n",
       "\n",
       "    .dataframe thead th {\n",
       "        text-align: right;\n",
       "    }\n",
       "</style>\n",
       "<table border=\"1\" class=\"dataframe\">\n",
       "  <thead>\n",
       "    <tr style=\"text-align: right;\">\n",
       "      <th></th>\n",
       "      <th>count</th>\n",
       "      <th>unique</th>\n",
       "      <th>top</th>\n",
       "      <th>freq</th>\n",
       "      <th>mean</th>\n",
       "      <th>std</th>\n",
       "      <th>min</th>\n",
       "      <th>25%</th>\n",
       "      <th>50%</th>\n",
       "      <th>75%</th>\n",
       "      <th>max</th>\n",
       "    </tr>\n",
       "  </thead>\n",
       "  <tbody>\n",
       "    <tr>\n",
       "      <th>artist</th>\n",
       "      <td>228108</td>\n",
       "      <td>17655</td>\n",
       "      <td>Kings Of Leon</td>\n",
       "      <td>1841</td>\n",
       "      <td>NaN</td>\n",
       "      <td>NaN</td>\n",
       "      <td>NaN</td>\n",
       "      <td>NaN</td>\n",
       "      <td>NaN</td>\n",
       "      <td>NaN</td>\n",
       "      <td>NaN</td>\n",
       "    </tr>\n",
       "    <tr>\n",
       "      <th>auth</th>\n",
       "      <td>286500</td>\n",
       "      <td>4</td>\n",
       "      <td>Logged In</td>\n",
       "      <td>278102</td>\n",
       "      <td>NaN</td>\n",
       "      <td>NaN</td>\n",
       "      <td>NaN</td>\n",
       "      <td>NaN</td>\n",
       "      <td>NaN</td>\n",
       "      <td>NaN</td>\n",
       "      <td>NaN</td>\n",
       "    </tr>\n",
       "    <tr>\n",
       "      <th>firstName</th>\n",
       "      <td>278154</td>\n",
       "      <td>189</td>\n",
       "      <td>Payton</td>\n",
       "      <td>9632</td>\n",
       "      <td>NaN</td>\n",
       "      <td>NaN</td>\n",
       "      <td>NaN</td>\n",
       "      <td>NaN</td>\n",
       "      <td>NaN</td>\n",
       "      <td>NaN</td>\n",
       "      <td>NaN</td>\n",
       "    </tr>\n",
       "    <tr>\n",
       "      <th>gender</th>\n",
       "      <td>278154</td>\n",
       "      <td>2</td>\n",
       "      <td>F</td>\n",
       "      <td>154578</td>\n",
       "      <td>NaN</td>\n",
       "      <td>NaN</td>\n",
       "      <td>NaN</td>\n",
       "      <td>NaN</td>\n",
       "      <td>NaN</td>\n",
       "      <td>NaN</td>\n",
       "      <td>NaN</td>\n",
       "    </tr>\n",
       "    <tr>\n",
       "      <th>itemInSession</th>\n",
       "      <td>286500</td>\n",
       "      <td>NaN</td>\n",
       "      <td>NaN</td>\n",
       "      <td>NaN</td>\n",
       "      <td>114.414</td>\n",
       "      <td>129.767</td>\n",
       "      <td>0</td>\n",
       "      <td>27</td>\n",
       "      <td>70</td>\n",
       "      <td>156.25</td>\n",
       "      <td>1321</td>\n",
       "    </tr>\n",
       "    <tr>\n",
       "      <th>lastName</th>\n",
       "      <td>278154</td>\n",
       "      <td>173</td>\n",
       "      <td>Campbell</td>\n",
       "      <td>14060</td>\n",
       "      <td>NaN</td>\n",
       "      <td>NaN</td>\n",
       "      <td>NaN</td>\n",
       "      <td>NaN</td>\n",
       "      <td>NaN</td>\n",
       "      <td>NaN</td>\n",
       "      <td>NaN</td>\n",
       "    </tr>\n",
       "    <tr>\n",
       "      <th>length</th>\n",
       "      <td>228108</td>\n",
       "      <td>NaN</td>\n",
       "      <td>NaN</td>\n",
       "      <td>NaN</td>\n",
       "      <td>249.117</td>\n",
       "      <td>99.2352</td>\n",
       "      <td>0.78322</td>\n",
       "      <td>199.889</td>\n",
       "      <td>234.501</td>\n",
       "      <td>277.159</td>\n",
       "      <td>3024.67</td>\n",
       "    </tr>\n",
       "    <tr>\n",
       "      <th>level</th>\n",
       "      <td>286500</td>\n",
       "      <td>2</td>\n",
       "      <td>paid</td>\n",
       "      <td>228162</td>\n",
       "      <td>NaN</td>\n",
       "      <td>NaN</td>\n",
       "      <td>NaN</td>\n",
       "      <td>NaN</td>\n",
       "      <td>NaN</td>\n",
       "      <td>NaN</td>\n",
       "      <td>NaN</td>\n",
       "    </tr>\n",
       "    <tr>\n",
       "      <th>location</th>\n",
       "      <td>278154</td>\n",
       "      <td>114</td>\n",
       "      <td>Los Angeles-Long Beach-Anaheim, CA</td>\n",
       "      <td>30131</td>\n",
       "      <td>NaN</td>\n",
       "      <td>NaN</td>\n",
       "      <td>NaN</td>\n",
       "      <td>NaN</td>\n",
       "      <td>NaN</td>\n",
       "      <td>NaN</td>\n",
       "      <td>NaN</td>\n",
       "    </tr>\n",
       "    <tr>\n",
       "      <th>method</th>\n",
       "      <td>286500</td>\n",
       "      <td>2</td>\n",
       "      <td>PUT</td>\n",
       "      <td>261064</td>\n",
       "      <td>NaN</td>\n",
       "      <td>NaN</td>\n",
       "      <td>NaN</td>\n",
       "      <td>NaN</td>\n",
       "      <td>NaN</td>\n",
       "      <td>NaN</td>\n",
       "      <td>NaN</td>\n",
       "    </tr>\n",
       "    <tr>\n",
       "      <th>page</th>\n",
       "      <td>286500</td>\n",
       "      <td>22</td>\n",
       "      <td>NextSong</td>\n",
       "      <td>228108</td>\n",
       "      <td>NaN</td>\n",
       "      <td>NaN</td>\n",
       "      <td>NaN</td>\n",
       "      <td>NaN</td>\n",
       "      <td>NaN</td>\n",
       "      <td>NaN</td>\n",
       "      <td>NaN</td>\n",
       "    </tr>\n",
       "    <tr>\n",
       "      <th>registration</th>\n",
       "      <td>278154</td>\n",
       "      <td>NaN</td>\n",
       "      <td>NaN</td>\n",
       "      <td>NaN</td>\n",
       "      <td>1.53536e+12</td>\n",
       "      <td>3.29132e+09</td>\n",
       "      <td>1.52138e+12</td>\n",
       "      <td>1.53352e+12</td>\n",
       "      <td>1.53666e+12</td>\n",
       "      <td>1.53767e+12</td>\n",
       "      <td>1.54325e+12</td>\n",
       "    </tr>\n",
       "    <tr>\n",
       "      <th>sessionId</th>\n",
       "      <td>286500</td>\n",
       "      <td>NaN</td>\n",
       "      <td>NaN</td>\n",
       "      <td>NaN</td>\n",
       "      <td>1041.53</td>\n",
       "      <td>726.776</td>\n",
       "      <td>1</td>\n",
       "      <td>336</td>\n",
       "      <td>1013</td>\n",
       "      <td>1675</td>\n",
       "      <td>2474</td>\n",
       "    </tr>\n",
       "    <tr>\n",
       "      <th>song</th>\n",
       "      <td>228108</td>\n",
       "      <td>58480</td>\n",
       "      <td>You're The One</td>\n",
       "      <td>1153</td>\n",
       "      <td>NaN</td>\n",
       "      <td>NaN</td>\n",
       "      <td>NaN</td>\n",
       "      <td>NaN</td>\n",
       "      <td>NaN</td>\n",
       "      <td>NaN</td>\n",
       "      <td>NaN</td>\n",
       "    </tr>\n",
       "    <tr>\n",
       "      <th>status</th>\n",
       "      <td>286500</td>\n",
       "      <td>NaN</td>\n",
       "      <td>NaN</td>\n",
       "      <td>NaN</td>\n",
       "      <td>210.055</td>\n",
       "      <td>31.5051</td>\n",
       "      <td>200</td>\n",
       "      <td>200</td>\n",
       "      <td>200</td>\n",
       "      <td>200</td>\n",
       "      <td>404</td>\n",
       "    </tr>\n",
       "    <tr>\n",
       "      <th>ts</th>\n",
       "      <td>286500</td>\n",
       "      <td>NaN</td>\n",
       "      <td>NaN</td>\n",
       "      <td>NaN</td>\n",
       "      <td>1.54096e+12</td>\n",
       "      <td>1.50754e+09</td>\n",
       "      <td>1.53835e+12</td>\n",
       "      <td>1.5397e+12</td>\n",
       "      <td>1.54093e+12</td>\n",
       "      <td>1.54227e+12</td>\n",
       "      <td>1.5438e+12</td>\n",
       "    </tr>\n",
       "    <tr>\n",
       "      <th>userAgent</th>\n",
       "      <td>278154</td>\n",
       "      <td>56</td>\n",
       "      <td>\"Mozilla/5.0 (Windows NT 6.1; WOW64) AppleWebKit/537.36 (KHTML, like Gecko) Chrome/36.0.1985.143 Safari/537.36\"</td>\n",
       "      <td>22751</td>\n",
       "      <td>NaN</td>\n",
       "      <td>NaN</td>\n",
       "      <td>NaN</td>\n",
       "      <td>NaN</td>\n",
       "      <td>NaN</td>\n",
       "      <td>NaN</td>\n",
       "      <td>NaN</td>\n",
       "    </tr>\n",
       "    <tr>\n",
       "      <th>userId</th>\n",
       "      <td>286500</td>\n",
       "      <td>226</td>\n",
       "      <td>39</td>\n",
       "      <td>9632</td>\n",
       "      <td>NaN</td>\n",
       "      <td>NaN</td>\n",
       "      <td>NaN</td>\n",
       "      <td>NaN</td>\n",
       "      <td>NaN</td>\n",
       "      <td>NaN</td>\n",
       "      <td>NaN</td>\n",
       "    </tr>\n",
       "  </tbody>\n",
       "</table>\n",
       "</div>"
      ],
      "text/plain": [
       "                count unique  \\\n",
       "artist         228108  17655   \n",
       "auth           286500      4   \n",
       "firstName      278154    189   \n",
       "gender         278154      2   \n",
       "itemInSession  286500    NaN   \n",
       "lastName       278154    173   \n",
       "length         228108    NaN   \n",
       "level          286500      2   \n",
       "location       278154    114   \n",
       "method         286500      2   \n",
       "page           286500     22   \n",
       "registration   278154    NaN   \n",
       "sessionId      286500    NaN   \n",
       "song           228108  58480   \n",
       "status         286500    NaN   \n",
       "ts             286500    NaN   \n",
       "userAgent      278154     56   \n",
       "userId         286500    226   \n",
       "\n",
       "                                                                                                                           top  \\\n",
       "artist                                                                                                           Kings Of Leon   \n",
       "auth                                                                                                                 Logged In   \n",
       "firstName                                                                                                               Payton   \n",
       "gender                                                                                                                       F   \n",
       "itemInSession                                                                                                              NaN   \n",
       "lastName                                                                                                              Campbell   \n",
       "length                                                                                                                     NaN   \n",
       "level                                                                                                                     paid   \n",
       "location                                                                                    Los Angeles-Long Beach-Anaheim, CA   \n",
       "method                                                                                                                     PUT   \n",
       "page                                                                                                                  NextSong   \n",
       "registration                                                                                                               NaN   \n",
       "sessionId                                                                                                                  NaN   \n",
       "song                                                                                                            You're The One   \n",
       "status                                                                                                                     NaN   \n",
       "ts                                                                                                                         NaN   \n",
       "userAgent      \"Mozilla/5.0 (Windows NT 6.1; WOW64) AppleWebKit/537.36 (KHTML, like Gecko) Chrome/36.0.1985.143 Safari/537.36\"   \n",
       "userId                                                                                                                      39   \n",
       "\n",
       "                 freq         mean          std          min          25%  \\\n",
       "artist           1841          NaN          NaN          NaN          NaN   \n",
       "auth           278102          NaN          NaN          NaN          NaN   \n",
       "firstName        9632          NaN          NaN          NaN          NaN   \n",
       "gender         154578          NaN          NaN          NaN          NaN   \n",
       "itemInSession     NaN      114.414      129.767            0           27   \n",
       "lastName        14060          NaN          NaN          NaN          NaN   \n",
       "length            NaN      249.117      99.2352      0.78322      199.889   \n",
       "level          228162          NaN          NaN          NaN          NaN   \n",
       "location        30131          NaN          NaN          NaN          NaN   \n",
       "method         261064          NaN          NaN          NaN          NaN   \n",
       "page           228108          NaN          NaN          NaN          NaN   \n",
       "registration      NaN  1.53536e+12  3.29132e+09  1.52138e+12  1.53352e+12   \n",
       "sessionId         NaN      1041.53      726.776            1          336   \n",
       "song             1153          NaN          NaN          NaN          NaN   \n",
       "status            NaN      210.055      31.5051          200          200   \n",
       "ts                NaN  1.54096e+12  1.50754e+09  1.53835e+12   1.5397e+12   \n",
       "userAgent       22751          NaN          NaN          NaN          NaN   \n",
       "userId           9632          NaN          NaN          NaN          NaN   \n",
       "\n",
       "                       50%          75%          max  \n",
       "artist                 NaN          NaN          NaN  \n",
       "auth                   NaN          NaN          NaN  \n",
       "firstName              NaN          NaN          NaN  \n",
       "gender                 NaN          NaN          NaN  \n",
       "itemInSession           70       156.25         1321  \n",
       "lastName               NaN          NaN          NaN  \n",
       "length             234.501      277.159      3024.67  \n",
       "level                  NaN          NaN          NaN  \n",
       "location               NaN          NaN          NaN  \n",
       "method                 NaN          NaN          NaN  \n",
       "page                   NaN          NaN          NaN  \n",
       "registration   1.53666e+12  1.53767e+12  1.54325e+12  \n",
       "sessionId             1013         1675         2474  \n",
       "song                   NaN          NaN          NaN  \n",
       "status                 200          200          404  \n",
       "ts             1.54093e+12  1.54227e+12   1.5438e+12  \n",
       "userAgent              NaN          NaN          NaN  \n",
       "userId                 NaN          NaN          NaN  "
      ]
     },
     "execution_count": 77,
     "metadata": {},
     "output_type": "execute_result"
    }
   ],
   "source": [
    "# Pandas describe gives lots of good information I like to see\n",
    "# like unique values per column, count (and NaN by default) etc.\n",
    "pd_df.describe(include='all').T"
   ]
  },
  {
   "cell_type": "code",
   "execution_count": 78,
   "metadata": {},
   "outputs": [
    {
     "data": {
      "text/html": [
       "<table border='1'>\n",
       "<tr><th>auth</th><th>count</th></tr>\n",
       "<tr><td>Logged In</td><td>278102</td></tr>\n",
       "<tr><td>Logged Out</td><td>8249</td></tr>\n",
       "<tr><td>Guest</td><td>97</td></tr>\n",
       "<tr><td>Cancelled</td><td>52</td></tr>\n",
       "</table>\n"
      ],
      "text/plain": [
       "+----------+------+\n",
       "|      auth| count|\n",
       "+----------+------+\n",
       "| Logged In|278102|\n",
       "|Logged Out|  8249|\n",
       "|     Guest|    97|\n",
       "| Cancelled|    52|\n",
       "+----------+------+"
      ]
     },
     "execution_count": 78,
     "metadata": {},
     "output_type": "execute_result"
    }
   ],
   "source": [
    "# Based on the previous information I am exploring some columns I think\n",
    "# are interesting or may add value to the prediction of churn\n",
    "df.groupby('auth').count() \\\n",
    ".sort('count', ascending=False)"
   ]
  },
  {
   "cell_type": "code",
   "execution_count": 79,
   "metadata": {},
   "outputs": [],
   "source": [
    "# I fill all null values in 'gender' column by 'U' -> Unspecified\n",
    "df = df.fillna('U', subset='gender')"
   ]
  },
  {
   "cell_type": "code",
   "execution_count": 80,
   "metadata": {},
   "outputs": [
    {
     "data": {
      "text/html": [
       "<table border='1'>\n",
       "<tr><th>gender</th><th>count</th></tr>\n",
       "<tr><td>F</td><td>154578</td></tr>\n",
       "<tr><td>M</td><td>123576</td></tr>\n",
       "<tr><td>U</td><td>8346</td></tr>\n",
       "</table>\n"
      ],
      "text/plain": [
       "+------+------+\n",
       "|gender| count|\n",
       "+------+------+\n",
       "|     F|154578|\n",
       "|     M|123576|\n",
       "|     U|  8346|\n",
       "+------+------+"
      ]
     },
     "execution_count": 80,
     "metadata": {},
     "output_type": "execute_result"
    }
   ],
   "source": [
    "# and compute the distribution\n",
    "df.groupby('gender').count().sort('count', ascending=False)"
   ]
  },
  {
   "cell_type": "code",
   "execution_count": 81,
   "metadata": {},
   "outputs": [
    {
     "data": {
      "image/png": "[encoded data removed]",
      "text/plain": [
       "<Figure size 432x288 with 1 Axes>"
      ]
     },
     "metadata": {
      "needs_background": "light"
     },
     "output_type": "display_data"
    }
   ],
   "source": [
    "# with a graph as well\n",
    "df.groupby('gender').count().sort('count', ascending=False) \\\n",
    ".toPandas().plot.bar(x='gender', y='count', rot=0);"
   ]
  },
  {
   "cell_type": "code",
   "execution_count": 82,
   "metadata": {},
   "outputs": [
    {
     "data": {
      "text/html": [
       "<table border='1'>\n",
       "<tr><th>level</th><th>count</th></tr>\n",
       "<tr><td>paid</td><td>228162</td></tr>\n",
       "<tr><td>free</td><td>58338</td></tr>\n",
       "</table>\n"
      ],
      "text/plain": [
       "+-----+------+\n",
       "|level| count|\n",
       "+-----+------+\n",
       "| paid|228162|\n",
       "| free| 58338|\n",
       "+-----+------+"
      ]
     },
     "execution_count": 82,
     "metadata": {},
     "output_type": "execute_result"
    }
   ],
   "source": [
    "# Let's see the 'level' distribution of subscribers\n",
    "df.groupby('level').count().sort('level', ascending=[False])"
   ]
  },
  {
   "cell_type": "code",
   "execution_count": 83,
   "metadata": {},
   "outputs": [
    {
     "data": {
      "image/png": "[encoded data removed]",
      "text/plain": [
       "<Figure size 432x288 with 1 Axes>"
      ]
     },
     "metadata": {},
     "output_type": "display_data"
    }
   ],
   "source": [
    "# A pie chart makes sense here, most of our users are paid users\n",
    "df.groupby('level').count().sort('level', ascending=[False]) \\\n",
    ".toPandas().plot.pie(y='count');"
   ]
  },
  {
   "cell_type": "code",
   "execution_count": 84,
   "metadata": {},
   "outputs": [
    {
     "name": "stdout",
     "output_type": "stream",
     "text": [
      "+-------------------------------------------+-----+\n",
      "|location                                   |count|\n",
      "+-------------------------------------------+-----+\n",
      "|Los Angeles-Long Beach-Anaheim, CA         |30131|\n",
      "|New York-Newark-Jersey City, NY-NJ-PA      |23684|\n",
      "|Boston-Cambridge-Newton, MA-NH             |13873|\n",
      "|Houston-The Woodlands-Sugar Land, TX       |9499 |\n",
      "|null                                       |8346 |\n",
      "|Charlotte-Concord-Gastonia, NC-SC          |7780 |\n",
      "|Dallas-Fort Worth-Arlington, TX            |7605 |\n",
      "|Louisville/Jefferson County, KY-IN         |6880 |\n",
      "|Philadelphia-Camden-Wilmington, PA-NJ-DE-MD|5890 |\n",
      "|Chicago-Naperville-Elgin, IL-IN-WI         |5114 |\n",
      "|St. Louis, MO-IL                           |4858 |\n",
      "|Phoenix-Mesa-Scottsdale, AZ                |4846 |\n",
      "|Vineland-Bridgeton, NJ                     |4825 |\n",
      "|Wilson, NC                                 |4659 |\n",
      "|Denver-Aurora-Lakewood, CO                 |4453 |\n",
      "|Ionia, MI                                  |4428 |\n",
      "|San Antonio-New Braunfels, TX              |4373 |\n",
      "|Danville, VA                               |4257 |\n",
      "|Atlanta-Sandy Springs-Roswell, GA          |4236 |\n",
      "|New Haven-Milford, CT                      |4007 |\n",
      "+-------------------------------------------+-----+\n",
      "only showing top 20 rows\n",
      "\n"
     ]
    }
   ],
   "source": [
    "# let's see what the 'location' column has to offer:\n",
    "df.groupby('location').count().sort('count', ascending=[False]).show(20, False)"
   ]
  },
  {
   "cell_type": "code",
   "execution_count": 85,
   "metadata": {},
   "outputs": [],
   "source": [
    "# I am not sure how I am going to use this information (if I use it at all)\n",
    "# So for now just extract the State information after the ',' with the below\n",
    "# function\n",
    "def split_location_by_state(df):\n",
    "    \n",
    "    # Replace the NaN values with the followin to extract the 'Other'\n",
    "    # String to denotate a missing value or value not entered\n",
    "    df = df.fillna('Nah, Other', subset='location')\n",
    "    \n",
    "    # Then I split the 'location' column bu ',' and extract the second\n",
    "    # item, the state information\n",
    "    # In multiple cases thsi is a group of various States together. I am\n",
    "    # fine with that so far ...\n",
    "    df = df.withColumn('state', split(df['location'], ',').getItem(1))\n",
    "    \n",
    "    # We return the modified Dataframe back\n",
    "    return df"
   ]
  },
  {
   "cell_type": "code",
   "execution_count": 86,
   "metadata": {},
   "outputs": [],
   "source": [
    "# Run the function in the dataframe\n",
    "df = split_location_by_state(df)"
   ]
  },
  {
   "cell_type": "code",
   "execution_count": 198,
   "metadata": {},
   "outputs": [
    {
     "name": "stdout",
     "output_type": "stream",
     "text": [
      "+------+\n",
      "|state |\n",
      "+------+\n",
      "| CA   |\n",
      "| MA-NH|\n",
      "| CA   |\n",
      "| MA-NH|\n",
      "| CA   |\n",
      "+------+\n",
      "only showing top 5 rows\n",
      "\n"
     ]
    }
   ],
   "source": [
    "# A quick check on our newly created column \n",
    "df.select('state').show(5, False)"
   ]
  },
  {
   "cell_type": "code",
   "execution_count": 210,
   "metadata": {},
   "outputs": [
    {
     "name": "stdout",
     "output_type": "stream",
     "text": [
      "+------------+-----+\n",
      "|state       |count|\n",
      "+------------+-----+\n",
      "| CA         |46771|\n",
      "| NY-NJ-PA   |23684|\n",
      "| TX         |23494|\n",
      "| MA-NH      |13873|\n",
      "| FL         |13190|\n",
      "| NC         |10688|\n",
      "| Other      |8346 |\n",
      "| NC-SC      |7780 |\n",
      "| CO         |7493 |\n",
      "| MI         |7216 |\n",
      "| NJ         |7001 |\n",
      "| KY-IN      |6880 |\n",
      "| CT         |6720 |\n",
      "| PA-NJ-DE-MD|5890 |\n",
      "| IL-IN-WI   |5114 |\n",
      "| MO-IL      |4858 |\n",
      "| AZ         |4846 |\n",
      "| NH         |4764 |\n",
      "| VA         |4651 |\n",
      "| MS         |4634 |\n",
      "+------------+-----+\n",
      "only showing top 20 rows\n",
      "\n"
     ]
    }
   ],
   "source": [
    "df.groupby('state').count().sort('count', ascending=[False]).show(20, False)"
   ]
  },
  {
   "cell_type": "code",
   "execution_count": 88,
   "metadata": {},
   "outputs": [
    {
     "data": {
      "text/html": [
       "<table border='1'>\n",
       "<tr><th>page</th><th>count</th></tr>\n",
       "<tr><td>NextSong</td><td>228108</td></tr>\n",
       "<tr><td>Home</td><td>14457</td></tr>\n",
       "<tr><td>Thumbs Up</td><td>12551</td></tr>\n",
       "<tr><td>Add to Playlist</td><td>6526</td></tr>\n",
       "<tr><td>Add Friend</td><td>4277</td></tr>\n",
       "<tr><td>Roll Advert</td><td>3933</td></tr>\n",
       "<tr><td>Login</td><td>3241</td></tr>\n",
       "<tr><td>Logout</td><td>3226</td></tr>\n",
       "<tr><td>Thumbs Down</td><td>2546</td></tr>\n",
       "<tr><td>Downgrade</td><td>2055</td></tr>\n",
       "<tr><td>Help</td><td>1726</td></tr>\n",
       "<tr><td>Settings</td><td>1514</td></tr>\n",
       "<tr><td>About</td><td>924</td></tr>\n",
       "<tr><td>Upgrade</td><td>499</td></tr>\n",
       "<tr><td>Save Settings</td><td>310</td></tr>\n",
       "<tr><td>Error</td><td>258</td></tr>\n",
       "<tr><td>Submit Upgrade</td><td>159</td></tr>\n",
       "<tr><td>Submit Downgrade</td><td>63</td></tr>\n",
       "<tr><td>Cancellation Conf...</td><td>52</td></tr>\n",
       "<tr><td>Cancel</td><td>52</td></tr>\n",
       "</table>\n",
       "only showing top 20 rows\n"
      ],
      "text/plain": [
       "+--------------------+------+\n",
       "|                page| count|\n",
       "+--------------------+------+\n",
       "|            NextSong|228108|\n",
       "|                Home| 14457|\n",
       "|           Thumbs Up| 12551|\n",
       "|     Add to Playlist|  6526|\n",
       "|          Add Friend|  4277|\n",
       "|         Roll Advert|  3933|\n",
       "|               Login|  3241|\n",
       "|              Logout|  3226|\n",
       "|         Thumbs Down|  2546|\n",
       "|           Downgrade|  2055|\n",
       "|                Help|  1726|\n",
       "|            Settings|  1514|\n",
       "|               About|   924|\n",
       "|             Upgrade|   499|\n",
       "|       Save Settings|   310|\n",
       "|               Error|   258|\n",
       "|      Submit Upgrade|   159|\n",
       "|    Submit Downgrade|    63|\n",
       "|              Cancel|    52|\n",
       "|Cancellation Conf...|    52|\n",
       "+--------------------+------+\n",
       "only showing top 20 rows"
      ]
     },
     "execution_count": 88,
     "metadata": {},
     "output_type": "execute_result"
    }
   ],
   "source": [
    "# Let's check the 'page' column\n",
    "df.groupby('page').count() \\\n",
    ".sort('count', ascending=False)"
   ]
  },
  {
   "cell_type": "code",
   "execution_count": 89,
   "metadata": {},
   "outputs": [
    {
     "data": {
      "image/png": "[encoded data removed]",
      "text/plain": [
       "<Figure size 864x288 with 1 Axes>"
      ]
     },
     "metadata": {
      "needs_background": "light"
     },
     "output_type": "display_data"
    }
   ],
   "source": [
    "# The same ina graphical representation\n",
    "df.groupby('page').count().sort('count', ascending=False) \\\n",
    ".toPandas().plot.bar(x='page', y='count', rot=75, figsize=(12,4));"
   ]
  },
  {
   "cell_type": "code",
   "execution_count": 90,
   "metadata": {},
   "outputs": [
    {
     "data": {
      "text/html": [
       "<table border='1'>\n",
       "<tr><th>method</th><th>count</th></tr>\n",
       "<tr><td>PUT</td><td>261064</td></tr>\n",
       "<tr><td>GET</td><td>25436</td></tr>\n",
       "</table>\n"
      ],
      "text/plain": [
       "+------+------+\n",
       "|method| count|\n",
       "+------+------+\n",
       "|   PUT|261064|\n",
       "|   GET| 25436|\n",
       "+------+------+"
      ]
     },
     "execution_count": 90,
     "metadata": {},
     "output_type": "execute_result"
    }
   ],
   "source": [
    "# The 'method' column gas two values\n",
    "df.groupby('method').count().sort('count', ascending=[False])"
   ]
  },
  {
   "cell_type": "code",
   "execution_count": 91,
   "metadata": {},
   "outputs": [
    {
     "data": {
      "text/html": [
       "<table border='1'>\n",
       "<tr><th>status</th><th>count</th></tr>\n",
       "<tr><td>200</td><td>259812</td></tr>\n",
       "<tr><td>307</td><td>26430</td></tr>\n",
       "<tr><td>404</td><td>258</td></tr>\n",
       "</table>\n"
      ],
      "text/plain": [
       "+------+------+\n",
       "|status| count|\n",
       "+------+------+\n",
       "|   200|259812|\n",
       "|   307| 26430|\n",
       "|   404|   258|\n",
       "+------+------+"
      ]
     },
     "execution_count": 91,
     "metadata": {},
     "output_type": "execute_result"
    }
   ],
   "source": [
    "# We have 3 status:\n",
    "df.groupby('status').count().sort('count', ascending=[False])"
   ]
  },
  {
   "cell_type": "code",
   "execution_count": 181,
   "metadata": {},
   "outputs": [
    {
     "name": "stdout",
     "output_type": "stream",
     "text": [
      "+---------------------------------------------------------------------------------------------------------------+\n",
      "|userAgent                                                                                                      |\n",
      "+---------------------------------------------------------------------------------------------------------------+\n",
      "|Mozilla/5.0 (Windows NT 6.1; WOW64; rv:31.0) Gecko/20100101 Firefox/31.0                                       |\n",
      "|\"Mozilla/5.0 (Windows NT 6.1; WOW64) AppleWebKit/537.36 (KHTML, like Gecko) Chrome/37.0.2062.103 Safari/537.36\"|\n",
      "|Mozilla/5.0 (Windows NT 6.1; WOW64; rv:31.0) Gecko/20100101 Firefox/31.0                                       |\n",
      "|\"Mozilla/5.0 (Windows NT 6.1; WOW64) AppleWebKit/537.36 (KHTML, like Gecko) Chrome/37.0.2062.103 Safari/537.36\"|\n",
      "|Mozilla/5.0 (Windows NT 6.1; WOW64; rv:31.0) Gecko/20100101 Firefox/31.0                                       |\n",
      "+---------------------------------------------------------------------------------------------------------------+\n",
      "only showing top 5 rows\n",
      "\n"
     ]
    }
   ],
   "source": [
    "# let's check the 'userAgent' column\n",
    "df.select('userAgent').show(5, False)"
   ]
  },
  {
   "cell_type": "code",
   "execution_count": 190,
   "metadata": {},
   "outputs": [],
   "source": [
    "def parse_userAgent(df):\n",
    "    df = df.withColumn('os', regexp_extract(col('userAgent'), r'\\((\\w+);?\\s+', 1))\n",
    "\n",
    "    df = df.withColumn('browser', regexp_extract(col('userAgent'), r'\\s(\\w+)/\\d+.\\d+\"?$', 1))\n",
    "    \n",
    "    df = df.withColumn('os', when(df['os'] == '', 'Undefined').otherwise(df['os']))\n",
    "    \n",
    "    df = df.withColumn('browser', when(df['browser'] == '', 'Undefined').otherwise(df['browser']))\n",
    "    return df"
   ]
  },
  {
   "cell_type": "code",
   "execution_count": 191,
   "metadata": {},
   "outputs": [],
   "source": [
    "df = parse_userAgent(df)"
   ]
  },
  {
   "cell_type": "code",
   "execution_count": 192,
   "metadata": {},
   "outputs": [
    {
     "name": "stdout",
     "output_type": "stream",
     "text": [
      "root\n",
      " |-- artist: string (nullable = true)\n",
      " |-- auth: string (nullable = true)\n",
      " |-- firstName: string (nullable = true)\n",
      " |-- gender: string (nullable = false)\n",
      " |-- itemInSession: long (nullable = true)\n",
      " |-- lastName: string (nullable = true)\n",
      " |-- length: double (nullable = true)\n",
      " |-- level: string (nullable = true)\n",
      " |-- location: string (nullable = false)\n",
      " |-- method: string (nullable = true)\n",
      " |-- page: string (nullable = true)\n",
      " |-- registration: long (nullable = true)\n",
      " |-- sessionId: long (nullable = true)\n",
      " |-- song: string (nullable = true)\n",
      " |-- status: long (nullable = true)\n",
      " |-- ts: long (nullable = true)\n",
      " |-- userAgent: string (nullable = false)\n",
      " |-- userId: string (nullable = true)\n",
      " |-- state: string (nullable = true)\n",
      " |-- ts_date: date (nullable = true)\n",
      " |-- os: string (nullable = false)\n",
      " |-- browser: string (nullable = false)\n",
      "\n"
     ]
    }
   ],
   "source": [
    "df.printSchema()"
   ]
  },
  {
   "cell_type": "code",
   "execution_count": 211,
   "metadata": {},
   "outputs": [
    {
     "data": {
      "text/html": [
       "<table border='1'>\n",
       "<tr><th>os</th><th>count</th></tr>\n",
       "<tr><td>Windows</td><td>133187</td></tr>\n",
       "<tr><td>Macintosh</td><td>102749</td></tr>\n",
       "<tr><td>iPad</td><td>11381</td></tr>\n",
       "<tr><td>iPhone</td><td>11192</td></tr>\n",
       "<tr><td>compatible</td><td>10684</td></tr>\n",
       "<tr><td>X11</td><td>8961</td></tr>\n",
       "<tr><td>Undefined</td><td>8346</td></tr>\n",
       "</table>\n"
      ],
      "text/plain": [
       "+----------+------+\n",
       "|        os| count|\n",
       "+----------+------+\n",
       "|   Windows|133187|\n",
       "| Macintosh|102749|\n",
       "|      iPad| 11381|\n",
       "|    iPhone| 11192|\n",
       "|compatible| 10684|\n",
       "|       X11|  8961|\n",
       "| Undefined|  8346|\n",
       "+----------+------+"
      ]
     },
     "execution_count": 211,
     "metadata": {},
     "output_type": "execute_result"
    }
   ],
   "source": [
    "df.groupby('os').count().sort('count', ascending=[False])"
   ]
  },
  {
   "cell_type": "code",
   "execution_count": 212,
   "metadata": {},
   "outputs": [
    {
     "data": {
      "text/html": [
       "<table border='1'>\n",
       "<tr><th>browser</th><th>count</th></tr>\n",
       "<tr><td>Safari</td><td>168164</td></tr>\n",
       "<tr><td>Undefined</td><td>62690</td></tr>\n",
       "<tr><td>Firefox</td><td>55646</td></tr>\n",
       "</table>\n"
      ],
      "text/plain": [
       "+---------+------+\n",
       "|  browser| count|\n",
       "+---------+------+\n",
       "|   Safari|168164|\n",
       "|Undefined| 62690|\n",
       "|  Firefox| 55646|\n",
       "+---------+------+"
      ]
     },
     "execution_count": 212,
     "metadata": {},
     "output_type": "execute_result"
    }
   ],
   "source": [
    "df.groupby('browser').count().sort('count', ascending=[False])"
   ]
  },
  {
   "cell_type": "code",
   "execution_count": 101,
   "metadata": {},
   "outputs": [
    {
     "name": "stdout",
     "output_type": "stream",
     "text": [
      "+-------------+----------+\n",
      "|ts           |length(ts)|\n",
      "+-------------+----------+\n",
      "|1538352117000|13        |\n",
      "|1538352180000|13        |\n",
      "|1538352394000|13        |\n",
      "|1538352416000|13        |\n",
      "|1538352676000|13        |\n",
      "+-------------+----------+\n",
      "only showing top 5 rows\n",
      "\n"
     ]
    }
   ],
   "source": [
    "df.select(df.ts, length(df.ts)).show(5, False)"
   ]
  },
  {
   "cell_type": "code",
   "execution_count": 97,
   "metadata": {},
   "outputs": [
    {
     "name": "stdout",
     "output_type": "stream",
     "text": [
      "root\n",
      " |-- artist: string (nullable = true)\n",
      " |-- auth: string (nullable = true)\n",
      " |-- firstName: string (nullable = true)\n",
      " |-- gender: string (nullable = false)\n",
      " |-- itemInSession: long (nullable = true)\n",
      " |-- lastName: string (nullable = true)\n",
      " |-- length: double (nullable = true)\n",
      " |-- level: string (nullable = true)\n",
      " |-- location: string (nullable = false)\n",
      " |-- method: string (nullable = true)\n",
      " |-- page: string (nullable = true)\n",
      " |-- registration: long (nullable = true)\n",
      " |-- sessionId: long (nullable = true)\n",
      " |-- song: string (nullable = true)\n",
      " |-- status: long (nullable = true)\n",
      " |-- ts: long (nullable = true)\n",
      " |-- userAgent: string (nullable = true)\n",
      " |-- userId: string (nullable = true)\n",
      " |-- state: string (nullable = true)\n",
      "\n"
     ]
    }
   ],
   "source": [
    "df.printSchema()"
   ]
  },
  {
   "cell_type": "code",
   "execution_count": 207,
   "metadata": {},
   "outputs": [],
   "source": [
    "# We do have the 'ts' in miliseconds, as it is 13 digits long, so we need to first\n",
    "# convert it to seconds dividing it by 1000. Then convert it to a unix timestamp to\n",
    "# use 'to_date' function to finally convert the result to a date we can use.\n",
    "df = df.withColumn('ts_date', to_date(from_unixtime(col('ts') / 1000, 'yyyy-MM-dd HH:mm:ss')))"
   ]
  },
  {
   "cell_type": "code",
   "execution_count": 208,
   "metadata": {},
   "outputs": [
    {
     "name": "stdout",
     "output_type": "stream",
     "text": [
      "root\n",
      " |-- artist: string (nullable = true)\n",
      " |-- auth: string (nullable = true)\n",
      " |-- firstName: string (nullable = true)\n",
      " |-- gender: string (nullable = false)\n",
      " |-- itemInSession: long (nullable = true)\n",
      " |-- lastName: string (nullable = true)\n",
      " |-- length: double (nullable = true)\n",
      " |-- level: string (nullable = true)\n",
      " |-- location: string (nullable = false)\n",
      " |-- method: string (nullable = true)\n",
      " |-- page: string (nullable = true)\n",
      " |-- registration: long (nullable = true)\n",
      " |-- sessionId: long (nullable = true)\n",
      " |-- song: string (nullable = true)\n",
      " |-- status: long (nullable = true)\n",
      " |-- ts: long (nullable = true)\n",
      " |-- userAgent: string (nullable = false)\n",
      " |-- userId: string (nullable = true)\n",
      " |-- state: string (nullable = true)\n",
      " |-- ts_date: date (nullable = true)\n",
      " |-- os: string (nullable = false)\n",
      " |-- browser: string (nullable = false)\n",
      " |-- churn: integer (nullable = false)\n",
      "\n"
     ]
    }
   ],
   "source": [
    "df.printSchema()"
   ]
  },
  {
   "cell_type": "code",
   "execution_count": 209,
   "metadata": {},
   "outputs": [
    {
     "name": "stdout",
     "output_type": "stream",
     "text": [
      "+----------------+---------+---------+------+-------------+--------+---------+-----+------------------------------+------+--------+-------------+---------+-----------------------------+------+-------------+---------------------------------------------------------------------------------------------------------------+------+------+----------+-------+-------+-----+\n",
      "|artist          |auth     |firstName|gender|itemInSession|lastName|length   |level|location                      |method|page    |registration |sessionId|song                         |status|ts           |userAgent                                                                                                      |userId|state |ts_date   |os     |browser|churn|\n",
      "+----------------+---------+---------+------+-------------+--------+---------+-----+------------------------------+------+--------+-------------+---------+-----------------------------+------+-------------+---------------------------------------------------------------------------------------------------------------+------+------+----------+-------+-------+-----+\n",
      "|Martha Tilston  |Logged In|Colin    |M     |50           |Freeman |277.89016|paid |Bakersfield, CA               |PUT   |NextSong|1538173362000|29       |Rockpools                    |200   |1538352117000|Mozilla/5.0 (Windows NT 6.1; WOW64; rv:31.0) Gecko/20100101 Firefox/31.0                                       |30    | CA   |2018-09-30|Windows|Firefox|0    |\n",
      "|Five Iron Frenzy|Logged In|Micah    |M     |79           |Long    |236.09424|free |Boston-Cambridge-Newton, MA-NH|PUT   |NextSong|1538331630000|8        |Canada                       |200   |1538352180000|\"Mozilla/5.0 (Windows NT 6.1; WOW64) AppleWebKit/537.36 (KHTML, like Gecko) Chrome/37.0.2062.103 Safari/537.36\"|9     | MA-NH|2018-09-30|Windows|Safari |0    |\n",
      "|Adam Lambert    |Logged In|Colin    |M     |51           |Freeman |282.8273 |paid |Bakersfield, CA               |PUT   |NextSong|1538173362000|29       |Time For Miracles            |200   |1538352394000|Mozilla/5.0 (Windows NT 6.1; WOW64; rv:31.0) Gecko/20100101 Firefox/31.0                                       |30    | CA   |2018-09-30|Windows|Firefox|0    |\n",
      "|Enigma          |Logged In|Micah    |M     |80           |Long    |262.71302|free |Boston-Cambridge-Newton, MA-NH|PUT   |NextSong|1538331630000|8        |Knocking On Forbidden Doors  |200   |1538352416000|\"Mozilla/5.0 (Windows NT 6.1; WOW64) AppleWebKit/537.36 (KHTML, like Gecko) Chrome/37.0.2062.103 Safari/537.36\"|9     | MA-NH|2018-09-30|Windows|Safari |0    |\n",
      "|Daft Punk       |Logged In|Colin    |M     |52           |Freeman |223.60771|paid |Bakersfield, CA               |PUT   |NextSong|1538173362000|29       |Harder Better Faster Stronger|200   |1538352676000|Mozilla/5.0 (Windows NT 6.1; WOW64; rv:31.0) Gecko/20100101 Firefox/31.0                                       |30    | CA   |2018-09-30|Windows|Firefox|0    |\n",
      "+----------------+---------+---------+------+-------------+--------+---------+-----+------------------------------+------+--------+-------------+---------+-----------------------------+------+-------------+---------------------------------------------------------------------------------------------------------------+------+------+----------+-------+-------+-----+\n",
      "only showing top 5 rows\n",
      "\n"
     ]
    }
   ],
   "source": [
    "df.show(5,False)"
   ]
  },
  {
   "cell_type": "markdown",
   "metadata": {},
   "source": [
    "# Exploratory Data Analysis\n",
    "When you're working with the full dataset, perform EDA by loading a small subset of the data and doing basic manipulations within Spark. In this workspace, you are already provided a small subset of data you can explore.\n",
    "\n",
    "### Define Churn\n",
    "\n",
    "Once you've done some preliminary analysis, create a column `Churn` to use as the label for your model. I suggest using the `Cancellation Confirmation` events to define your churn, which happen for both paid and free users. As a bonus task, you can also look into the `Downgrade` events.\n",
    "\n",
    "### Explore Data\n",
    "Once you've defined churn, perform some exploratory data analysis to observe the behavior for users who stayed vs users who churned. You can start by exploring aggregates on these two groups of users, observing how much of a specific action they experienced per a certain time unit or number of songs played."
   ]
  },
  {
   "cell_type": "code",
   "execution_count": 205,
   "metadata": {},
   "outputs": [],
   "source": [
    "df = df.withColumn('churn', when(df['page'] == 'Cancellation Confirmation', 1).otherwise(0))\n",
    "df = df.withColumn('churn', when(df['page'] == 'Submit Downgrade', 1).otherwise(df['churn']))"
   ]
  },
  {
   "cell_type": "code",
   "execution_count": 206,
   "metadata": {},
   "outputs": [
    {
     "data": {
      "text/html": [
       "<table border='1'>\n",
       "<tr><th>churn</th><th>count</th></tr>\n",
       "<tr><td>0</td><td>286385</td></tr>\n",
       "<tr><td>1</td><td>115</td></tr>\n",
       "</table>\n"
      ],
      "text/plain": [
       "+-----+------+\n",
       "|churn| count|\n",
       "+-----+------+\n",
       "|    0|286385|\n",
       "|    1|   115|\n",
       "+-----+------+"
      ]
     },
     "execution_count": 206,
     "metadata": {},
     "output_type": "execute_result"
    }
   ],
   "source": [
    "df.groupby('churn').count().sort('count', ascending=[False])"
   ]
  },
  {
   "cell_type": "markdown",
   "metadata": {},
   "source": [
    "# Feature Engineering\n",
    "Once you've familiarized yourself with the data, build out the features you find promising to train your model on. To work with the full dataset, you can follow the following steps.\n",
    "- Write a script to extract the necessary features from the smaller subset of data\n",
    "- Ensure that your script is scalable, using the best practices discussed in Lesson 3\n",
    "- Try your script on the full data set, debugging your script if necessary\n",
    "\n",
    "If you are working in the classroom workspace, you can just extract features based on the small subset of data contained here. Be sure to transfer over this work to the larger dataset when you work on your Spark cluster."
   ]
  },
  {
   "cell_type": "code",
   "execution_count": null,
   "metadata": {},
   "outputs": [],
   "source": []
  },
  {
   "cell_type": "markdown",
   "metadata": {},
   "source": [
    "# Modeling\n",
    "Split the full dataset into train, test, and validation sets. Test out several of the machine learning methods you learned. Evaluate the accuracy of the various models, tuning parameters as necessary. Determine your winning model based on test accuracy and report results on the validation set. Since the churned users are a fairly small subset, I suggest using F1 score as the metric to optimize."
   ]
  },
  {
   "cell_type": "code",
   "execution_count": null,
   "metadata": {},
   "outputs": [],
   "source": []
  },
  {
   "cell_type": "markdown",
   "metadata": {},
   "source": [
    "# Final Steps\n",
    "Clean up your code, adding comments and renaming variables to make the code easier to read and maintain. Refer to the Spark Project Overview page and Data Scientist Capstone Project Rubric to make sure you are including all components of the capstone project and meet all expectations. Remember, this includes thorough documentation in a README file in a Github repository, as well as a web app or blog post."
   ]
  },
  {
   "cell_type": "code",
   "execution_count": null,
   "metadata": {},
   "outputs": [],
   "source": []
  }
 ],
 "metadata": {
  "kernelspec": {
   "display_name": "Python 3",
   "language": "python",
   "name": "python3"
  },
  "language_info": {
   "codemirror_mode": {
    "name": "ipython",
    "version": 3
   },
   "file_extension": ".py",
   "mimetype": "text/x-python",
   "name": "python",
   "nbconvert_exporter": "python",
   "pygments_lexer": "ipython3",
   "version": "3.7.6"
  }
 },
 "nbformat": 4,
 "nbformat_minor": 4
}
